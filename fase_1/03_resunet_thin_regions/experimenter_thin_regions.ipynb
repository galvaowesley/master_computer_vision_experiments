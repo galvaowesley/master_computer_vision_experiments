{
 "cells": [
  {
   "attachments": {},
   "cell_type": "markdown",
   "metadata": {},
   "source": [
    "### Segmentation of a blood vessel dataset containing large images\n",
    "\n",
    "The training is done by randomly croping the images instead of using the entire images.\n",
    "\n",
    "To download the dataset, run the following cell:"
   ]
  },
  {
   "cell_type": "code",
   "execution_count": null,
   "metadata": {},
   "outputs": [],
   "source": [
    "# ! pip install lightning\n",
    "# ! pip install tensorboard"
   ]
  },
  {
   "cell_type": "code",
   "execution_count": null,
   "metadata": {},
   "outputs": [],
   "source": [
    "# from dataset_thin_region import download\n",
    "# download(directory='data')"
   ]
  },
  {
   "cell_type": "markdown",
   "metadata": {},
   "source": [
    "# Functions"
   ]
  },
  {
   "cell_type": "code",
   "execution_count": 13,
   "metadata": {},
   "outputs": [],
   "source": [
    "def get_image_label_prediction(model, dataset, img_idx):\n",
    "    \"\"\"\n",
    "    Obtains the original image, equalized image, label, filename, and prediction for a given image index.\n",
    "\n",
    "    Parameters\n",
    "    ----------\n",
    "        * model (torch.nn.Module): The model used for prediction.\n",
    "        * dataset (torch.utils.data.Dataset): The dataset containing the images.\n",
    "        * img_idx (int): The index of the image to retrieve.\n",
    "\n",
    "    Returns\n",
    "    -------\n",
    "        * img_or (numpy.ndarray): The original image.\n",
    "        * img_equalized (numpy.ndarray): The equalized image.\n",
    "        * label (int): The label of the image.\n",
    "        * filename (str): The filename of the image.\n",
    "        * pre/d (torch.Tensor): The prediction of the model for the image.\n",
    "    \"\"\"\n",
    "    # Get original image from dataset\n",
    "    img_or, _ = dataset.get_item(img_idx)\n",
    "    img_or = np.array(img_or)\n",
    "    # Get equalized image and its label\n",
    "    img_equalized, label = dataset[img_idx]\n",
    "    # Get filename\n",
    "    filename = dataset.img_file_paths[img_idx].stem\n",
    "\n",
    "    # Prediction\n",
    "    with torch.no_grad():\n",
    "        pred = model(img_equalized[None].to('cuda')).cpu()\n",
    "\n",
    "    return img_or, img_equalized, label, filename, pred\n",
    "\n",
    "def get_inference_iou(model, dataset):\n",
    "    \"\"\"\n",
    "    Calculates the Intersection over Union (IoU) for each image in the dataset.\n",
    "\n",
    "    Parameters\n",
    "    ----------\n",
    "        * model (object): The trained model used for prediction.\n",
    "        * dataset (object): The dataset containing the images and labels.\n",
    "\n",
    "    Returns\n",
    "    -------\n",
    "        * prediction_summary (DataFrame): A DataFrame containing the image index and the corresponding IoU.\n",
    "    \"\"\"\n",
    "    # Define columns names\n",
    "    columns_ = ['img_idx', 'prediction_iou']\n",
    "    # Create dataframe\n",
    "    prediction_summary = pd.DataFrame(columns = columns_)\n",
    "    # Get dataset len\n",
    "    dataset_len = len(dataset)\n",
    "\n",
    "    for img_idx in range(dataset_len):\n",
    "\n",
    "        img_or, img_equalized, label, filename, pred = get_image_label_prediction(model, dataset, img_idx)\n",
    "        iou = perf_funcs.segmentation_accuracy(pred, label[None], meas = 'iou')\n",
    "\n",
    "        # A dictionary to store the data\n",
    "        results_dict = {\n",
    "            \"img_idx\" : img_idx,\n",
    "            \"prediction_iou\" : iou.numpy(),\n",
    "        }\n",
    "\n",
    "        # Convert the dict to dataframe\n",
    "        df_result = pd.DataFrame([results_dict])\n",
    "        # Concact df_result with prediction_summary to append a new row\n",
    "        prediction_summary = pd.concat([prediction_summary, df_result])\n",
    "\n",
    "    # Reset indexes\n",
    "    prediction_summary.reset_index(drop = True, inplace = True)\n",
    "\n",
    "    return prediction_summary\n",
    "\n",
    "\n"
   ]
  },
  {
   "cell_type": "code",
   "execution_count": 9,
   "metadata": {},
   "outputs": [],
   "source": [
    "def load_model_with_checkpoint(checkpoint_path, model):\n",
    "    \"\"\"\n",
    "    Loads a PyTorch model with a checkpoint.\n",
    "\n",
    "    Parameters\n",
    "    ----------\n",
    "        * checkpoint_path (str): The path to the checkpoint file.\n",
    "        * model (nn.Module): The PyTorch model to load the checkpoint into.\n",
    "\n",
    "    Returns\n",
    "    -------\n",
    "        * nn.Module: The PyTorch model with the loaded checkpoint.\n",
    "    \"\"\"\n",
    "    \n",
    "    # Load checkpoint\n",
    "    checkpoint = torch.load(checkpoint_path, map_location=torch.device('cuda'))\n",
    "\n",
    "    # Extract the state dictionary from the checkpoint\n",
    "    state_dict = checkpoint['state_dict']\n",
    "\n",
    "    # Create a new dictionary to store the model state\n",
    "    new_state_dict = {}\n",
    "\n",
    "    # Iterate over each item in the state dictionary\n",
    "    for k, v in state_dict.items():\n",
    "        # If the item's key starts with 'model.', remove this prefix from the key\n",
    "        # and add the item to the new state dictionary\n",
    "        if k.startswith('model.'):\n",
    "            new_state_dict[k[6:]] = v\n",
    "\n",
    "    # Load the model state from the new state dictionary\n",
    "    model.load_state_dict(new_state_dict)\n",
    "\n",
    "    # Put the model in evaluation mode\n",
    "    model.eval()\n",
    "    model.cuda()\n",
    "\n",
    "    return model"
   ]
  },
  {
   "cell_type": "code",
   "execution_count": 10,
   "metadata": {},
   "outputs": [],
   "source": [
    "import os \n",
    "os.environ['CUDA_LAUNCH_BLOCKING'] = \"1\""
   ]
  },
  {
   "cell_type": "markdown",
   "metadata": {},
   "source": [
    "# Training"
   ]
  },
  {
   "cell_type": "code",
   "execution_count": 4,
   "metadata": {
    "ExecuteTime": {
     "end_time": "2024-01-11T21:03:19.880152069Z",
     "start_time": "2024-01-11T21:03:19.430727606Z"
    }
   },
   "outputs": [
    {
     "name": "stdout",
     "output_type": "stream",
     "text": [
      "CPU times: user 1.82 s, sys: 714 ms, total: 2.53 s\n",
      "Wall time: 2.56 s\n"
     ]
    }
   ],
   "source": [
    "%%time\n",
    "import random\n",
    "from pathlib import Path\n",
    "import matplotlib.pyplot as plt\n",
    "import torch\n",
    "\n",
    "import train_thin_regions_lightning as train_lightning\n",
    "import dataset_thin_region as dataset\n",
    "import torchtrainer\n",
    "\n",
    "import torchtrainer.models.resunet as resunet\n",
    "from torchtrainer import perf_funcs\n",
    "\n",
    "import pandas as pd\n",
    "import numpy as np\n",
    "import plotly.express as px\n",
    "\n",
    "img_path = '/home/wesleygalvao/Documents/repositorios/thin-object-selection/data/ThinObject5K_fine_tuning/images'\n",
    "label_path = '/home/wesleygalvao/Documents/repositorios/thin-object-selection/data/ThinObject5K_fine_tuning/masks'\n",
    "\n",
    "params = {\n",
    "    # Dataset\n",
    "    'img_dir': Path(img_path),\n",
    "    'label_dir': Path(label_path),\n",
    "    'crop_size': (256, 256),          \n",
    "    'train_val_split': 0.1,\n",
    "    # Model\n",
    "    'model_layers': (3,3,3,3), \n",
    "    'model_channels': (16,32,64,128), \n",
    "    'model_type': 'unet',\n",
    "    # Training\n",
    "    'epochs': 100,\n",
    "    'lr': 0.01,\n",
    "    'batch_size_train': 8,\n",
    "    'batch_size_valid': 8, #132,\n",
    "    'momentum': 0.9,\n",
    "    'weight_decay': 0.,\n",
    "    'seed': 12,\n",
    "    'loss': 'cross_entropy',\n",
    "    'scheduler_power': 0.9,\n",
    "    'class_weights': (0.3414, 0.6586),\n",
    "    # Efficiency\n",
    "    'device': 'cuda',\n",
    "    'num_workers': 3,  # 3 is a good compromise\n",
    "    'use_amp': True,\n",
    "    'pin_memory': False,\n",
    "    'non_blocking': False,\n",
    "    # Logging\n",
    "    'log_dir': 'logs',\n",
    "    'experiment':'unet_l_3_3_3_3_c_16_32_64_128_e_100_lr_0.01_bs_8',\n",
    "    'save_every':1,                \n",
    "    'save_best':True,\n",
    "    # Other\n",
    "    'resume': False,\n",
    "    'meta': None\n",
    "}\n",
    "\n"
   ]
  },
  {
   "cell_type": "code",
   "execution_count": 5,
   "metadata": {},
   "outputs": [],
   "source": [
    "# Load dataset\n",
    "ds_train, ds_valid = dataset.create_datasets(img_path, label_path)"
   ]
  },
  {
   "cell_type": "code",
   "execution_count": 41,
   "metadata": {},
   "outputs": [
    {
     "name": "stderr",
     "output_type": "stream",
     "text": [
      "Seed set to 12\n",
      "Using 16bit Automatic Mixed Precision (AMP)\n",
      "GPU available: True (cuda), used: True\n",
      "TPU available: False, using: 0 TPU cores\n",
      "IPU available: False, using: 0 IPUs\n",
      "HPU available: False, using: 0 HPUs\n",
      "LOCAL_RANK: 0 - CUDA_VISIBLE_DEVICES: [0]\n",
      "\n",
      "  | Name      | Type             | Params\n",
      "-----------------------------------------------\n",
      "0 | loss_func | CrossEntropyLoss | 0     \n",
      "1 | model     | ResUNet          | 1.8 M \n",
      "-----------------------------------------------\n",
      "1.8 M     Trainable params\n",
      "0         Non-trainable params\n",
      "1.8 M     Total params\n",
      "7.078     Total estimated model params size (MB)\n"
     ]
    },
    {
     "data": {
      "application/vnd.jupyter.widget-view+json": {
       "model_id": "4b3525c4a693485898040b77602b8576",
       "version_major": 2,
       "version_minor": 0
      },
      "text/plain": [
       "Sanity Checking: |          | 0/? [00:00<?, ?it/s]"
      ]
     },
     "metadata": {},
     "output_type": "display_data"
    },
    {
     "data": {
      "application/vnd.jupyter.widget-view+json": {
       "model_id": "b37071cd1e504cad812267bfa755ea60",
       "version_major": 2,
       "version_minor": 0
      },
      "text/plain": [
       "Training: |          | 0/? [00:00<?, ?it/s]"
      ]
     },
     "metadata": {},
     "output_type": "display_data"
    },
    {
     "name": "stderr",
     "output_type": "stream",
     "text": [
      "/home/wesleygalvao/anaconda3/envs/mestrado_env/lib/python3.11/site-packages/torch/optim/lr_scheduler.py:136: UserWarning: Detected call of `lr_scheduler.step()` before `optimizer.step()`. In PyTorch 1.1.0 and later, you should call them in the opposite order: `optimizer.step()` before `lr_scheduler.step()`.  Failure to do this will result in PyTorch skipping the first value of the learning rate schedule. See more details at https://pytorch.org/docs/stable/optim.html#how-to-adjust-learning-rate\n",
      "  warnings.warn(\"Detected call of `lr_scheduler.step()` before `optimizer.step()`. \"\n"
     ]
    },
    {
     "data": {
      "application/vnd.jupyter.widget-view+json": {
       "model_id": "8c75c49154364e88a95bc213bde3b336",
       "version_major": 2,
       "version_minor": 0
      },
      "text/plain": [
       "Validation: |          | 0/? [00:00<?, ?it/s]"
      ]
     },
     "metadata": {},
     "output_type": "display_data"
    },
    {
     "data": {
      "application/vnd.jupyter.widget-view+json": {
       "model_id": "91e1f8fc164746288c17c30f626c6fb1",
       "version_major": 2,
       "version_minor": 0
      },
      "text/plain": [
       "Validation: |          | 0/? [00:00<?, ?it/s]"
      ]
     },
     "metadata": {},
     "output_type": "display_data"
    },
    {
     "data": {
      "application/vnd.jupyter.widget-view+json": {
       "model_id": "a4e1d9a56fe6491bb1a02fae1052187e",
       "version_major": 2,
       "version_minor": 0
      },
      "text/plain": [
       "Validation: |          | 0/? [00:00<?, ?it/s]"
      ]
     },
     "metadata": {},
     "output_type": "display_data"
    },
    {
     "data": {
      "application/vnd.jupyter.widget-view+json": {
       "model_id": "f229d4b2b2f54b4599af9aedc2b3bbb0",
       "version_major": 2,
       "version_minor": 0
      },
      "text/plain": [
       "Validation: |          | 0/? [00:00<?, ?it/s]"
      ]
     },
     "metadata": {},
     "output_type": "display_data"
    },
    {
     "data": {
      "application/vnd.jupyter.widget-view+json": {
       "model_id": "c9e2dd31b2ce4473a35d99c9ccd6672b",
       "version_major": 2,
       "version_minor": 0
      },
      "text/plain": [
       "Validation: |          | 0/? [00:00<?, ?it/s]"
      ]
     },
     "metadata": {},
     "output_type": "display_data"
    },
    {
     "data": {
      "application/vnd.jupyter.widget-view+json": {
       "model_id": "4dfb92f5183b4da69e1ec63e8fd6eb37",
       "version_major": 2,
       "version_minor": 0
      },
      "text/plain": [
       "Validation: |          | 0/? [00:00<?, ?it/s]"
      ]
     },
     "metadata": {},
     "output_type": "display_data"
    },
    {
     "data": {
      "application/vnd.jupyter.widget-view+json": {
       "model_id": "30d4bcd825f949c7910b9f8580212f56",
       "version_major": 2,
       "version_minor": 0
      },
      "text/plain": [
       "Validation: |          | 0/? [00:00<?, ?it/s]"
      ]
     },
     "metadata": {},
     "output_type": "display_data"
    },
    {
     "data": {
      "application/vnd.jupyter.widget-view+json": {
       "model_id": "51e7040b44244208b4bee2808cf9bcdc",
       "version_major": 2,
       "version_minor": 0
      },
      "text/plain": [
       "Validation: |          | 0/? [00:00<?, ?it/s]"
      ]
     },
     "metadata": {},
     "output_type": "display_data"
    },
    {
     "data": {
      "application/vnd.jupyter.widget-view+json": {
       "model_id": "45d6dab0245f43118a7b3d5b9ff53b58",
       "version_major": 2,
       "version_minor": 0
      },
      "text/plain": [
       "Validation: |          | 0/? [00:00<?, ?it/s]"
      ]
     },
     "metadata": {},
     "output_type": "display_data"
    },
    {
     "data": {
      "application/vnd.jupyter.widget-view+json": {
       "model_id": "73e32184f20d44d28a906d08b919da19",
       "version_major": 2,
       "version_minor": 0
      },
      "text/plain": [
       "Validation: |          | 0/? [00:00<?, ?it/s]"
      ]
     },
     "metadata": {},
     "output_type": "display_data"
    },
    {
     "data": {
      "application/vnd.jupyter.widget-view+json": {
       "model_id": "9b0d138e3f6f4c36a047b4e7710c4fa5",
       "version_major": 2,
       "version_minor": 0
      },
      "text/plain": [
       "Validation: |          | 0/? [00:00<?, ?it/s]"
      ]
     },
     "metadata": {},
     "output_type": "display_data"
    },
    {
     "data": {
      "application/vnd.jupyter.widget-view+json": {
       "model_id": "c28ee30a623d43408970ebb8a835d0db",
       "version_major": 2,
       "version_minor": 0
      },
      "text/plain": [
       "Validation: |          | 0/? [00:00<?, ?it/s]"
      ]
     },
     "metadata": {},
     "output_type": "display_data"
    },
    {
     "data": {
      "application/vnd.jupyter.widget-view+json": {
       "model_id": "c33658b96bc24a7090b8ebeb0d7f998b",
       "version_major": 2,
       "version_minor": 0
      },
      "text/plain": [
       "Validation: |          | 0/? [00:00<?, ?it/s]"
      ]
     },
     "metadata": {},
     "output_type": "display_data"
    },
    {
     "data": {
      "application/vnd.jupyter.widget-view+json": {
       "model_id": "d987e0aca79247bfa6b83d937ed72527",
       "version_major": 2,
       "version_minor": 0
      },
      "text/plain": [
       "Validation: |          | 0/? [00:00<?, ?it/s]"
      ]
     },
     "metadata": {},
     "output_type": "display_data"
    },
    {
     "data": {
      "application/vnd.jupyter.widget-view+json": {
       "model_id": "6e12643f7a7e47829722e721fb443d0c",
       "version_major": 2,
       "version_minor": 0
      },
      "text/plain": [
       "Validation: |          | 0/? [00:00<?, ?it/s]"
      ]
     },
     "metadata": {},
     "output_type": "display_data"
    },
    {
     "data": {
      "application/vnd.jupyter.widget-view+json": {
       "model_id": "5d108be224cb4f748bc6ef4b45a75781",
       "version_major": 2,
       "version_minor": 0
      },
      "text/plain": [
       "Validation: |          | 0/? [00:00<?, ?it/s]"
      ]
     },
     "metadata": {},
     "output_type": "display_data"
    },
    {
     "data": {
      "application/vnd.jupyter.widget-view+json": {
       "model_id": "a2cadefb3261468cae83746bc6304d83",
       "version_major": 2,
       "version_minor": 0
      },
      "text/plain": [
       "Validation: |          | 0/? [00:00<?, ?it/s]"
      ]
     },
     "metadata": {},
     "output_type": "display_data"
    },
    {
     "data": {
      "application/vnd.jupyter.widget-view+json": {
       "model_id": "b415d33dfc9d41e0b6efcf0bf63125eb",
       "version_major": 2,
       "version_minor": 0
      },
      "text/plain": [
       "Validation: |          | 0/? [00:00<?, ?it/s]"
      ]
     },
     "metadata": {},
     "output_type": "display_data"
    },
    {
     "data": {
      "application/vnd.jupyter.widget-view+json": {
       "model_id": "f10a23c87b1f411e9b07afdb48c168fe",
       "version_major": 2,
       "version_minor": 0
      },
      "text/plain": [
       "Validation: |          | 0/? [00:00<?, ?it/s]"
      ]
     },
     "metadata": {},
     "output_type": "display_data"
    },
    {
     "data": {
      "application/vnd.jupyter.widget-view+json": {
       "model_id": "02ca4ff6c2fb4a999a88d44962badfef",
       "version_major": 2,
       "version_minor": 0
      },
      "text/plain": [
       "Validation: |          | 0/? [00:00<?, ?it/s]"
      ]
     },
     "metadata": {},
     "output_type": "display_data"
    },
    {
     "data": {
      "application/vnd.jupyter.widget-view+json": {
       "model_id": "69d6c3ba8ec74be8bb4301d91c62b99f",
       "version_major": 2,
       "version_minor": 0
      },
      "text/plain": [
       "Validation: |          | 0/? [00:00<?, ?it/s]"
      ]
     },
     "metadata": {},
     "output_type": "display_data"
    },
    {
     "data": {
      "application/vnd.jupyter.widget-view+json": {
       "model_id": "c62857bed13d484083e1000def61bc96",
       "version_major": 2,
       "version_minor": 0
      },
      "text/plain": [
       "Validation: |          | 0/? [00:00<?, ?it/s]"
      ]
     },
     "metadata": {},
     "output_type": "display_data"
    },
    {
     "data": {
      "application/vnd.jupyter.widget-view+json": {
       "model_id": "7746cc5a8fd64844b77bcc94ccde4687",
       "version_major": 2,
       "version_minor": 0
      },
      "text/plain": [
       "Validation: |          | 0/? [00:00<?, ?it/s]"
      ]
     },
     "metadata": {},
     "output_type": "display_data"
    },
    {
     "data": {
      "application/vnd.jupyter.widget-view+json": {
       "model_id": "cc26a5a2d4ef41d5a174292f37909cea",
       "version_major": 2,
       "version_minor": 0
      },
      "text/plain": [
       "Validation: |          | 0/? [00:00<?, ?it/s]"
      ]
     },
     "metadata": {},
     "output_type": "display_data"
    },
    {
     "data": {
      "application/vnd.jupyter.widget-view+json": {
       "model_id": "63f0c4440d0f464fbd8300500235cfcd",
       "version_major": 2,
       "version_minor": 0
      },
      "text/plain": [
       "Validation: |          | 0/? [00:00<?, ?it/s]"
      ]
     },
     "metadata": {},
     "output_type": "display_data"
    },
    {
     "data": {
      "application/vnd.jupyter.widget-view+json": {
       "model_id": "a3474ad476284e06a6b2d870609a824b",
       "version_major": 2,
       "version_minor": 0
      },
      "text/plain": [
       "Validation: |          | 0/? [00:00<?, ?it/s]"
      ]
     },
     "metadata": {},
     "output_type": "display_data"
    },
    {
     "data": {
      "application/vnd.jupyter.widget-view+json": {
       "model_id": "2981d3bc59544433946f2ce18e9d1069",
       "version_major": 2,
       "version_minor": 0
      },
      "text/plain": [
       "Validation: |          | 0/? [00:00<?, ?it/s]"
      ]
     },
     "metadata": {},
     "output_type": "display_data"
    },
    {
     "data": {
      "application/vnd.jupyter.widget-view+json": {
       "model_id": "33b34addbe974e7eb880e024ce7e8418",
       "version_major": 2,
       "version_minor": 0
      },
      "text/plain": [
       "Validation: |          | 0/? [00:00<?, ?it/s]"
      ]
     },
     "metadata": {},
     "output_type": "display_data"
    },
    {
     "data": {
      "application/vnd.jupyter.widget-view+json": {
       "model_id": "9c377d27d98f439e90ba6f0262bc7bdf",
       "version_major": 2,
       "version_minor": 0
      },
      "text/plain": [
       "Validation: |          | 0/? [00:00<?, ?it/s]"
      ]
     },
     "metadata": {},
     "output_type": "display_data"
    },
    {
     "data": {
      "application/vnd.jupyter.widget-view+json": {
       "model_id": "c4af4fa795f84dd591420d186cf2d896",
       "version_major": 2,
       "version_minor": 0
      },
      "text/plain": [
       "Validation: |          | 0/? [00:00<?, ?it/s]"
      ]
     },
     "metadata": {},
     "output_type": "display_data"
    },
    {
     "data": {
      "application/vnd.jupyter.widget-view+json": {
       "model_id": "be20ca4187b74ab9aadd977fc3ff6527",
       "version_major": 2,
       "version_minor": 0
      },
      "text/plain": [
       "Validation: |          | 0/? [00:00<?, ?it/s]"
      ]
     },
     "metadata": {},
     "output_type": "display_data"
    },
    {
     "data": {
      "application/vnd.jupyter.widget-view+json": {
       "model_id": "ea23f8e2b1fd45c7bc94fdf60178f3f4",
       "version_major": 2,
       "version_minor": 0
      },
      "text/plain": [
       "Validation: |          | 0/? [00:00<?, ?it/s]"
      ]
     },
     "metadata": {},
     "output_type": "display_data"
    },
    {
     "data": {
      "application/vnd.jupyter.widget-view+json": {
       "model_id": "0b0e6fd65fa6400a9e1ce5a76dcfb356",
       "version_major": 2,
       "version_minor": 0
      },
      "text/plain": [
       "Validation: |          | 0/? [00:00<?, ?it/s]"
      ]
     },
     "metadata": {},
     "output_type": "display_data"
    },
    {
     "data": {
      "application/vnd.jupyter.widget-view+json": {
       "model_id": "274759f8cfab4940b24e27051a768fa5",
       "version_major": 2,
       "version_minor": 0
      },
      "text/plain": [
       "Validation: |          | 0/? [00:00<?, ?it/s]"
      ]
     },
     "metadata": {},
     "output_type": "display_data"
    },
    {
     "data": {
      "application/vnd.jupyter.widget-view+json": {
       "model_id": "c94c3b251b6347e4889fbaa12fbeda81",
       "version_major": 2,
       "version_minor": 0
      },
      "text/plain": [
       "Validation: |          | 0/? [00:00<?, ?it/s]"
      ]
     },
     "metadata": {},
     "output_type": "display_data"
    },
    {
     "data": {
      "application/vnd.jupyter.widget-view+json": {
       "model_id": "5fb78c6e10ff428799427e1275ed0cc2",
       "version_major": 2,
       "version_minor": 0
      },
      "text/plain": [
       "Validation: |          | 0/? [00:00<?, ?it/s]"
      ]
     },
     "metadata": {},
     "output_type": "display_data"
    },
    {
     "data": {
      "application/vnd.jupyter.widget-view+json": {
       "model_id": "4785d4df46e74b05b5b9d6cbd771527b",
       "version_major": 2,
       "version_minor": 0
      },
      "text/plain": [
       "Validation: |          | 0/? [00:00<?, ?it/s]"
      ]
     },
     "metadata": {},
     "output_type": "display_data"
    },
    {
     "data": {
      "application/vnd.jupyter.widget-view+json": {
       "model_id": "8d4d7176d7524fdca4854869f534d860",
       "version_major": 2,
       "version_minor": 0
      },
      "text/plain": [
       "Validation: |          | 0/? [00:00<?, ?it/s]"
      ]
     },
     "metadata": {},
     "output_type": "display_data"
    },
    {
     "data": {
      "application/vnd.jupyter.widget-view+json": {
       "model_id": "caa48d824c42411ab8a7aeb63feca960",
       "version_major": 2,
       "version_minor": 0
      },
      "text/plain": [
       "Validation: |          | 0/? [00:00<?, ?it/s]"
      ]
     },
     "metadata": {},
     "output_type": "display_data"
    },
    {
     "data": {
      "application/vnd.jupyter.widget-view+json": {
       "model_id": "fd90fec5518e41b28fda34e069139448",
       "version_major": 2,
       "version_minor": 0
      },
      "text/plain": [
       "Validation: |          | 0/? [00:00<?, ?it/s]"
      ]
     },
     "metadata": {},
     "output_type": "display_data"
    },
    {
     "data": {
      "application/vnd.jupyter.widget-view+json": {
       "model_id": "7dff97e4764842638b6a0fef57e7c046",
       "version_major": 2,
       "version_minor": 0
      },
      "text/plain": [
       "Validation: |          | 0/? [00:00<?, ?it/s]"
      ]
     },
     "metadata": {},
     "output_type": "display_data"
    },
    {
     "data": {
      "application/vnd.jupyter.widget-view+json": {
       "model_id": "5626f80e34f747ab8bdf89a7476bb090",
       "version_major": 2,
       "version_minor": 0
      },
      "text/plain": [
       "Validation: |          | 0/? [00:00<?, ?it/s]"
      ]
     },
     "metadata": {},
     "output_type": "display_data"
    },
    {
     "data": {
      "application/vnd.jupyter.widget-view+json": {
       "model_id": "d43bd93e8d3e466bae1d967c62858c70",
       "version_major": 2,
       "version_minor": 0
      },
      "text/plain": [
       "Validation: |          | 0/? [00:00<?, ?it/s]"
      ]
     },
     "metadata": {},
     "output_type": "display_data"
    },
    {
     "data": {
      "application/vnd.jupyter.widget-view+json": {
       "model_id": "5a5d5e32cdb84abe86831d9dec54a931",
       "version_major": 2,
       "version_minor": 0
      },
      "text/plain": [
       "Validation: |          | 0/? [00:00<?, ?it/s]"
      ]
     },
     "metadata": {},
     "output_type": "display_data"
    },
    {
     "data": {
      "application/vnd.jupyter.widget-view+json": {
       "model_id": "d7a6a8fddaba4cafba772665b8e353e3",
       "version_major": 2,
       "version_minor": 0
      },
      "text/plain": [
       "Validation: |          | 0/? [00:00<?, ?it/s]"
      ]
     },
     "metadata": {},
     "output_type": "display_data"
    },
    {
     "data": {
      "application/vnd.jupyter.widget-view+json": {
       "model_id": "5a2a2e95e8c7412b8796db3fcf0b2b17",
       "version_major": 2,
       "version_minor": 0
      },
      "text/plain": [
       "Validation: |          | 0/? [00:00<?, ?it/s]"
      ]
     },
     "metadata": {},
     "output_type": "display_data"
    },
    {
     "data": {
      "application/vnd.jupyter.widget-view+json": {
       "model_id": "91f3d1e5a8be427abf85aa58fba3e5ed",
       "version_major": 2,
       "version_minor": 0
      },
      "text/plain": [
       "Validation: |          | 0/? [00:00<?, ?it/s]"
      ]
     },
     "metadata": {},
     "output_type": "display_data"
    },
    {
     "data": {
      "application/vnd.jupyter.widget-view+json": {
       "model_id": "426df992c7d74af38f6a517a29ec1757",
       "version_major": 2,
       "version_minor": 0
      },
      "text/plain": [
       "Validation: |          | 0/? [00:00<?, ?it/s]"
      ]
     },
     "metadata": {},
     "output_type": "display_data"
    },
    {
     "data": {
      "application/vnd.jupyter.widget-view+json": {
       "model_id": "a6bf3df1dd5d4ba8bff184ef04782ad5",
       "version_major": 2,
       "version_minor": 0
      },
      "text/plain": [
       "Validation: |          | 0/? [00:00<?, ?it/s]"
      ]
     },
     "metadata": {},
     "output_type": "display_data"
    },
    {
     "data": {
      "application/vnd.jupyter.widget-view+json": {
       "model_id": "5b6991d9b3b84855af3a6f835be4cfbc",
       "version_major": 2,
       "version_minor": 0
      },
      "text/plain": [
       "Validation: |          | 0/? [00:00<?, ?it/s]"
      ]
     },
     "metadata": {},
     "output_type": "display_data"
    },
    {
     "data": {
      "application/vnd.jupyter.widget-view+json": {
       "model_id": "cc27129a47734e88aa4319a1cc671e51",
       "version_major": 2,
       "version_minor": 0
      },
      "text/plain": [
       "Validation: |          | 0/? [00:00<?, ?it/s]"
      ]
     },
     "metadata": {},
     "output_type": "display_data"
    },
    {
     "data": {
      "application/vnd.jupyter.widget-view+json": {
       "model_id": "0103f6f9c7504c33bf570e6460c179bb",
       "version_major": 2,
       "version_minor": 0
      },
      "text/plain": [
       "Validation: |          | 0/? [00:00<?, ?it/s]"
      ]
     },
     "metadata": {},
     "output_type": "display_data"
    },
    {
     "data": {
      "application/vnd.jupyter.widget-view+json": {
       "model_id": "f80db1b8bfb24c3a9895cd2408d48ba3",
       "version_major": 2,
       "version_minor": 0
      },
      "text/plain": [
       "Validation: |          | 0/? [00:00<?, ?it/s]"
      ]
     },
     "metadata": {},
     "output_type": "display_data"
    },
    {
     "data": {
      "application/vnd.jupyter.widget-view+json": {
       "model_id": "a5b2d655d9a1476d91cc4450418474bd",
       "version_major": 2,
       "version_minor": 0
      },
      "text/plain": [
       "Validation: |          | 0/? [00:00<?, ?it/s]"
      ]
     },
     "metadata": {},
     "output_type": "display_data"
    },
    {
     "data": {
      "application/vnd.jupyter.widget-view+json": {
       "model_id": "bab65c63108a4faea575bf4fcb61bd80",
       "version_major": 2,
       "version_minor": 0
      },
      "text/plain": [
       "Validation: |          | 0/? [00:00<?, ?it/s]"
      ]
     },
     "metadata": {},
     "output_type": "display_data"
    },
    {
     "data": {
      "application/vnd.jupyter.widget-view+json": {
       "model_id": "2e2f6a9a0e2745abaf02bf9d9c65ecec",
       "version_major": 2,
       "version_minor": 0
      },
      "text/plain": [
       "Validation: |          | 0/? [00:00<?, ?it/s]"
      ]
     },
     "metadata": {},
     "output_type": "display_data"
    },
    {
     "data": {
      "application/vnd.jupyter.widget-view+json": {
       "model_id": "62e373d98b5c48279db0e7fd8c74cb30",
       "version_major": 2,
       "version_minor": 0
      },
      "text/plain": [
       "Validation: |          | 0/? [00:00<?, ?it/s]"
      ]
     },
     "metadata": {},
     "output_type": "display_data"
    },
    {
     "data": {
      "application/vnd.jupyter.widget-view+json": {
       "model_id": "86d5b7cf64834464b1ffb7662cc29568",
       "version_major": 2,
       "version_minor": 0
      },
      "text/plain": [
       "Validation: |          | 0/? [00:00<?, ?it/s]"
      ]
     },
     "metadata": {},
     "output_type": "display_data"
    },
    {
     "data": {
      "application/vnd.jupyter.widget-view+json": {
       "model_id": "34f2eaff0266423abf44f137627ec34c",
       "version_major": 2,
       "version_minor": 0
      },
      "text/plain": [
       "Validation: |          | 0/? [00:00<?, ?it/s]"
      ]
     },
     "metadata": {},
     "output_type": "display_data"
    },
    {
     "data": {
      "application/vnd.jupyter.widget-view+json": {
       "model_id": "95a037853622400d84e5e705276f7376",
       "version_major": 2,
       "version_minor": 0
      },
      "text/plain": [
       "Validation: |          | 0/? [00:00<?, ?it/s]"
      ]
     },
     "metadata": {},
     "output_type": "display_data"
    },
    {
     "data": {
      "application/vnd.jupyter.widget-view+json": {
       "model_id": "8fa913149b9a427b9ad27eaf46fa8783",
       "version_major": 2,
       "version_minor": 0
      },
      "text/plain": [
       "Validation: |          | 0/? [00:00<?, ?it/s]"
      ]
     },
     "metadata": {},
     "output_type": "display_data"
    },
    {
     "data": {
      "application/vnd.jupyter.widget-view+json": {
       "model_id": "cf7fb157965d455f96ebdedec6f612d8",
       "version_major": 2,
       "version_minor": 0
      },
      "text/plain": [
       "Validation: |          | 0/? [00:00<?, ?it/s]"
      ]
     },
     "metadata": {},
     "output_type": "display_data"
    },
    {
     "data": {
      "application/vnd.jupyter.widget-view+json": {
       "model_id": "c8fae7d06daf4bec8368c20131be59de",
       "version_major": 2,
       "version_minor": 0
      },
      "text/plain": [
       "Validation: |          | 0/? [00:00<?, ?it/s]"
      ]
     },
     "metadata": {},
     "output_type": "display_data"
    },
    {
     "data": {
      "application/vnd.jupyter.widget-view+json": {
       "model_id": "63161404f10a460fb05678285e27f157",
       "version_major": 2,
       "version_minor": 0
      },
      "text/plain": [
       "Validation: |          | 0/? [00:00<?, ?it/s]"
      ]
     },
     "metadata": {},
     "output_type": "display_data"
    },
    {
     "data": {
      "application/vnd.jupyter.widget-view+json": {
       "model_id": "ca2e09fabed845cda6bfa829bce8e610",
       "version_major": 2,
       "version_minor": 0
      },
      "text/plain": [
       "Validation: |          | 0/? [00:00<?, ?it/s]"
      ]
     },
     "metadata": {},
     "output_type": "display_data"
    },
    {
     "data": {
      "application/vnd.jupyter.widget-view+json": {
       "model_id": "fcdff5cbef044dc0ab5c1e05b93744e5",
       "version_major": 2,
       "version_minor": 0
      },
      "text/plain": [
       "Validation: |          | 0/? [00:00<?, ?it/s]"
      ]
     },
     "metadata": {},
     "output_type": "display_data"
    },
    {
     "data": {
      "application/vnd.jupyter.widget-view+json": {
       "model_id": "09d63a8ef7424c7c81ebc1be16d5d8af",
       "version_major": 2,
       "version_minor": 0
      },
      "text/plain": [
       "Validation: |          | 0/? [00:00<?, ?it/s]"
      ]
     },
     "metadata": {},
     "output_type": "display_data"
    },
    {
     "data": {
      "application/vnd.jupyter.widget-view+json": {
       "model_id": "b209aacb26a24e8aba570c69ccfd8452",
       "version_major": 2,
       "version_minor": 0
      },
      "text/plain": [
       "Validation: |          | 0/? [00:00<?, ?it/s]"
      ]
     },
     "metadata": {},
     "output_type": "display_data"
    },
    {
     "data": {
      "application/vnd.jupyter.widget-view+json": {
       "model_id": "1ebb974c0edb43c980858ed5e230568b",
       "version_major": 2,
       "version_minor": 0
      },
      "text/plain": [
       "Validation: |          | 0/? [00:00<?, ?it/s]"
      ]
     },
     "metadata": {},
     "output_type": "display_data"
    },
    {
     "data": {
      "application/vnd.jupyter.widget-view+json": {
       "model_id": "ad929d8b29754d4e803bb2a308d9b914",
       "version_major": 2,
       "version_minor": 0
      },
      "text/plain": [
       "Validation: |          | 0/? [00:00<?, ?it/s]"
      ]
     },
     "metadata": {},
     "output_type": "display_data"
    },
    {
     "name": "stdout",
     "output_type": "stream",
     "text": [
      "CPU times: user 6h 4min 16s, sys: 16min 10s, total: 6h 20min 27s\n",
      "Wall time: 6h 21min 27s\n"
     ]
    },
    {
     "name": "stderr",
     "output_type": "stream",
     "text": [
      "/home/wesleygalvao/anaconda3/envs/mestrado_env/lib/python3.11/site-packages/lightning/pytorch/trainer/call.py:54: Detected KeyboardInterrupt, attempting graceful shutdown...\n"
     ]
    }
   ],
   "source": [
    "%%time\n",
    "#Train using pure Pytorch\n",
    "#logger, ds_train, ds_valid, model = train_pytorch.run(params)\n",
    "#Train using Pytorch Lightning\n",
    "trainer, ds_train, ds_valid, model = train_lightning.run(params)\n",
    "logger = trainer.loggers[1]"
   ]
  },
  {
   "cell_type": "markdown",
   "metadata": {},
   "source": [
    "# View results"
   ]
  },
  {
   "cell_type": "markdown",
   "metadata": {},
   "source": [
    "For viewing the logs, run the following command:\n",
    "\n",
    "\n",
    "```bash\n",
    "~/Documents/repositorios/Pytorch-template/recipes/thin_regions/logs/unet_l_1_1_1_c_16_32_64$ tensorboard --logdir=logs/fit\n",
    "```"
   ]
  },
  {
   "cell_type": "markdown",
   "metadata": {},
   "source": [
    "## Training logs"
   ]
  },
  {
   "cell_type": "code",
   "execution_count": 47,
   "metadata": {
    "ExecuteTime": {
     "end_time": "2024-01-11T01:07:17.714016143Z",
     "start_time": "2024-01-11T01:07:14.900989998Z"
    }
   },
   "outputs": [
    {
     "data": {
      "image/png": "[encoded data removed]",
      "text/plain": [
       "<Figure size 640x480 with 1 Axes>"
      ]
     },
     "metadata": {},
     "output_type": "display_data"
    },
    {
     "data": {
      "image/png": "[encoded data removed]",
      "text/plain": [
       "<Figure size 640x480 with 1 Axes>"
      ]
     },
     "metadata": {},
     "output_type": "display_data"
    }
   ],
   "source": [
    "# Plot results\n",
    "def plot_metrics(logger, type='lt'):\n",
    "    '''Plot losses and IoU. `lt` is the logger used in Lightning.'''\n",
    "\n",
    "    if type=='lt':\n",
    "        metrics = logger.metrics\n",
    "        epochs, _ = zip(*metrics['val_loss'])\n",
    "        metrics = [list(zip(*metrics[k]))[1] for k in ['train_loss', 'val_loss', 'iou', 'prec', 'rec']]\n",
    "        train_loss, valid_loss, iou, prec, rec = metrics    \n",
    "    elif type=='pt':\n",
    "        epochs, metrics = zip(*logger.data.items())\n",
    "        train_loss, valid_loss, iou, prec, rec = zip(*metrics)\n",
    "\n",
    "    plt.figure()\n",
    "    plt.plot(epochs, train_loss, label='Train loss')\n",
    "    plt.plot(epochs, valid_loss, label='Valid loss')\n",
    "    plt.ylim((0, 1))\n",
    "    plt.legend()\n",
    "    plt.xlabel('Epoch')\n",
    "    plt.ylabel('Loss')\n",
    "    plt.figure()\n",
    "    plt.plot(epochs, iou, label='IoU')\n",
    "    plt.plot(epochs, prec, label='Precision')\n",
    "    plt.plot(epochs, rec, label='Recall')\n",
    "    plt.ylim((0.6, 1))\n",
    "    plt.legend()\n",
    "    plt.xlabel('Epoch')\n",
    "    plt.ylabel('Performance')\n",
    "    \n",
    "plot_metrics(logger, type='lt')"
   ]
  },
  {
   "cell_type": "markdown",
   "metadata": {},
   "source": [
    "## Visual Evaluation"
   ]
  },
  {
   "cell_type": "code",
   "execution_count": 11,
   "metadata": {},
   "outputs": [],
   "source": [
    "checkpoint_path1 = './logs/unet_l_1_1_1_c_16_32_64/checkpoints/best_val_loss-epoch=38-val_loss=0.21.ckpt'\n",
    "checkpoint_path2 = './logs/unet_l_3_3_3_c_16_32_64/checkpoints/best_val_loss-epoch=38-val_loss=0.18.ckpt'\n",
    "checkpoint_path3 = './logs/unet_l_3_3_3_3_c_16_32_64_128_e_100_lr_0.01_bs_8/checkpoints/best_val_loss-epoch=26-val_loss=0.17.ckpt'\n",
    "\n",
    "\n",
    "model1 = resunet.ResUNet((1, 1, 1), (16,32,64),  in_channels=3)\n",
    "model1 = load_model_with_checkpoint(checkpoint_path1, model1)\n",
    "\n",
    "model2 = resunet.ResUNet((3, 3, 3), (16,32,64),  in_channels=3)\n",
    "model2 = load_model_with_checkpoint(checkpoint_path2, model2)\n",
    "\n",
    "model3 = resunet.ResUNet((3, 3, 3, 3), (16,32,64,128),  in_channels=3)\n",
    "model3 = load_model_with_checkpoint(checkpoint_path3, model3)\n"
   ]
  },
  {
   "cell_type": "code",
   "execution_count": 68,
   "metadata": {},
   "outputs": [],
   "source": [
    "def plot_examples(ds, model1, model2, model3, n=4):\n",
    "    \"\"\"Plot some example segmentations\"\"\"\n",
    "\n",
    "    indices = random.sample(range(len(ds)),n)\n",
    "    \n",
    "    for i, idx in enumerate(indices):\n",
    "        x, y = ds[idx]\n",
    "        x_or, y_or = ds.get_item(idx)\n",
    "        with torch.no_grad():\n",
    "            y_pred1 = model1(x[None].cuda())[0].cpu()\n",
    "            y_pred2 = model2(x[None].cuda())[0].cpu()\n",
    "            y_pred3 = model3(x[None].cuda())[0].cpu() \n",
    "                       \n",
    "        \n",
    "        x = x*0.2347+0.4394\n",
    "        \n",
    "        y_pred1 = torch.max(y_pred1, dim=0)[1]\n",
    "        y_pred2 = torch.max(y_pred2, dim=0)[1]\n",
    "        y_pred3 = torch.max(y_pred3, dim=0)[1]\n",
    "        \n",
    "        iou1 = perf_funcs.segmentation_accuracy(y_pred1, y[None], meas = ['iou'])\n",
    "        iou2 = perf_funcs.segmentation_accuracy(y_pred2, y[None], meas = ['iou'])\n",
    "        iou3 = perf_funcs.segmentation_accuracy(y_pred3, y[None], meas = ['iou'])\n",
    "    \n",
    "        plt.figure(figsize=[20,5])\n",
    "        plt.subplot(1, 6, 1)\n",
    "        plt.imshow(x_or.permute(1, 2, 0), 'gray')\n",
    "        plt.title('Original image')\n",
    "        plt.subplot(1, 6, 2)\n",
    "        plt.imshow(x.permute(1, 2, 0), 'gray')\n",
    "        plt.title('Augmented image')\n",
    "        plt.subplot(1, 6, 3)\n",
    "        plt.imshow(y==1, 'gray')\n",
    "        plt.title('Ground truth')\n",
    "        plt.subplot(1, 6, 4)\n",
    "        plt.imshow(y_pred1, 'gray')\n",
    "        plt.title(f'Pred Model 1 \\niou: {iou1.numpy():.2f}')\n",
    "        plt.subplot(1, 6, 5)\n",
    "        plt.imshow(y_pred2, 'gray')\n",
    "        plt.title(f'Pred Model 2 \\niou: {iou2.numpy():.2f}')\n",
    "        plt.subplot(1, 6, 6)\n",
    "        plt.imshow(y_pred3, 'gray')\n",
    "        plt.title(f'Pred Model 3 \\niou: {iou3.numpy():.2f}')\n",
    "        plt.show()\n",
    "\n"
   ]
  },
  {
   "cell_type": "code",
   "execution_count": 69,
   "metadata": {},
   "outputs": [
    {
     "data": {
      "image/png": "[encoded data removed]",
      "text/plain": [
       "<Figure size 2000x500 with 6 Axes>"
      ]
     },
     "metadata": {},
     "output_type": "display_data"
    },
    {
     "ename": "RuntimeError",
     "evalue": "The size of tensor a (900) must match the size of tensor b (720) at non-singleton dimension 2",
     "output_type": "error",
     "traceback": [
      "\u001B[0;31m---------------------------------------------------------------------------\u001B[0m",
      "\u001B[0;31mRuntimeError\u001B[0m                              Traceback (most recent call last)",
      "Cell \u001B[0;32mIn[69], line 1\u001B[0m\n\u001B[0;32m----> 1\u001B[0m plot_examples(ds_valid, model2, model2, model3, n\u001B[38;5;241m=\u001B[39m\u001B[38;5;241m3\u001B[39m)\n",
      "Cell \u001B[0;32mIn[68], line 21\u001B[0m, in \u001B[0;36mplot_examples\u001B[0;34m(ds, model1, model2, model3, n)\u001B[0m\n\u001B[1;32m     18\u001B[0m y_pred2 \u001B[38;5;241m=\u001B[39m torch\u001B[38;5;241m.\u001B[39mmax(y_pred2, dim\u001B[38;5;241m=\u001B[39m\u001B[38;5;241m0\u001B[39m)[\u001B[38;5;241m1\u001B[39m]\n\u001B[1;32m     19\u001B[0m y_pred3 \u001B[38;5;241m=\u001B[39m torch\u001B[38;5;241m.\u001B[39mmax(y_pred3, dim\u001B[38;5;241m=\u001B[39m\u001B[38;5;241m0\u001B[39m)[\u001B[38;5;241m1\u001B[39m]\n\u001B[0;32m---> 21\u001B[0m iou1 \u001B[38;5;241m=\u001B[39m perf_funcs\u001B[38;5;241m.\u001B[39msegmentation_accuracy(y_pred1, y[\u001B[38;5;28;01mNone\u001B[39;00m], meas \u001B[38;5;241m=\u001B[39m [\u001B[38;5;124m'\u001B[39m\u001B[38;5;124miou\u001B[39m\u001B[38;5;124m'\u001B[39m])\n\u001B[1;32m     22\u001B[0m iou2 \u001B[38;5;241m=\u001B[39m perf_funcs\u001B[38;5;241m.\u001B[39msegmentation_accuracy(y_pred2, y[\u001B[38;5;28;01mNone\u001B[39;00m], meas \u001B[38;5;241m=\u001B[39m [\u001B[38;5;124m'\u001B[39m\u001B[38;5;124miou\u001B[39m\u001B[38;5;124m'\u001B[39m])\n\u001B[1;32m     23\u001B[0m iou3 \u001B[38;5;241m=\u001B[39m perf_funcs\u001B[38;5;241m.\u001B[39msegmentation_accuracy(y_pred3, y[\u001B[38;5;28;01mNone\u001B[39;00m], meas \u001B[38;5;241m=\u001B[39m [\u001B[38;5;124m'\u001B[39m\u001B[38;5;124miou\u001B[39m\u001B[38;5;124m'\u001B[39m])\n",
      "File \u001B[0;32m~/anaconda3/envs/mestrado_env/lib/python3.11/site-packages/torch/utils/_contextlib.py:115\u001B[0m, in \u001B[0;36mcontext_decorator.<locals>.decorate_context\u001B[0;34m(*args, **kwargs)\u001B[0m\n\u001B[1;32m    112\u001B[0m \u001B[38;5;129m@functools\u001B[39m\u001B[38;5;241m.\u001B[39mwraps(func)\n\u001B[1;32m    113\u001B[0m \u001B[38;5;28;01mdef\u001B[39;00m \u001B[38;5;21mdecorate_context\u001B[39m(\u001B[38;5;241m*\u001B[39margs, \u001B[38;5;241m*\u001B[39m\u001B[38;5;241m*\u001B[39mkwargs):\n\u001B[1;32m    114\u001B[0m     \u001B[38;5;28;01mwith\u001B[39;00m ctx_factory():\n\u001B[0;32m--> 115\u001B[0m         \u001B[38;5;28;01mreturn\u001B[39;00m func(\u001B[38;5;241m*\u001B[39margs, \u001B[38;5;241m*\u001B[39m\u001B[38;5;241m*\u001B[39mkwargs)\n",
      "File \u001B[0;32m~/Documents/repositorios/Pytorch-template/recipes/thin_regions/torchtrainer/perf_funcs.py:51\u001B[0m, in \u001B[0;36msegmentation_accuracy\u001B[0;34m(input, target, meas, reduce_batch, mask)\u001B[0m\n\u001B[1;32m     48\u001B[0m res_labels \u001B[38;5;241m=\u001B[39m torch\u001B[38;5;241m.\u001B[39margmax(\u001B[38;5;28minput\u001B[39m, dim\u001B[38;5;241m=\u001B[39m\u001B[38;5;241m1\u001B[39m)\n\u001B[1;32m     50\u001B[0m \u001B[38;5;66;03m# Assumes only values in res_labels are 0 and 1 (two classes)\u001B[39;00m\n\u001B[0;32m---> 51\u001B[0m y_cases \u001B[38;5;241m=\u001B[39m \u001B[38;5;241m2\u001B[39m\u001B[38;5;241m*\u001B[39mtarget \u001B[38;5;241m+\u001B[39m res_labels\n\u001B[1;32m     52\u001B[0m \u001B[38;5;28;01mif\u001B[39;00m mask \u001B[38;5;129;01mis\u001B[39;00m \u001B[38;5;129;01mnot\u001B[39;00m \u001B[38;5;28;01mNone\u001B[39;00m:\n\u001B[1;32m     53\u001B[0m     y_cases[mask\u001B[38;5;241m==\u001B[39m\u001B[38;5;241m0\u001B[39m] \u001B[38;5;241m=\u001B[39m \u001B[38;5;241m4\u001B[39m  \u001B[38;5;66;03m# 4 is ignored\u001B[39;00m\n",
      "\u001B[0;31mRuntimeError\u001B[0m: The size of tensor a (900) must match the size of tensor b (720) at non-singleton dimension 2"
     ]
    }
   ],
   "source": [
    "plot_examples(ds_valid, model2, model2, model3, n=3)"
   ]
  },
  {
   "cell_type": "markdown",
   "metadata": {},
   "source": [
    "## Model performance"
   ]
  },
  {
   "cell_type": "code",
   "execution_count": 14,
   "metadata": {},
   "outputs": [],
   "source": [
    "model1_summary = get_inference_iou(model1, ds_valid)\n",
    "model2_summary = get_inference_iou(model2, ds_valid)\n",
    "model3_summary = get_inference_iou(model3, ds_valid)"
   ]
  },
  {
   "cell_type": "code",
   "execution_count": 20,
   "metadata": {},
   "outputs": [
    {
     "data": {
      "text/plain": [
       "count    459.000000\n",
       "mean       0.339881\n",
       "std        0.220587\n",
       "min        0.000000\n",
       "25%        0.151193\n",
       "50%        0.310348\n",
       "75%        0.513360\n",
       "max        0.890870\n",
       "Name: prediction_iou, dtype: float64"
      ]
     },
     "execution_count": 20,
     "metadata": {},
     "output_type": "execute_result"
    }
   ],
   "source": [
    "model1_summary['prediction_iou'].astype(float).describe()"
   ]
  },
  {
   "cell_type": "code",
   "execution_count": 15,
   "metadata": {},
   "outputs": [
    {
     "data": {
      "application/vnd.plotly.v1+json": {
       "config": {
        "plotlyServerURL": "https://plot.ly"
       },
       "data": [
        {
         "alignmentgroup": "True",
         "bingroup": "x",
         "hovertemplate": "prediction_iou=%{x}<br>count=%{y}<extra></extra>",
         "legendgroup": "",
         "marker": {
          "color": "#636efa",
          "pattern": {
           "shape": ""
          }
         },
         "name": "",
         "nbinsx": 30,
         "offsetgroup": "",
         "orientation": "v",
         "showlegend": false,
         "type": "histogram",
         "x": [
          0.027800297364592552,
          0.4909922480583191,
          0.14700175821781158,
          0.27614155411720276,
          0.30666062235832214,
          0.27898672223091125,
          0.49264225363731384,
          0,
          0.23866654932498932,
          0.6889912486076355,
          0.009120685048401356,
          0.5264919400215149,
          0.14314649999141693,
          0.08885060995817184,
          0,
          0.3125326335430145,
          0.6770200729370117,
          0.43653181195259094,
          0.7182235717773438,
          0.5467835664749146,
          0.3175910711288452,
          0.417423278093338,
          0.10542912036180496,
          0.8183902502059937,
          0.13893908262252808,
          0.4904177784919739,
          0.7191124558448792,
          0.14341573417186737,
          0.1925686150789261,
          0.21654072403907776,
          0.06990034133195877,
          0.2790064513683319,
          0.11328285932540894,
          0.05834932252764702,
          0.6097396612167358,
          0.3542282283306122,
          0.5900043249130249,
          0.15737465023994446,
          0.21953991055488586,
          0.2450682520866394,
          0.45263075828552246,
          0.48093247413635254,
          0.40073004364967346,
          0.5523378849029541,
          0.6183491349220276,
          0.28599607944488525,
          0.1458025425672531,
          0.11073381453752518,
          0.6810414791107178,
          0.387341171503067,
          0.551948070526123,
          0.3374038636684418,
          0.7090122699737549,
          0.21117539703845978,
          0.475333034992218,
          0.46396058797836304,
          0.6651809215545654,
          0.5809959769248962,
          0.7646233439445496,
          0.15278832614421844,
          0.16971318423748016,
          0.2787747383117676,
          0.4117485284805298,
          0.19721433520317078,
          0.6424639821052551,
          0.2231505960226059,
          0.7687193155288696,
          0.15950141847133636,
          0.47466179728507996,
          0.6642153859138489,
          0.2752578854560852,
          0.03548687323927879,
          0.10069764405488968,
          0.751429557800293,
          0.5422713756561279,
          0.38612261414527893,
          0.24098451435565948,
          0.2171189934015274,
          0.10779517889022827,
          0.7272745370864868,
          0.03515191748738289,
          0.35992133617401123,
          0.34454846382141113,
          0.14836806058883667,
          0.7262937426567078,
          0.1584210991859436,
          0.48189011216163635,
          0.5283936262130737,
          0.2949511408805847,
          0.6619004607200623,
          0.5536856651306152,
          0.6706478595733643,
          0.7158710360527039,
          0.04785235971212387,
          0.5615857839584351,
          0.1396481692790985,
          0.8027480840682983,
          0.587937593460083,
          0.3968557119369507,
          0.40992674231529236,
          0.2847279906272888,
          0.1031651645898819,
          0.2754504978656769,
          0.35946589708328247,
          0.16404487192630768,
          0.41902291774749756,
          0.20920208096504211,
          0.7215693593025208,
          0.23978054523468018,
          0.7802965641021729,
          0.5323289036750793,
          0.03862424194812775,
          0.09298672527074814,
          0.3193368911743164,
          0.121475949883461,
          0.36984965205192566,
          0.5153219103813171,
          0.2107180655002594,
          0.24333937466144562,
          0.36802801489830017,
          0.6030962467193604,
          0.42530426383018494,
          0.2922748923301697,
          0.11324931681156158,
          0.6272200345993042,
          0.6772481203079224,
          0.6329184174537659,
          0.5918406844139099,
          0.22928167879581451,
          0.44063690304756165,
          0.37281161546707153,
          0.27352842688560486,
          0.5290661454200745,
          0.001144901616498828,
          0.11385450512170792,
          0.08903799951076508,
          0.45061278343200684,
          0.05817178264260292,
          0.133820042014122,
          0.5476061701774597,
          0.04004388302564621,
          0.32766643166542053,
          0.2166345715522766,
          0.270399808883667,
          0.5056442618370056,
          0.48651349544525146,
          0.3504362106323242,
          0.6810998320579529,
          0.4229913055896759,
          0.23633459210395813,
          0.6760828495025635,
          0.6602663993835449,
          0.018300501629710197,
          0.3382106423377991,
          0.34180691838264465,
          0.7863416075706482,
          0.0011069932952523232,
          0.18949070572853088,
          0.8908699750900269,
          0.6626306772232056,
          0.5308008790016174,
          0.32610929012298584,
          0.44275155663490295,
          0.12617462873458862,
          0.28049394488334656,
          0.29203668236732483,
          0.3218136429786682,
          0,
          0.3426651656627655,
          0.02938554435968399,
          0.0542902946472168,
          0.5843227505683899,
          0.17485705018043518,
          0.564850926399231,
          0.5868661999702454,
          0.12243040651082993,
          0.10460543632507324,
          0.037508774548769,
          0.18847042322158813,
          0.8383925557136536,
          0.48358139395713806,
          0.4142272174358368,
          0.21904847025871277,
          0.7128700613975525,
          0.08931788057088852,
          0.13468214869499207,
          0.44038042426109314,
          0.13662531971931458,
          0.34880730509757996,
          1.651750790188089E-4,
          0.11138419806957245,
          0.5939263701438904,
          0.4520944356918335,
          0.7080910801887512,
          0.4521723985671997,
          0.26256293058395386,
          0.46601802110671997,
          0.4291292130947113,
          0.23343342542648315,
          0.03201894462108612,
          0.4046381413936615,
          0.5173789858818054,
          0.47587254643440247,
          0.27708348631858826,
          0.2640482485294342,
          0.06169769540429115,
          0.07977592200040817,
          0.07309950888156891,
          0.22724051773548126,
          0.17809225618839264,
          0.35977134108543396,
          0.11024664342403412,
          0.7574341893196106,
          0.537077009677887,
          0.14118091762065887,
          0.34896522760391235,
          0.25388583540916443,
          0.18600645661354065,
          0.28959327936172485,
          0.25701045989990234,
          0.4234134256839752,
          0.6429471969604492,
          0.5989972949028015,
          0.39151856303215027,
          0.005732098128646612,
          0.040885571390390396,
          0.3205886483192444,
          0.606243371963501,
          0,
          0.27399179339408875,
          0.21757805347442627,
          0.1317274421453476,
          0.6129065155982971,
          0.15186581015586853,
          0.460158109664917,
          0.17267128825187683,
          0.5480305552482605,
          0.0694064274430275,
          0.4057936370372772,
          0.4939620792865753,
          0.31707075238227844,
          0.24273015558719635,
          0.03769044578075409,
          0.30582302808761597,
          0.21863506734371185,
          0.5525015592575073,
          0.3273853659629822,
          0.3449127972126007,
          0.5292544364929199,
          0.0436047799885273,
          0.4233546555042267,
          0.1921818107366562,
          0.5830062627792358,
          0.14153973758220673,
          0.23749707639217377,
          0.17072142660617828,
          0.38903191685676575,
          0.2124062180519104,
          0.39378148317337036,
          0.20139187574386597,
          0.513042688369751,
          0.06012795493006706,
          0.07194656133651733,
          0.8464617729187012,
          0.42946135997772217,
          0.548565149307251,
          0.2580692172050476,
          0.725653350353241,
          0.15106423199176788,
          0.4869105815887451,
          0.13502323627471924,
          0.27019554376602173,
          0.5747311115264893,
          0.5123981833457947,
          0.09634328633546829,
          0.6192888021469116,
          0.20504975318908691,
          0.3751314580440521,
          0.18865978717803955,
          0.4545387625694275,
          0.22542430460453033,
          0.6965519189834595,
          0.08419153839349747,
          0.21850188076496124,
          0.4103500545024872,
          0.7151840925216675,
          0.3093647360801697,
          0.026543457061052322,
          0.6253606081008911,
          0.39380955696105957,
          0.6477072238922119,
          0.5679669380187988,
          0.088015615940094,
          0.36847278475761414,
          0.3332798182964325,
          0.039736587554216385,
          0.4679209887981415,
          0.5199658870697021,
          0.4862610995769501,
          0.6406996250152588,
          0.1377720683813095,
          0.23327648639678955,
          0.2915566563606262,
          0.3786546587944031,
          0.4035095274448395,
          0.014613615348935127,
          0.16911594569683075,
          0.5636909008026123,
          0.6082299947738647,
          0.03200257569551468,
          0.11210280656814575,
          0.12694020569324493,
          0.1360555738210678,
          0.12277751415967941,
          0.7813637256622314,
          0.5500136017799377,
          0.3618769347667694,
          0.42113298177719116,
          0.3305768370628357,
          0.4771925210952759,
          0.24356450140476227,
          0.4344418942928314,
          0.3198249042034149,
          0.2236517369747162,
          0.2998071014881134,
          0.08727074414491653,
          0.5812037587165833,
          0.17878232896327972,
          0.07393193989992142,
          0.5473506450653076,
          0,
          0.6418996453285217,
          0.26646462082862854,
          0.31326568126678467,
          0.5726802349090576,
          0.1385992020368576,
          0.19781239330768585,
          0.17088916897773743,
          0.1767892837524414,
          0.4501425623893738,
          0.48694396018981934,
          0.16007156670093536,
          0.19847756624221802,
          0.23238912224769592,
          0.5521312355995178,
          0.07847512513399124,
          0.20049765706062317,
          0.5800914168357849,
          0.4262005686759949,
          0.21336698532104492,
          0.6778075098991394,
          0.22708939015865326,
          0.21212860941886902,
          0.840785026550293,
          0.22025862336158752,
          0.6799542307853699,
          0.372345894575119,
          0.7461978197097778,
          0.10196340084075928,
          0.5221251845359802,
          0.10749516636133194,
          0.22399142384529114,
          0.10107646882534027,
          0.4016146659851074,
          0.612205982208252,
          0.28894108533859253,
          0.1996476799249649,
          0.7376651763916016,
          0.18946777284145355,
          0.37062278389930725,
          0.26265329122543335,
          0.8150432705879211,
          0.14702071249485016,
          0.6146500706672668,
          0.142282173037529,
          0.005082701798528433,
          0.2852481007575989,
          0.5416507720947266,
          0.4289114475250244,
          0.15843957662582397,
          0.7911320924758911,
          0.2823438346385956,
          0.45352092385292053,
          0.4357290267944336,
          0.017576806247234344,
          0.2697850465774536,
          0.22466185688972473,
          0.1826677918434143,
          0.3103475868701935,
          0.19263304769992828,
          0.772095799446106,
          0.5187169313430786,
          0.013592420145869255,
          0.1818181872367859,
          0.32690078020095825,
          0.3277457356452942,
          0.3236944079399109,
          0.15132127702236176,
          0.09312688559293747,
          0.15170076489448547,
          0.571942925453186,
          0.7304522395133972,
          0.05176408961415291,
          0.4893617033958435,
          0.15363053977489471,
          0.29014793038368225,
          0.020909946411848068,
          0.30405110120773315,
          0.77408766746521,
          0.045670200139284134,
          0.13043659925460815,
          0.5011119246482849,
          0.09477106481790543,
          0.4504774212837219,
          0.09672412276268005,
          0.3904072642326355,
          0.4665800929069519,
          0.23715808987617493,
          0.10630971938371658,
          0.08493193984031677,
          0.25282230973243713,
          0.6282019019126892,
          0.5382006168365479,
          0.03304879367351532,
          0.3325249254703522,
          0.06885402649641037,
          2.484163560438901E-4,
          0.08565455675125122,
          0.48849377036094666,
          0.5826301574707031,
          0.45338574051856995,
          0.5158727169036865,
          0.059218745678663254,
          0.17167741060256958,
          0.30104559659957886,
          0.04759877547621727,
          0.4609104096889496,
          0.13772998750209808,
          0.33248960971832275,
          0.5136771202087402,
          0.5384709239006042,
          0.11574713885784149,
          0.3479750454425812,
          0.23050224781036377,
          0.8707632422447205,
          0.04323440045118332,
          0.45075955986976624,
          0.07399864494800568,
          0.006333203986287117,
          0.7728413939476013,
          0.10190147906541824,
          0.15298861265182495,
          0.48887142539024353,
          0.11243364214897156,
          0.14813821017742157,
          0.11549483239650726,
          0.44627612829208374,
          0.06301544606685638,
          0.7184584736824036
         ],
         "xaxis": "x",
         "yaxis": "y"
        }
       ],
       "layout": {
        "barmode": "relative",
        "height": 500,
        "legend": {
         "tracegroupgap": 0
        },
        "template": {
         "data": {
          "bar": [
           {
            "error_x": {
             "color": "#2a3f5f"
            },
            "error_y": {
             "color": "#2a3f5f"
            },
            "marker": {
             "line": {
              "color": "#E5ECF6",
              "width": 0.5
             },
             "pattern": {
              "fillmode": "overlay",
              "size": 10,
              "solidity": 0.2
             }
            },
            "type": "bar"
           }
          ],
          "barpolar": [
           {
            "marker": {
             "line": {
              "color": "#E5ECF6",
              "width": 0.5
             },
             "pattern": {
              "fillmode": "overlay",
              "size": 10,
              "solidity": 0.2
             }
            },
            "type": "barpolar"
           }
          ],
          "carpet": [
           {
            "aaxis": {
             "endlinecolor": "#2a3f5f",
             "gridcolor": "white",
             "linecolor": "white",
             "minorgridcolor": "white",
             "startlinecolor": "#2a3f5f"
            },
            "baxis": {
             "endlinecolor": "#2a3f5f",
             "gridcolor": "white",
             "linecolor": "white",
             "minorgridcolor": "white",
             "startlinecolor": "#2a3f5f"
            },
            "type": "carpet"
           }
          ],
          "choropleth": [
           {
            "colorbar": {
             "outlinewidth": 0,
             "ticks": ""
            },
            "type": "choropleth"
           }
          ],
          "contour": [
           {
            "colorbar": {
             "outlinewidth": 0,
             "ticks": ""
            },
            "colorscale": [
             [
              0,
              "#0d0887"
             ],
             [
              0.1111111111111111,
              "#46039f"
             ],
             [
              0.2222222222222222,
              "#7201a8"
             ],
             [
              0.3333333333333333,
              "#9c179e"
             ],
             [
              0.4444444444444444,
              "#bd3786"
             ],
             [
              0.5555555555555556,
              "#d8576b"
             ],
             [
              0.6666666666666666,
              "#ed7953"
             ],
             [
              0.7777777777777778,
              "#fb9f3a"
             ],
             [
              0.8888888888888888,
              "#fdca26"
             ],
             [
              1,
              "#f0f921"
             ]
            ],
            "type": "contour"
           }
          ],
          "contourcarpet": [
           {
            "colorbar": {
             "outlinewidth": 0,
             "ticks": ""
            },
            "type": "contourcarpet"
           }
          ],
          "heatmap": [
           {
            "colorbar": {
             "outlinewidth": 0,
             "ticks": ""
            },
            "colorscale": [
             [
              0,
              "#0d0887"
             ],
             [
              0.1111111111111111,
              "#46039f"
             ],
             [
              0.2222222222222222,
              "#7201a8"
             ],
             [
              0.3333333333333333,
              "#9c179e"
             ],
             [
              0.4444444444444444,
              "#bd3786"
             ],
             [
              0.5555555555555556,
              "#d8576b"
             ],
             [
              0.6666666666666666,
              "#ed7953"
             ],
             [
              0.7777777777777778,
              "#fb9f3a"
             ],
             [
              0.8888888888888888,
              "#fdca26"
             ],
             [
              1,
              "#f0f921"
             ]
            ],
            "type": "heatmap"
           }
          ],
          "heatmapgl": [
           {
            "colorbar": {
             "outlinewidth": 0,
             "ticks": ""
            },
            "colorscale": [
             [
              0,
              "#0d0887"
             ],
             [
              0.1111111111111111,
              "#46039f"
             ],
             [
              0.2222222222222222,
              "#7201a8"
             ],
             [
              0.3333333333333333,
              "#9c179e"
             ],
             [
              0.4444444444444444,
              "#bd3786"
             ],
             [
              0.5555555555555556,
              "#d8576b"
             ],
             [
              0.6666666666666666,
              "#ed7953"
             ],
             [
              0.7777777777777778,
              "#fb9f3a"
             ],
             [
              0.8888888888888888,
              "#fdca26"
             ],
             [
              1,
              "#f0f921"
             ]
            ],
            "type": "heatmapgl"
           }
          ],
          "histogram": [
           {
            "marker": {
             "pattern": {
              "fillmode": "overlay",
              "size": 10,
              "solidity": 0.2
             }
            },
            "type": "histogram"
           }
          ],
          "histogram2d": [
           {
            "colorbar": {
             "outlinewidth": 0,
             "ticks": ""
            },
            "colorscale": [
             [
              0,
              "#0d0887"
             ],
             [
              0.1111111111111111,
              "#46039f"
             ],
             [
              0.2222222222222222,
              "#7201a8"
             ],
             [
              0.3333333333333333,
              "#9c179e"
             ],
             [
              0.4444444444444444,
              "#bd3786"
             ],
             [
              0.5555555555555556,
              "#d8576b"
             ],
             [
              0.6666666666666666,
              "#ed7953"
             ],
             [
              0.7777777777777778,
              "#fb9f3a"
             ],
             [
              0.8888888888888888,
              "#fdca26"
             ],
             [
              1,
              "#f0f921"
             ]
            ],
            "type": "histogram2d"
           }
          ],
          "histogram2dcontour": [
           {
            "colorbar": {
             "outlinewidth": 0,
             "ticks": ""
            },
            "colorscale": [
             [
              0,
              "#0d0887"
             ],
             [
              0.1111111111111111,
              "#46039f"
             ],
             [
              0.2222222222222222,
              "#7201a8"
             ],
             [
              0.3333333333333333,
              "#9c179e"
             ],
             [
              0.4444444444444444,
              "#bd3786"
             ],
             [
              0.5555555555555556,
              "#d8576b"
             ],
             [
              0.6666666666666666,
              "#ed7953"
             ],
             [
              0.7777777777777778,
              "#fb9f3a"
             ],
             [
              0.8888888888888888,
              "#fdca26"
             ],
             [
              1,
              "#f0f921"
             ]
            ],
            "type": "histogram2dcontour"
           }
          ],
          "mesh3d": [
           {
            "colorbar": {
             "outlinewidth": 0,
             "ticks": ""
            },
            "type": "mesh3d"
           }
          ],
          "parcoords": [
           {
            "line": {
             "colorbar": {
              "outlinewidth": 0,
              "ticks": ""
             }
            },
            "type": "parcoords"
           }
          ],
          "pie": [
           {
            "automargin": true,
            "type": "pie"
           }
          ],
          "scatter": [
           {
            "fillpattern": {
             "fillmode": "overlay",
             "size": 10,
             "solidity": 0.2
            },
            "type": "scatter"
           }
          ],
          "scatter3d": [
           {
            "line": {
             "colorbar": {
              "outlinewidth": 0,
              "ticks": ""
             }
            },
            "marker": {
             "colorbar": {
              "outlinewidth": 0,
              "ticks": ""
             }
            },
            "type": "scatter3d"
           }
          ],
          "scattercarpet": [
           {
            "marker": {
             "colorbar": {
              "outlinewidth": 0,
              "ticks": ""
             }
            },
            "type": "scattercarpet"
           }
          ],
          "scattergeo": [
           {
            "marker": {
             "colorbar": {
              "outlinewidth": 0,
              "ticks": ""
             }
            },
            "type": "scattergeo"
           }
          ],
          "scattergl": [
           {
            "marker": {
             "colorbar": {
              "outlinewidth": 0,
              "ticks": ""
             }
            },
            "type": "scattergl"
           }
          ],
          "scattermapbox": [
           {
            "marker": {
             "colorbar": {
              "outlinewidth": 0,
              "ticks": ""
             }
            },
            "type": "scattermapbox"
           }
          ],
          "scatterpolar": [
           {
            "marker": {
             "colorbar": {
              "outlinewidth": 0,
              "ticks": ""
             }
            },
            "type": "scatterpolar"
           }
          ],
          "scatterpolargl": [
           {
            "marker": {
             "colorbar": {
              "outlinewidth": 0,
              "ticks": ""
             }
            },
            "type": "scatterpolargl"
           }
          ],
          "scatterternary": [
           {
            "marker": {
             "colorbar": {
              "outlinewidth": 0,
              "ticks": ""
             }
            },
            "type": "scatterternary"
           }
          ],
          "surface": [
           {
            "colorbar": {
             "outlinewidth": 0,
             "ticks": ""
            },
            "colorscale": [
             [
              0,
              "#0d0887"
             ],
             [
              0.1111111111111111,
              "#46039f"
             ],
             [
              0.2222222222222222,
              "#7201a8"
             ],
             [
              0.3333333333333333,
              "#9c179e"
             ],
             [
              0.4444444444444444,
              "#bd3786"
             ],
             [
              0.5555555555555556,
              "#d8576b"
             ],
             [
              0.6666666666666666,
              "#ed7953"
             ],
             [
              0.7777777777777778,
              "#fb9f3a"
             ],
             [
              0.8888888888888888,
              "#fdca26"
             ],
             [
              1,
              "#f0f921"
             ]
            ],
            "type": "surface"
           }
          ],
          "table": [
           {
            "cells": {
             "fill": {
              "color": "#EBF0F8"
             },
             "line": {
              "color": "white"
             }
            },
            "header": {
             "fill": {
              "color": "#C8D4E3"
             },
             "line": {
              "color": "white"
             }
            },
            "type": "table"
           }
          ]
         },
         "layout": {
          "annotationdefaults": {
           "arrowcolor": "#2a3f5f",
           "arrowhead": 0,
           "arrowwidth": 1
          },
          "autotypenumbers": "strict",
          "coloraxis": {
           "colorbar": {
            "outlinewidth": 0,
            "ticks": ""
           }
          },
          "colorscale": {
           "diverging": [
            [
             0,
             "#8e0152"
            ],
            [
             0.1,
             "#c51b7d"
            ],
            [
             0.2,
             "#de77ae"
            ],
            [
             0.3,
             "#f1b6da"
            ],
            [
             0.4,
             "#fde0ef"
            ],
            [
             0.5,
             "#f7f7f7"
            ],
            [
             0.6,
             "#e6f5d0"
            ],
            [
             0.7,
             "#b8e186"
            ],
            [
             0.8,
             "#7fbc41"
            ],
            [
             0.9,
             "#4d9221"
            ],
            [
             1,
             "#276419"
            ]
           ],
           "sequential": [
            [
             0,
             "#0d0887"
            ],
            [
             0.1111111111111111,
             "#46039f"
            ],
            [
             0.2222222222222222,
             "#7201a8"
            ],
            [
             0.3333333333333333,
             "#9c179e"
            ],
            [
             0.4444444444444444,
             "#bd3786"
            ],
            [
             0.5555555555555556,
             "#d8576b"
            ],
            [
             0.6666666666666666,
             "#ed7953"
            ],
            [
             0.7777777777777778,
             "#fb9f3a"
            ],
            [
             0.8888888888888888,
             "#fdca26"
            ],
            [
             1,
             "#f0f921"
            ]
           ],
           "sequentialminus": [
            [
             0,
             "#0d0887"
            ],
            [
             0.1111111111111111,
             "#46039f"
            ],
            [
             0.2222222222222222,
             "#7201a8"
            ],
            [
             0.3333333333333333,
             "#9c179e"
            ],
            [
             0.4444444444444444,
             "#bd3786"
            ],
            [
             0.5555555555555556,
             "#d8576b"
            ],
            [
             0.6666666666666666,
             "#ed7953"
            ],
            [
             0.7777777777777778,
             "#fb9f3a"
            ],
            [
             0.8888888888888888,
             "#fdca26"
            ],
            [
             1,
             "#f0f921"
            ]
           ]
          },
          "colorway": [
           "#636efa",
           "#EF553B",
           "#00cc96",
           "#ab63fa",
           "#FFA15A",
           "#19d3f3",
           "#FF6692",
           "#B6E880",
           "#FF97FF",
           "#FECB52"
          ],
          "font": {
           "color": "#2a3f5f"
          },
          "geo": {
           "bgcolor": "white",
           "lakecolor": "white",
           "landcolor": "#E5ECF6",
           "showlakes": true,
           "showland": true,
           "subunitcolor": "white"
          },
          "hoverlabel": {
           "align": "left"
          },
          "hovermode": "closest",
          "mapbox": {
           "style": "light"
          },
          "paper_bgcolor": "white",
          "plot_bgcolor": "#E5ECF6",
          "polar": {
           "angularaxis": {
            "gridcolor": "white",
            "linecolor": "white",
            "ticks": ""
           },
           "bgcolor": "#E5ECF6",
           "radialaxis": {
            "gridcolor": "white",
            "linecolor": "white",
            "ticks": ""
           }
          },
          "scene": {
           "xaxis": {
            "backgroundcolor": "#E5ECF6",
            "gridcolor": "white",
            "gridwidth": 2,
            "linecolor": "white",
            "showbackground": true,
            "ticks": "",
            "zerolinecolor": "white"
           },
           "yaxis": {
            "backgroundcolor": "#E5ECF6",
            "gridcolor": "white",
            "gridwidth": 2,
            "linecolor": "white",
            "showbackground": true,
            "ticks": "",
            "zerolinecolor": "white"
           },
           "zaxis": {
            "backgroundcolor": "#E5ECF6",
            "gridcolor": "white",
            "gridwidth": 2,
            "linecolor": "white",
            "showbackground": true,
            "ticks": "",
            "zerolinecolor": "white"
           }
          },
          "shapedefaults": {
           "line": {
            "color": "#2a3f5f"
           }
          },
          "ternary": {
           "aaxis": {
            "gridcolor": "white",
            "linecolor": "white",
            "ticks": ""
           },
           "baxis": {
            "gridcolor": "white",
            "linecolor": "white",
            "ticks": ""
           },
           "bgcolor": "#E5ECF6",
           "caxis": {
            "gridcolor": "white",
            "linecolor": "white",
            "ticks": ""
           }
          },
          "title": {
           "x": 0.05
          },
          "xaxis": {
           "automargin": true,
           "gridcolor": "white",
           "linecolor": "white",
           "ticks": "",
           "title": {
            "standoff": 15
           },
           "zerolinecolor": "white",
           "zerolinewidth": 2
          },
          "yaxis": {
           "automargin": true,
           "gridcolor": "white",
           "linecolor": "white",
           "ticks": "",
           "title": {
            "standoff": 15
           },
           "zerolinecolor": "white",
           "zerolinewidth": 2
          }
         }
        },
        "title": {
         "text": "Model 1 - IoU Distribution for Validation Set"
        },
        "width": 600,
        "xaxis": {
         "anchor": "y",
         "domain": [
          0,
          1
         ],
         "title": {
          "text": "prediction_iou"
         }
        },
        "yaxis": {
         "anchor": "x",
         "domain": [
          0,
          1
         ],
         "title": {
          "text": "count"
         }
        }
       }
      }
     },
     "metadata": {},
     "output_type": "display_data"
    }
   ],
   "source": [
    "fig = px.histogram(model1_summary,\n",
    "                   x=\"prediction_iou\",\n",
    "                   title = 'Model 1 - IoU Distribution for Validation Set',\n",
    "                   width=600, height=500, nbins = 30)\n",
    "fig.show()"
   ]
  },
  {
   "cell_type": "code",
   "execution_count": 21,
   "metadata": {},
   "outputs": [
    {
     "data": {
      "text/plain": [
       "count    459.000000\n",
       "mean       0.420161\n",
       "std        0.221673\n",
       "min        0.000000\n",
       "25%        0.249288\n",
       "50%        0.400429\n",
       "75%        0.591513\n",
       "max        0.955610\n",
       "Name: prediction_iou, dtype: float64"
      ]
     },
     "execution_count": 21,
     "metadata": {},
     "output_type": "execute_result"
    }
   ],
   "source": [
    "model2_summary['prediction_iou'].astype(float).describe()"
   ]
  },
  {
   "cell_type": "code",
   "execution_count": 16,
   "metadata": {},
   "outputs": [
    {
     "data": {
      "application/vnd.plotly.v1+json": {
       "config": {
        "plotlyServerURL": "https://plot.ly"
       },
       "data": [
        {
         "alignmentgroup": "True",
         "bingroup": "x",
         "hovertemplate": "prediction_iou=%{x}<br>count=%{y}<extra></extra>",
         "legendgroup": "",
         "marker": {
          "color": "#636efa",
          "pattern": {
           "shape": ""
          }
         },
         "name": "",
         "nbinsx": 30,
         "offsetgroup": "",
         "orientation": "v",
         "showlegend": false,
         "type": "histogram",
         "x": [
          0.0970764011144638,
          0.6122644543647766,
          0.07856586575508118,
          0.43739503622055054,
          0.3730824887752533,
          0.36496734619140625,
          0.6943353414535522,
          0,
          0.43579912185668945,
          0.9159613847732544,
          0.03660380095243454,
          0.645314633846283,
          0.1887144148349762,
          0.19816246628761292,
          0.11511103063821793,
          0.4977746307849884,
          0.669394314289093,
          0.35495725274086,
          0.6620194315910339,
          0.560900866985321,
          0.41517752408981323,
          0.3448890149593353,
          0.24087455868721008,
          0.8235971331596375,
          0.3312351405620575,
          0.5028817057609558,
          0.5019782781600952,
          0.4439326822757721,
          0.30345216393470764,
          0.3152199983596802,
          0.08704321831464767,
          0.22541701793670654,
          0.1739182323217392,
          0.12939207255840302,
          0.6290241479873657,
          0.6628989577293396,
          0.5570855736732483,
          0.2279907464981079,
          0.15216992795467377,
          0.2982752323150635,
          0.6359253525733948,
          0.7549835443496704,
          0.5176880359649658,
          0.6375275254249573,
          0.5881314277648926,
          0.3196555972099304,
          0.12495918571949005,
          0.08103306591510773,
          0.7342744469642639,
          0.5679053664207458,
          0.5910218358039856,
          0.3343586325645447,
          0.5911216735839844,
          0.32706281542778015,
          0.4005880653858185,
          0.46204447746276855,
          0.7306200861930847,
          0.6315339803695679,
          0.8954889178276062,
          0.46314147114753723,
          0.37312832474708557,
          0.37290775775909424,
          0.6266831159591675,
          0.34632444381713867,
          0.3068232536315918,
          0.4361140727996826,
          0.7383062243461609,
          0.22614686191082,
          0.20202019810676575,
          0.672095775604248,
          0.3810175955295563,
          0.10807660222053528,
          0.2956449091434479,
          0.5420677661895752,
          0.5436234474182129,
          0.7271970510482788,
          0.4933619797229767,
          0.31889811158180237,
          0.2045583873987198,
          0.5919033885002136,
          0.26149868965148926,
          0.26647883653640747,
          0.6567568778991699,
          0.2343403548002243,
          0.7990133762359619,
          0.199415385723114,
          0.36027324199676514,
          0.5954194068908691,
          0.6650168299674988,
          0.6213672757148743,
          0.6627148985862732,
          0.7455164790153503,
          0.7907664179801941,
          0.32467105984687805,
          0.5207719802856445,
          0.19862811267375946,
          0.7673054933547974,
          0.5256571769714355,
          0.5113686323165894,
          0.5862210392951965,
          0.3166448473930359,
          0.2749565541744232,
          0.5102781057357788,
          0.5026450157165527,
          0.2915140688419342,
          0.29821985960006714,
          0.4413793087005615,
          0.7738988399505615,
          0.1100088432431221,
          0.7543153762817383,
          0.6338350176811218,
          0.10988198965787888,
          0.07695486396551132,
          0.6602358818054199,
          0.13834552466869354,
          0.6975333094596863,
          0.5205125212669373,
          0.17950943112373352,
          0.4571952521800995,
          0.4867705702781677,
          0.49410557746887207,
          0.698509931564331,
          0.23114804923534393,
          0.2929876148700714,
          0.7001656889915466,
          0.8480560779571533,
          0.5245527625083923,
          0.6099547743797302,
          0.15647394955158234,
          0.621444046497345,
          0.594258725643158,
          0.40042901039123535,
          0.4859314262866974,
          0.06267885863780975,
          0.19382816553115845,
          0.20967939496040344,
          0.3193335235118866,
          0.15967854857444763,
          0.1489284187555313,
          0.35365691781044006,
          0.024358557537198067,
          0.4403315782546997,
          0.2211693376302719,
          0.3693043887615204,
          0.8480297327041626,
          0.45864933729171753,
          0.31720155477523804,
          0.6654987931251526,
          0.38683363795280457,
          0.1665448248386383,
          0.7212307453155518,
          0.5970130562782288,
          0.04388955980539322,
          0.3004467785358429,
          0.4835156798362732,
          0.7235835790634155,
          0.22723616659641266,
          0.42661353945732117,
          0.8679077625274658,
          0.6172950267791748,
          0.5712833404541016,
          0.2831639051437378,
          0.3790402412414551,
          0.3008002042770386,
          0.2661880850791931,
          0.34994062781333923,
          0.3746931254863739,
          0.07960935682058334,
          0.40144285559654236,
          0.09932681173086166,
          0.019728319719433784,
          0.7413713932037354,
          0.33365190029144287,
          0.6715497970581055,
          0.5808919072151184,
          0.38392800092697144,
          0.3012593388557434,
          0.3125217854976654,
          0.3008257746696472,
          0.8539776802062988,
          0.31721532344818115,
          0.5020357370376587,
          0.20558740198612213,
          0.6952803730964661,
          0.788579523563385,
          0.23956669867038727,
          0.7060970067977905,
          0.6409329771995544,
          0.4647309482097626,
          0.012731318362057209,
          0.10963843762874603,
          0.597172200679779,
          0.7207263112068176,
          0.8812574148178101,
          0.5216237902641296,
          0.28674232959747314,
          0.7906789183616638,
          0.5728731155395508,
          0.21155020594596863,
          0.036574285477399826,
          0.5851226449012756,
          0.3266565501689911,
          0.4922937750816345,
          0.22783760726451874,
          0.1610947549343109,
          0.5309464335441589,
          0.1739262193441391,
          0.11739280074834824,
          0.33281150460243225,
          0.10865310579538345,
          0.5814070701599121,
          0.1642259806394577,
          0.5154370665550232,
          0.6400169730186462,
          0.13259077072143555,
          0.4993782639503479,
          0.47858908772468567,
          0.40724340081214905,
          0.4137851893901825,
          0.35125458240509033,
          0.5183079838752747,
          0.7629489898681641,
          0.5210959911346436,
          0.52506422996521,
          0.24974146485328674,
          0.16747458279132843,
          0.6129415035247803,
          0.71976637840271,
          0.18034294247627258,
          0.6123157143592834,
          0.3534981608390808,
          0.1783830225467682,
          0.651542067527771,
          0.3645637333393097,
          0.4815443158149719,
          0.501447319984436,
          0.5438965559005737,
          0.17903999984264374,
          0.72603839635849,
          0.6041374802589417,
          0.5689404010772705,
          0.305913507938385,
          0.06451496481895447,
          0.4823256731033325,
          0.36021968722343445,
          0.5546808838844299,
          0.33167287707328796,
          0.5136657953262329,
          0.6474660634994507,
          0.0821036547422409,
          0.48006129264831543,
          0.34147167205810547,
          0.6852185130119324,
          0.38665735721588135,
          0.46033960580825806,
          0.3391953110694885,
          0.7080190181732178,
          0.22973564267158508,
          0.4730457663536072,
          0.31908464431762695,
          0.5581660866737366,
          0.17845232784748077,
          0.1915406882762909,
          0.6548345685005188,
          0.6058431267738342,
          0.5155483484268188,
          0.4478924572467804,
          0.7854521870613098,
          0.2717864513397217,
          0.31554898619651794,
          0.3562352955341339,
          0.34221529960632324,
          0.7409909963607788,
          0.4714750647544861,
          0.016166280955076218,
          0.5463285446166992,
          0.3288218677043915,
          0.28064587712287903,
          0.44360625743865967,
          0.6755483150482178,
          0.18396234512329102,
          0.7305557131767273,
          0.235966295003891,
          0.30237385630607605,
          0.3900606632232666,
          0.6884750723838806,
          0.4628585875034332,
          0.0767413005232811,
          0.7840563654899597,
          0.5444335341453552,
          0.743628740310669,
          0.6503040194511414,
          0.0987890288233757,
          0.6454926133155823,
          0.2571222484111786,
          0.009120959788560867,
          0.5561544299125671,
          0.6562052369117737,
          0.369881808757782,
          0.7542819976806641,
          0.26607969403266907,
          0.36262986063957214,
          0.389751672744751,
          0.03489793464541435,
          0.3032296895980835,
          0.16970635950565338,
          0.2845706641674042,
          0.566668689250946,
          0.889601469039917,
          0.02556845359504223,
          0.2489953488111496,
          0.29047080874443054,
          0.20334948599338531,
          0.15247312188148499,
          0.8215128183364868,
          0.6179742217063904,
          0.3323705792427063,
          0.5206127166748047,
          0.4400708079338074,
          0.5128518342971802,
          0.2710849642753601,
          0.7684364318847656,
          0.5369750261306763,
          0.31298545002937317,
          0.48450765013694763,
          0.11235789209604263,
          0.537606418132782,
          0.26531746983528137,
          0.06951820105314255,
          0.5266432762145996,
          0,
          0.5438569784164429,
          0.6193531155586243,
          0.5014667510986328,
          0.5564873218536377,
          0.3400033414363861,
          0.19777126610279083,
          0.3159944713115692,
          0.5321215391159058,
          0.6751001477241516,
          0.5046646595001221,
          0.2356247454881668,
          0.2422587275505066,
          0.28044238686561584,
          0.6366221308708191,
          0.2843286097049713,
          0.5007513165473938,
          0.5276484489440918,
          0.3914729952812195,
          0.46937260031700134,
          0.7163103222846985,
          0.3986637592315674,
          0.33134621381759644,
          0.7628792524337769,
          0.2564369738101959,
          0.7975448966026306,
          0.5351089835166931,
          0.7453494071960449,
          0.1548539102077484,
          0.80140620470047,
          0.11072142422199249,
          0.30143824219703674,
          0.31409671902656555,
          0.5452461242675781,
          0.5951558351516724,
          0.4191358685493469,
          0.4163948893547058,
          0.8582677245140076,
          0.38555192947387695,
          0.41076958179473877,
          0.2420218586921692,
          0.7319063544273376,
          0.4438571333885193,
          0.5709992051124573,
          0.2837817072868347,
          0.0070167663507163525,
          0.4200337529182434,
          0.7117416858673096,
          0.7138006091117859,
          0.5762506723403931,
          0.825538694858551,
          0.5264599919319153,
          0.3435056805610657,
          0.3992985486984253,
          0.059020526707172394,
          0.2854175865650177,
          0.3152044713497162,
          0.23003384470939636,
          0.3584957718849182,
          0.32549217343330383,
          0.8385499119758606,
          0.5329607129096985,
          0.10805971920490265,
          0.22513656318187714,
          0.2540610730648041,
          0.3942713737487793,
          0.3300788104534149,
          0.20832625031471252,
          0.21407677233219147,
          0.14681091904640198,
          0.21814799308776855,
          0.6021910309791565,
          0.10073526203632355,
          0.66265869140625,
          0.28053733706474304,
          0.4735519289970398,
          0.03489995375275612,
          0.49765461683273315,
          0.7204194068908691,
          0.5322450995445251,
          0.3904251754283905,
          0.49710115790367126,
          0.060459740459918976,
          0.65130615234375,
          0.12064044177532196,
          0.4884813129901886,
          0.5089671611785889,
          0.2495797872543335,
          0.12744104862213135,
          0.10224805027246475,
          0.3063792288303375,
          0.7445966601371765,
          0.5393373370170593,
          0.04676808789372444,
          0.7743539810180664,
          0.22694247961044312,
          0,
          0.18174409866333008,
          0.6120379567146301,
          0.6728923320770264,
          0.38781943917274475,
          0.3739807605743408,
          0.22817502915859222,
          0.22147627174854279,
          0.2766723930835724,
          0.10139850527048111,
          0.5619755983352661,
          0.2792247235774994,
          0.3925842046737671,
          0.6088134050369263,
          0.5905150175094604,
          0.17249758541584015,
          0.25063779950141907,
          0.3855554163455963,
          0.8485599160194397,
          0.024779845029115677,
          0.5767630338668823,
          0.25944793224334717,
          0.00216979393735528,
          0.9556095004081726,
          0.12793532013893127,
          0.2762814164161682,
          0.5089845061302185,
          0.762089192867279,
          0.12129388749599457,
          0.15294699370861053,
          0.25905317068099976,
          0.20916731655597687,
          0.8151554465293884
         ],
         "xaxis": "x",
         "yaxis": "y"
        }
       ],
       "layout": {
        "barmode": "relative",
        "height": 500,
        "legend": {
         "tracegroupgap": 0
        },
        "template": {
         "data": {
          "bar": [
           {
            "error_x": {
             "color": "#2a3f5f"
            },
            "error_y": {
             "color": "#2a3f5f"
            },
            "marker": {
             "line": {
              "color": "#E5ECF6",
              "width": 0.5
             },
             "pattern": {
              "fillmode": "overlay",
              "size": 10,
              "solidity": 0.2
             }
            },
            "type": "bar"
           }
          ],
          "barpolar": [
           {
            "marker": {
             "line": {
              "color": "#E5ECF6",
              "width": 0.5
             },
             "pattern": {
              "fillmode": "overlay",
              "size": 10,
              "solidity": 0.2
             }
            },
            "type": "barpolar"
           }
          ],
          "carpet": [
           {
            "aaxis": {
             "endlinecolor": "#2a3f5f",
             "gridcolor": "white",
             "linecolor": "white",
             "minorgridcolor": "white",
             "startlinecolor": "#2a3f5f"
            },
            "baxis": {
             "endlinecolor": "#2a3f5f",
             "gridcolor": "white",
             "linecolor": "white",
             "minorgridcolor": "white",
             "startlinecolor": "#2a3f5f"
            },
            "type": "carpet"
           }
          ],
          "choropleth": [
           {
            "colorbar": {
             "outlinewidth": 0,
             "ticks": ""
            },
            "type": "choropleth"
           }
          ],
          "contour": [
           {
            "colorbar": {
             "outlinewidth": 0,
             "ticks": ""
            },
            "colorscale": [
             [
              0,
              "#0d0887"
             ],
             [
              0.1111111111111111,
              "#46039f"
             ],
             [
              0.2222222222222222,
              "#7201a8"
             ],
             [
              0.3333333333333333,
              "#9c179e"
             ],
             [
              0.4444444444444444,
              "#bd3786"
             ],
             [
              0.5555555555555556,
              "#d8576b"
             ],
             [
              0.6666666666666666,
              "#ed7953"
             ],
             [
              0.7777777777777778,
              "#fb9f3a"
             ],
             [
              0.8888888888888888,
              "#fdca26"
             ],
             [
              1,
              "#f0f921"
             ]
            ],
            "type": "contour"
           }
          ],
          "contourcarpet": [
           {
            "colorbar": {
             "outlinewidth": 0,
             "ticks": ""
            },
            "type": "contourcarpet"
           }
          ],
          "heatmap": [
           {
            "colorbar": {
             "outlinewidth": 0,
             "ticks": ""
            },
            "colorscale": [
             [
              0,
              "#0d0887"
             ],
             [
              0.1111111111111111,
              "#46039f"
             ],
             [
              0.2222222222222222,
              "#7201a8"
             ],
             [
              0.3333333333333333,
              "#9c179e"
             ],
             [
              0.4444444444444444,
              "#bd3786"
             ],
             [
              0.5555555555555556,
              "#d8576b"
             ],
             [
              0.6666666666666666,
              "#ed7953"
             ],
             [
              0.7777777777777778,
              "#fb9f3a"
             ],
             [
              0.8888888888888888,
              "#fdca26"
             ],
             [
              1,
              "#f0f921"
             ]
            ],
            "type": "heatmap"
           }
          ],
          "heatmapgl": [
           {
            "colorbar": {
             "outlinewidth": 0,
             "ticks": ""
            },
            "colorscale": [
             [
              0,
              "#0d0887"
             ],
             [
              0.1111111111111111,
              "#46039f"
             ],
             [
              0.2222222222222222,
              "#7201a8"
             ],
             [
              0.3333333333333333,
              "#9c179e"
             ],
             [
              0.4444444444444444,
              "#bd3786"
             ],
             [
              0.5555555555555556,
              "#d8576b"
             ],
             [
              0.6666666666666666,
              "#ed7953"
             ],
             [
              0.7777777777777778,
              "#fb9f3a"
             ],
             [
              0.8888888888888888,
              "#fdca26"
             ],
             [
              1,
              "#f0f921"
             ]
            ],
            "type": "heatmapgl"
           }
          ],
          "histogram": [
           {
            "marker": {
             "pattern": {
              "fillmode": "overlay",
              "size": 10,
              "solidity": 0.2
             }
            },
            "type": "histogram"
           }
          ],
          "histogram2d": [
           {
            "colorbar": {
             "outlinewidth": 0,
             "ticks": ""
            },
            "colorscale": [
             [
              0,
              "#0d0887"
             ],
             [
              0.1111111111111111,
              "#46039f"
             ],
             [
              0.2222222222222222,
              "#7201a8"
             ],
             [
              0.3333333333333333,
              "#9c179e"
             ],
             [
              0.4444444444444444,
              "#bd3786"
             ],
             [
              0.5555555555555556,
              "#d8576b"
             ],
             [
              0.6666666666666666,
              "#ed7953"
             ],
             [
              0.7777777777777778,
              "#fb9f3a"
             ],
             [
              0.8888888888888888,
              "#fdca26"
             ],
             [
              1,
              "#f0f921"
             ]
            ],
            "type": "histogram2d"
           }
          ],
          "histogram2dcontour": [
           {
            "colorbar": {
             "outlinewidth": 0,
             "ticks": ""
            },
            "colorscale": [
             [
              0,
              "#0d0887"
             ],
             [
              0.1111111111111111,
              "#46039f"
             ],
             [
              0.2222222222222222,
              "#7201a8"
             ],
             [
              0.3333333333333333,
              "#9c179e"
             ],
             [
              0.4444444444444444,
              "#bd3786"
             ],
             [
              0.5555555555555556,
              "#d8576b"
             ],
             [
              0.6666666666666666,
              "#ed7953"
             ],
             [
              0.7777777777777778,
              "#fb9f3a"
             ],
             [
              0.8888888888888888,
              "#fdca26"
             ],
             [
              1,
              "#f0f921"
             ]
            ],
            "type": "histogram2dcontour"
           }
          ],
          "mesh3d": [
           {
            "colorbar": {
             "outlinewidth": 0,
             "ticks": ""
            },
            "type": "mesh3d"
           }
          ],
          "parcoords": [
           {
            "line": {
             "colorbar": {
              "outlinewidth": 0,
              "ticks": ""
             }
            },
            "type": "parcoords"
           }
          ],
          "pie": [
           {
            "automargin": true,
            "type": "pie"
           }
          ],
          "scatter": [
           {
            "fillpattern": {
             "fillmode": "overlay",
             "size": 10,
             "solidity": 0.2
            },
            "type": "scatter"
           }
          ],
          "scatter3d": [
           {
            "line": {
             "colorbar": {
              "outlinewidth": 0,
              "ticks": ""
             }
            },
            "marker": {
             "colorbar": {
              "outlinewidth": 0,
              "ticks": ""
             }
            },
            "type": "scatter3d"
           }
          ],
          "scattercarpet": [
           {
            "marker": {
             "colorbar": {
              "outlinewidth": 0,
              "ticks": ""
             }
            },
            "type": "scattercarpet"
           }
          ],
          "scattergeo": [
           {
            "marker": {
             "colorbar": {
              "outlinewidth": 0,
              "ticks": ""
             }
            },
            "type": "scattergeo"
           }
          ],
          "scattergl": [
           {
            "marker": {
             "colorbar": {
              "outlinewidth": 0,
              "ticks": ""
             }
            },
            "type": "scattergl"
           }
          ],
          "scattermapbox": [
           {
            "marker": {
             "colorbar": {
              "outlinewidth": 0,
              "ticks": ""
             }
            },
            "type": "scattermapbox"
           }
          ],
          "scatterpolar": [
           {
            "marker": {
             "colorbar": {
              "outlinewidth": 0,
              "ticks": ""
             }
            },
            "type": "scatterpolar"
           }
          ],
          "scatterpolargl": [
           {
            "marker": {
             "colorbar": {
              "outlinewidth": 0,
              "ticks": ""
             }
            },
            "type": "scatterpolargl"
           }
          ],
          "scatterternary": [
           {
            "marker": {
             "colorbar": {
              "outlinewidth": 0,
              "ticks": ""
             }
            },
            "type": "scatterternary"
           }
          ],
          "surface": [
           {
            "colorbar": {
             "outlinewidth": 0,
             "ticks": ""
            },
            "colorscale": [
             [
              0,
              "#0d0887"
             ],
             [
              0.1111111111111111,
              "#46039f"
             ],
             [
              0.2222222222222222,
              "#7201a8"
             ],
             [
              0.3333333333333333,
              "#9c179e"
             ],
             [
              0.4444444444444444,
              "#bd3786"
             ],
             [
              0.5555555555555556,
              "#d8576b"
             ],
             [
              0.6666666666666666,
              "#ed7953"
             ],
             [
              0.7777777777777778,
              "#fb9f3a"
             ],
             [
              0.8888888888888888,
              "#fdca26"
             ],
             [
              1,
              "#f0f921"
             ]
            ],
            "type": "surface"
           }
          ],
          "table": [
           {
            "cells": {
             "fill": {
              "color": "#EBF0F8"
             },
             "line": {
              "color": "white"
             }
            },
            "header": {
             "fill": {
              "color": "#C8D4E3"
             },
             "line": {
              "color": "white"
             }
            },
            "type": "table"
           }
          ]
         },
         "layout": {
          "annotationdefaults": {
           "arrowcolor": "#2a3f5f",
           "arrowhead": 0,
           "arrowwidth": 1
          },
          "autotypenumbers": "strict",
          "coloraxis": {
           "colorbar": {
            "outlinewidth": 0,
            "ticks": ""
           }
          },
          "colorscale": {
           "diverging": [
            [
             0,
             "#8e0152"
            ],
            [
             0.1,
             "#c51b7d"
            ],
            [
             0.2,
             "#de77ae"
            ],
            [
             0.3,
             "#f1b6da"
            ],
            [
             0.4,
             "#fde0ef"
            ],
            [
             0.5,
             "#f7f7f7"
            ],
            [
             0.6,
             "#e6f5d0"
            ],
            [
             0.7,
             "#b8e186"
            ],
            [
             0.8,
             "#7fbc41"
            ],
            [
             0.9,
             "#4d9221"
            ],
            [
             1,
             "#276419"
            ]
           ],
           "sequential": [
            [
             0,
             "#0d0887"
            ],
            [
             0.1111111111111111,
             "#46039f"
            ],
            [
             0.2222222222222222,
             "#7201a8"
            ],
            [
             0.3333333333333333,
             "#9c179e"
            ],
            [
             0.4444444444444444,
             "#bd3786"
            ],
            [
             0.5555555555555556,
             "#d8576b"
            ],
            [
             0.6666666666666666,
             "#ed7953"
            ],
            [
             0.7777777777777778,
             "#fb9f3a"
            ],
            [
             0.8888888888888888,
             "#fdca26"
            ],
            [
             1,
             "#f0f921"
            ]
           ],
           "sequentialminus": [
            [
             0,
             "#0d0887"
            ],
            [
             0.1111111111111111,
             "#46039f"
            ],
            [
             0.2222222222222222,
             "#7201a8"
            ],
            [
             0.3333333333333333,
             "#9c179e"
            ],
            [
             0.4444444444444444,
             "#bd3786"
            ],
            [
             0.5555555555555556,
             "#d8576b"
            ],
            [
             0.6666666666666666,
             "#ed7953"
            ],
            [
             0.7777777777777778,
             "#fb9f3a"
            ],
            [
             0.8888888888888888,
             "#fdca26"
            ],
            [
             1,
             "#f0f921"
            ]
           ]
          },
          "colorway": [
           "#636efa",
           "#EF553B",
           "#00cc96",
           "#ab63fa",
           "#FFA15A",
           "#19d3f3",
           "#FF6692",
           "#B6E880",
           "#FF97FF",
           "#FECB52"
          ],
          "font": {
           "color": "#2a3f5f"
          },
          "geo": {
           "bgcolor": "white",
           "lakecolor": "white",
           "landcolor": "#E5ECF6",
           "showlakes": true,
           "showland": true,
           "subunitcolor": "white"
          },
          "hoverlabel": {
           "align": "left"
          },
          "hovermode": "closest",
          "mapbox": {
           "style": "light"
          },
          "paper_bgcolor": "white",
          "plot_bgcolor": "#E5ECF6",
          "polar": {
           "angularaxis": {
            "gridcolor": "white",
            "linecolor": "white",
            "ticks": ""
           },
           "bgcolor": "#E5ECF6",
           "radialaxis": {
            "gridcolor": "white",
            "linecolor": "white",
            "ticks": ""
           }
          },
          "scene": {
           "xaxis": {
            "backgroundcolor": "#E5ECF6",
            "gridcolor": "white",
            "gridwidth": 2,
            "linecolor": "white",
            "showbackground": true,
            "ticks": "",
            "zerolinecolor": "white"
           },
           "yaxis": {
            "backgroundcolor": "#E5ECF6",
            "gridcolor": "white",
            "gridwidth": 2,
            "linecolor": "white",
            "showbackground": true,
            "ticks": "",
            "zerolinecolor": "white"
           },
           "zaxis": {
            "backgroundcolor": "#E5ECF6",
            "gridcolor": "white",
            "gridwidth": 2,
            "linecolor": "white",
            "showbackground": true,
            "ticks": "",
            "zerolinecolor": "white"
           }
          },
          "shapedefaults": {
           "line": {
            "color": "#2a3f5f"
           }
          },
          "ternary": {
           "aaxis": {
            "gridcolor": "white",
            "linecolor": "white",
            "ticks": ""
           },
           "baxis": {
            "gridcolor": "white",
            "linecolor": "white",
            "ticks": ""
           },
           "bgcolor": "#E5ECF6",
           "caxis": {
            "gridcolor": "white",
            "linecolor": "white",
            "ticks": ""
           }
          },
          "title": {
           "x": 0.05
          },
          "xaxis": {
           "automargin": true,
           "gridcolor": "white",
           "linecolor": "white",
           "ticks": "",
           "title": {
            "standoff": 15
           },
           "zerolinecolor": "white",
           "zerolinewidth": 2
          },
          "yaxis": {
           "automargin": true,
           "gridcolor": "white",
           "linecolor": "white",
           "ticks": "",
           "title": {
            "standoff": 15
           },
           "zerolinecolor": "white",
           "zerolinewidth": 2
          }
         }
        },
        "title": {
         "text": "Model 2 - IoU Distribution for Validation Set"
        },
        "width": 600,
        "xaxis": {
         "anchor": "y",
         "domain": [
          0,
          1
         ],
         "title": {
          "text": "prediction_iou"
         }
        },
        "yaxis": {
         "anchor": "x",
         "domain": [
          0,
          1
         ],
         "title": {
          "text": "count"
         }
        }
       }
      }
     },
     "metadata": {},
     "output_type": "display_data"
    }
   ],
   "source": [
    "fig = px.histogram(model2_summary,\n",
    "                   x=\"prediction_iou\",\n",
    "                   title = 'Model 2 - IoU Distribution for Validation Set',\n",
    "                   width=600, height=500, nbins = 30)\n",
    "fig.show()"
   ]
  },
  {
   "cell_type": "code",
   "execution_count": 22,
   "metadata": {},
   "outputs": [
    {
     "data": {
      "text/plain": [
       "count    459.000000\n",
       "mean       0.439019\n",
       "std        0.226110\n",
       "min        0.000000\n",
       "25%        0.258827\n",
       "50%        0.433005\n",
       "75%        0.624073\n",
       "max        0.945250\n",
       "Name: prediction_iou, dtype: float64"
      ]
     },
     "execution_count": 22,
     "metadata": {},
     "output_type": "execute_result"
    }
   ],
   "source": [
    "model3_summary['prediction_iou'].astype(float).describe()"
   ]
  },
  {
   "cell_type": "code",
   "execution_count": 17,
   "metadata": {},
   "outputs": [
    {
     "data": {
      "application/vnd.plotly.v1+json": {
       "config": {
        "plotlyServerURL": "https://plot.ly"
       },
       "data": [
        {
         "alignmentgroup": "True",
         "bingroup": "x",
         "hovertemplate": "prediction_iou=%{x}<br>count=%{y}<extra></extra>",
         "legendgroup": "",
         "marker": {
          "color": "#636efa",
          "pattern": {
           "shape": ""
          }
         },
         "name": "",
         "nbinsx": 30,
         "offsetgroup": "",
         "orientation": "v",
         "showlegend": false,
         "type": "histogram",
         "x": [
          0.12130379676818848,
          0.5449965596199036,
          0.04667482152581215,
          0.4135708808898926,
          0.16951757669448853,
          0.3252943754196167,
          0.7250180244445801,
          0.09224972128868103,
          0.4041852056980133,
          0.8918046355247498,
          0,
          0.48659148812294006,
          0.12806691229343414,
          0.16744364798069,
          0,
          0.33772510290145874,
          0.7958893775939941,
          0.33951738476753235,
          0.7553779482841492,
          0.6167032122612,
          0.38181787729263306,
          0.3855544626712799,
          0.5616282224655151,
          0.7746835350990295,
          0.26379990577697754,
          0.6506038308143616,
          0.5397242903709412,
          0.3793533742427826,
          0.24930799007415771,
          0.4121774435043335,
          0.12364304065704346,
          0.2679026424884796,
          0.17901277542114258,
          0.2266281396150589,
          0.5207555890083313,
          0.716889500617981,
          0.5254448056221008,
          0.20672105252742767,
          0.16276709735393524,
          0.23268014192581177,
          0.5720449090003967,
          0.6837327480316162,
          0.35572823882102966,
          0.5141546130180359,
          0.49917975068092346,
          0.30477282404899597,
          0.12841163575649261,
          0.11491639167070389,
          0.7114107012748718,
          0.5447877049446106,
          0.5291049480438232,
          0.373748242855072,
          0.6118221879005432,
          0.3011623024940491,
          0.7481854557991028,
          0.4123676121234894,
          0.8016363978385925,
          0.6928210854530334,
          0.8221469521522522,
          0.5936797261238098,
          0.3121659457683563,
          0.47016215324401855,
          0.5668846368789673,
          0.43276870250701904,
          0.669050395488739,
          0.4417126774787903,
          0.775774359703064,
          0.219144806265831,
          0.3747596740722656,
          0.7917783856391907,
          0.47962677478790283,
          0.3170020580291748,
          0.24254077672958374,
          0.838421106338501,
          0.5142809748649597,
          0.6844313144683838,
          0.39430901408195496,
          0.3915646970272064,
          0.176247239112854,
          0.5872518420219421,
          0.2120012640953064,
          0.2986850440502167,
          0.31419968605041504,
          0.285028874874115,
          0.7460096478462219,
          0.2765975892543793,
          0.45360273122787476,
          0.5954110026359558,
          0.7063083052635193,
          0.47565802931785583,
          0.6383645534515381,
          0.6711521148681641,
          0.6043661832809448,
          0.15146048367023468,
          0.6709703803062439,
          0.22681358456611633,
          0.9271689653396606,
          0.6890006065368652,
          0.6248545050621033,
          0.5255273580551147,
          0.4290240705013275,
          0.14584943652153015,
          0.39794495701789856,
          0.4526287019252777,
          0.2848450541496277,
          0.2708224654197693,
          0.4624589681625366,
          0.5686841607093811,
          0.11842770874500275,
          0.7697843909263611,
          0.6463081240653992,
          0.21207398176193237,
          0.14613473415374756,
          0.5883602499961853,
          0.08940307796001434,
          0.6487733721733093,
          0.4968550205230713,
          0.3931429088115692,
          0.3021102249622345,
          0.5278863310813904,
          0.6761934757232666,
          0.6813309192657471,
          0.2732003331184387,
          0.2346574366092682,
          0.7231823205947876,
          0.9112187027931213,
          0.6212809681892395,
          0.6784691214561462,
          0.21130628883838654,
          0.7432090044021606,
          0.7388219833374023,
          0.5777176022529602,
          0.43877872824668884,
          0.34540408849716187,
          0.22152042388916016,
          0.28449690341949463,
          0.38949522376060486,
          0.16616560518741608,
          0.13458652794361115,
          0.5218166708946228,
          0.04034339264035225,
          0.4543026089668274,
          0.22344528138637543,
          0.4929100275039673,
          0.8350170254707336,
          0.4286426901817322,
          0.2740371823310852,
          0.8141855001449585,
          0.6311823725700378,
          0.4393065273761749,
          0.7506659030914307,
          0.628991425037384,
          0.01942446082830429,
          0.22555558383464813,
          0.4672499895095825,
          0.9172030687332153,
          0.2893558144569397,
          0.4494967460632324,
          0.911279022693634,
          0.646104097366333,
          0.46817198395729065,
          0.32890260219573975,
          0.5168612599372864,
          0.22239282727241516,
          0.3172937333583832,
          0.20118948817253113,
          0.6994282007217407,
          0.3231998383998871,
          0.25712496042251587,
          0.3054366111755371,
          0.028681904077529907,
          0.740964949131012,
          0.5530173778533936,
          0.5984982252120972,
          0.659881055355072,
          0.478836327791214,
          0.3011796474456787,
          0,
          0.4382270276546478,
          0.9284304976463318,
          0.545403003692627,
          0.5013995170593262,
          0.26911231875419617,
          0.6775382161140442,
          0.6866587996482849,
          0.36040282249450684,
          0.7013437747955322,
          0.16868136823177338,
          0.6106083989143372,
          0.002460188465192914,
          0.19470122456550598,
          0.611335277557373,
          0.7411691546440125,
          0.8818384408950806,
          0.5315952301025391,
          0.30282533168792725,
          0.5387812256813049,
          0.6020417809486389,
          0.33097776770591736,
          0.24985894560813904,
          0.6867073178291321,
          0.4651929438114166,
          0.4274381399154663,
          0.1870930939912796,
          0.3372569978237152,
          0.34095028042793274,
          0.5693954229354858,
          0.2682110667228699,
          0.17987707257270813,
          0.2758437395095825,
          0.6373388767242432,
          0.15426893532276154,
          0.69532710313797,
          0.5964237451553345,
          0.1445053666830063,
          0.5181090235710144,
          0.4844357669353485,
          0.37980666756629944,
          0.2594938576221466,
          0.14996981620788574,
          0.6018694639205933,
          0.8024704456329346,
          0.7604586482048035,
          0.6423417329788208,
          0.32749179005622864,
          0.1557079255580902,
          0.638178825378418,
          0.7841807007789612,
          0.14790423214435577,
          0.5356836915016174,
          0.33337000012397766,
          0.2019553929567337,
          0.6627047061920166,
          0.6064937710762024,
          0.3454086482524872,
          0.4343399405479431,
          0.701651394367218,
          0.2979706823825836,
          0.3480098843574524,
          0.5652804374694824,
          0.35298240184783936,
          0.25816109776496887,
          0.03247485309839249,
          0.5344191193580627,
          0.42484837770462036,
          0.6559337377548218,
          0.45143255591392517,
          0.44544273614883423,
          0.6541628837585449,
          0.20910005271434784,
          0.4048411548137665,
          0.25626444816589355,
          0.5108885169029236,
          0.46678557991981506,
          0.4859292805194855,
          0.2612040936946869,
          0.7420380711555481,
          0.2647899091243744,
          0.42411768436431885,
          0.2867984473705292,
          0.610847532749176,
          0.16598080098628998,
          0.07027824968099594,
          0.6138489842414856,
          0.5186772346496582,
          0.678666353225708,
          0.3444322347640991,
          0.8091721534729004,
          0.6312169432640076,
          0.5918166637420654,
          0.33872121572494507,
          0.4191572666168213,
          0.6707177758216858,
          0.5508564114570618,
          0.1615867018699646,
          0.6560824513435364,
          0.32808223366737366,
          0.20068134367465973,
          0.360758900642395,
          0.4258458614349365,
          0.26298633217811584,
          0.6491820216178894,
          0.2118777334690094,
          0.34674975275993347,
          0.5794276595115662,
          0.7236154675483704,
          0.4024792015552521,
          0.0371750146150589,
          0.6361204385757446,
          0.542059600353241,
          0.7782278060913086,
          0.7794852256774902,
          0.1420593112707138,
          0.644565999507904,
          0.4566357731819153,
          0.09506680816411972,
          0.6306317448616028,
          0.4937724769115448,
          0.3462223708629608,
          0.8936482071876526,
          0.15665203332901,
          0.3622337281703949,
          0.6722259521484375,
          0.7091339826583862,
          0.22995825111865997,
          0.0029065199196338654,
          0.5921608805656433,
          0.5007633566856384,
          0.6647121906280518,
          0.01687871664762497,
          0.40133702754974365,
          0.34535130858421326,
          0.09445566684007645,
          0.12312668561935425,
          0.8329497575759888,
          0.603462815284729,
          0.43800464272499084,
          0.26839718222618103,
          0.4160485565662384,
          0.48911771178245544,
          0.20323055982589722,
          0.6844006776809692,
          0.5575066208839417,
          0.29542651772499084,
          0.33727720379829407,
          0.0103914774954319,
          0.6400367021560669,
          0.2012300044298172,
          0.14275018870830536,
          0.7548843026161194,
          0,
          0.36308547854423523,
          0.7357437014579773,
          0.5428981781005859,
          0.5351705551147461,
          0.21721616387367249,
          0.23235619068145752,
          0.2099430412054062,
          0.4841464161872864,
          0.6294541358947754,
          0.5142669081687927,
          0.37014004588127136,
          0.1642463207244873,
          0.20918160676956177,
          0.5858432650566101,
          0.3358362913131714,
          0.6312065720558167,
          0.49422523379325867,
          0.36506325006484985,
          0.4701317548751831,
          0.862285315990448,
          0.6285480856895447,
          0.21790598332881927,
          0.9452497959136963,
          0.23893964290618896,
          0.7550671696662903,
          0.43300503492355347,
          0.6477524638175964,
          0.09633798897266388,
          0.6844661235809326,
          0.07630742341279984,
          0.4820086359977722,
          0.18244785070419312,
          0.4299107491970062,
          0.535710334777832,
          0.3728943169116974,
          0.5555346608161926,
          0.9010700583457947,
          0.4946403205394745,
          0.3978048264980316,
          0.16187186539173126,
          0.7246501445770264,
          0.3946898579597473,
          0.6409595608711243,
          0.28761136531829834,
          0.006231758277863264,
          0.37266939878463745,
          0.7599102258682251,
          0.748296320438385,
          0.8652535676956177,
          0.7626888751983643,
          0.5275605320930481,
          0.5826334357261658,
          0.532058835029602,
          0.1912750005722046,
          0.2760968804359436,
          0.2411353439092636,
          0.34655916690826416,
          0.25245237350463867,
          0.41603773832321167,
          0.8786633014678955,
          0.6318788528442383,
          0.25355032086372375,
          0.19627878069877625,
          0.2986409068107605,
          0.4233606159687042,
          0.361349493265152,
          0.0979032889008522,
          0.2561902105808258,
          0.2148868888616562,
          0.09686096012592316,
          0.7732961177825928,
          0.1894626021385193,
          0.4916544556617737,
          0.4049800932407379,
          0.5414780378341675,
          0.43909451365470886,
          0.39429914951324463,
          0.5996836423873901,
          0.6399848461151123,
          0.3929298222064972,
          0.6934673190116882,
          0.23732179403305054,
          0.6212663650512695,
          0.06444420665502548,
          0.5576240420341492,
          0.5979917645454407,
          0.2404855489730835,
          0.29901427030563354,
          0.10690726339817047,
          0.29586300253868103,
          0.6234710812568665,
          0.4796692132949829,
          0.07915395498275757,
          0.7748755812644958,
          0.5797678232192993,
          0,
          0.43864813446998596,
          0.2720518410205841,
          0.7126193642616272,
          0.40921178460121155,
          0.509967565536499,
          0.47158297896385193,
          0.20554693043231964,
          0.2895207703113556,
          0.31573206186294556,
          0.6895681023597717,
          0.3869079649448395,
          0.35103172063827515,
          0.573444128036499,
          0.5825342535972595,
          0.14317665994167328,
          0.2230701595544815,
          0.2480914294719696,
          0.8983762264251709,
          0.009257161058485508,
          0.5413299798965454,
          0.2772294580936432,
          0.0948231965303421,
          0.9290967583656311,
          0.18898800015449524,
          0.30769845843315125,
          0.6246739625930786,
          0.6808957457542419,
          0.002363462233915925,
          0.2948594093322754,
          0.1643448919057846,
          0.08910735696554184,
          0.7659622430801392
         ],
         "xaxis": "x",
         "yaxis": "y"
        }
       ],
       "layout": {
        "barmode": "relative",
        "height": 500,
        "legend": {
         "tracegroupgap": 0
        },
        "template": {
         "data": {
          "bar": [
           {
            "error_x": {
             "color": "#2a3f5f"
            },
            "error_y": {
             "color": "#2a3f5f"
            },
            "marker": {
             "line": {
              "color": "#E5ECF6",
              "width": 0.5
             },
             "pattern": {
              "fillmode": "overlay",
              "size": 10,
              "solidity": 0.2
             }
            },
            "type": "bar"
           }
          ],
          "barpolar": [
           {
            "marker": {
             "line": {
              "color": "#E5ECF6",
              "width": 0.5
             },
             "pattern": {
              "fillmode": "overlay",
              "size": 10,
              "solidity": 0.2
             }
            },
            "type": "barpolar"
           }
          ],
          "carpet": [
           {
            "aaxis": {
             "endlinecolor": "#2a3f5f",
             "gridcolor": "white",
             "linecolor": "white",
             "minorgridcolor": "white",
             "startlinecolor": "#2a3f5f"
            },
            "baxis": {
             "endlinecolor": "#2a3f5f",
             "gridcolor": "white",
             "linecolor": "white",
             "minorgridcolor": "white",
             "startlinecolor": "#2a3f5f"
            },
            "type": "carpet"
           }
          ],
          "choropleth": [
           {
            "colorbar": {
             "outlinewidth": 0,
             "ticks": ""
            },
            "type": "choropleth"
           }
          ],
          "contour": [
           {
            "colorbar": {
             "outlinewidth": 0,
             "ticks": ""
            },
            "colorscale": [
             [
              0,
              "#0d0887"
             ],
             [
              0.1111111111111111,
              "#46039f"
             ],
             [
              0.2222222222222222,
              "#7201a8"
             ],
             [
              0.3333333333333333,
              "#9c179e"
             ],
             [
              0.4444444444444444,
              "#bd3786"
             ],
             [
              0.5555555555555556,
              "#d8576b"
             ],
             [
              0.6666666666666666,
              "#ed7953"
             ],
             [
              0.7777777777777778,
              "#fb9f3a"
             ],
             [
              0.8888888888888888,
              "#fdca26"
             ],
             [
              1,
              "#f0f921"
             ]
            ],
            "type": "contour"
           }
          ],
          "contourcarpet": [
           {
            "colorbar": {
             "outlinewidth": 0,
             "ticks": ""
            },
            "type": "contourcarpet"
           }
          ],
          "heatmap": [
           {
            "colorbar": {
             "outlinewidth": 0,
             "ticks": ""
            },
            "colorscale": [
             [
              0,
              "#0d0887"
             ],
             [
              0.1111111111111111,
              "#46039f"
             ],
             [
              0.2222222222222222,
              "#7201a8"
             ],
             [
              0.3333333333333333,
              "#9c179e"
             ],
             [
              0.4444444444444444,
              "#bd3786"
             ],
             [
              0.5555555555555556,
              "#d8576b"
             ],
             [
              0.6666666666666666,
              "#ed7953"
             ],
             [
              0.7777777777777778,
              "#fb9f3a"
             ],
             [
              0.8888888888888888,
              "#fdca26"
             ],
             [
              1,
              "#f0f921"
             ]
            ],
            "type": "heatmap"
           }
          ],
          "heatmapgl": [
           {
            "colorbar": {
             "outlinewidth": 0,
             "ticks": ""
            },
            "colorscale": [
             [
              0,
              "#0d0887"
             ],
             [
              0.1111111111111111,
              "#46039f"
             ],
             [
              0.2222222222222222,
              "#7201a8"
             ],
             [
              0.3333333333333333,
              "#9c179e"
             ],
             [
              0.4444444444444444,
              "#bd3786"
             ],
             [
              0.5555555555555556,
              "#d8576b"
             ],
             [
              0.6666666666666666,
              "#ed7953"
             ],
             [
              0.7777777777777778,
              "#fb9f3a"
             ],
             [
              0.8888888888888888,
              "#fdca26"
             ],
             [
              1,
              "#f0f921"
             ]
            ],
            "type": "heatmapgl"
           }
          ],
          "histogram": [
           {
            "marker": {
             "pattern": {
              "fillmode": "overlay",
              "size": 10,
              "solidity": 0.2
             }
            },
            "type": "histogram"
           }
          ],
          "histogram2d": [
           {
            "colorbar": {
             "outlinewidth": 0,
             "ticks": ""
            },
            "colorscale": [
             [
              0,
              "#0d0887"
             ],
             [
              0.1111111111111111,
              "#46039f"
             ],
             [
              0.2222222222222222,
              "#7201a8"
             ],
             [
              0.3333333333333333,
              "#9c179e"
             ],
             [
              0.4444444444444444,
              "#bd3786"
             ],
             [
              0.5555555555555556,
              "#d8576b"
             ],
             [
              0.6666666666666666,
              "#ed7953"
             ],
             [
              0.7777777777777778,
              "#fb9f3a"
             ],
             [
              0.8888888888888888,
              "#fdca26"
             ],
             [
              1,
              "#f0f921"
             ]
            ],
            "type": "histogram2d"
           }
          ],
          "histogram2dcontour": [
           {
            "colorbar": {
             "outlinewidth": 0,
             "ticks": ""
            },
            "colorscale": [
             [
              0,
              "#0d0887"
             ],
             [
              0.1111111111111111,
              "#46039f"
             ],
             [
              0.2222222222222222,
              "#7201a8"
             ],
             [
              0.3333333333333333,
              "#9c179e"
             ],
             [
              0.4444444444444444,
              "#bd3786"
             ],
             [
              0.5555555555555556,
              "#d8576b"
             ],
             [
              0.6666666666666666,
              "#ed7953"
             ],
             [
              0.7777777777777778,
              "#fb9f3a"
             ],
             [
              0.8888888888888888,
              "#fdca26"
             ],
             [
              1,
              "#f0f921"
             ]
            ],
            "type": "histogram2dcontour"
           }
          ],
          "mesh3d": [
           {
            "colorbar": {
             "outlinewidth": 0,
             "ticks": ""
            },
            "type": "mesh3d"
           }
          ],
          "parcoords": [
           {
            "line": {
             "colorbar": {
              "outlinewidth": 0,
              "ticks": ""
             }
            },
            "type": "parcoords"
           }
          ],
          "pie": [
           {
            "automargin": true,
            "type": "pie"
           }
          ],
          "scatter": [
           {
            "fillpattern": {
             "fillmode": "overlay",
             "size": 10,
             "solidity": 0.2
            },
            "type": "scatter"
           }
          ],
          "scatter3d": [
           {
            "line": {
             "colorbar": {
              "outlinewidth": 0,
              "ticks": ""
             }
            },
            "marker": {
             "colorbar": {
              "outlinewidth": 0,
              "ticks": ""
             }
            },
            "type": "scatter3d"
           }
          ],
          "scattercarpet": [
           {
            "marker": {
             "colorbar": {
              "outlinewidth": 0,
              "ticks": ""
             }
            },
            "type": "scattercarpet"
           }
          ],
          "scattergeo": [
           {
            "marker": {
             "colorbar": {
              "outlinewidth": 0,
              "ticks": ""
             }
            },
            "type": "scattergeo"
           }
          ],
          "scattergl": [
           {
            "marker": {
             "colorbar": {
              "outlinewidth": 0,
              "ticks": ""
             }
            },
            "type": "scattergl"
           }
          ],
          "scattermapbox": [
           {
            "marker": {
             "colorbar": {
              "outlinewidth": 0,
              "ticks": ""
             }
            },
            "type": "scattermapbox"
           }
          ],
          "scatterpolar": [
           {
            "marker": {
             "colorbar": {
              "outlinewidth": 0,
              "ticks": ""
             }
            },
            "type": "scatterpolar"
           }
          ],
          "scatterpolargl": [
           {
            "marker": {
             "colorbar": {
              "outlinewidth": 0,
              "ticks": ""
             }
            },
            "type": "scatterpolargl"
           }
          ],
          "scatterternary": [
           {
            "marker": {
             "colorbar": {
              "outlinewidth": 0,
              "ticks": ""
             }
            },
            "type": "scatterternary"
           }
          ],
          "surface": [
           {
            "colorbar": {
             "outlinewidth": 0,
             "ticks": ""
            },
            "colorscale": [
             [
              0,
              "#0d0887"
             ],
             [
              0.1111111111111111,
              "#46039f"
             ],
             [
              0.2222222222222222,
              "#7201a8"
             ],
             [
              0.3333333333333333,
              "#9c179e"
             ],
             [
              0.4444444444444444,
              "#bd3786"
             ],
             [
              0.5555555555555556,
              "#d8576b"
             ],
             [
              0.6666666666666666,
              "#ed7953"
             ],
             [
              0.7777777777777778,
              "#fb9f3a"
             ],
             [
              0.8888888888888888,
              "#fdca26"
             ],
             [
              1,
              "#f0f921"
             ]
            ],
            "type": "surface"
           }
          ],
          "table": [
           {
            "cells": {
             "fill": {
              "color": "#EBF0F8"
             },
             "line": {
              "color": "white"
             }
            },
            "header": {
             "fill": {
              "color": "#C8D4E3"
             },
             "line": {
              "color": "white"
             }
            },
            "type": "table"
           }
          ]
         },
         "layout": {
          "annotationdefaults": {
           "arrowcolor": "#2a3f5f",
           "arrowhead": 0,
           "arrowwidth": 1
          },
          "autotypenumbers": "strict",
          "coloraxis": {
           "colorbar": {
            "outlinewidth": 0,
            "ticks": ""
           }
          },
          "colorscale": {
           "diverging": [
            [
             0,
             "#8e0152"
            ],
            [
             0.1,
             "#c51b7d"
            ],
            [
             0.2,
             "#de77ae"
            ],
            [
             0.3,
             "#f1b6da"
            ],
            [
             0.4,
             "#fde0ef"
            ],
            [
             0.5,
             "#f7f7f7"
            ],
            [
             0.6,
             "#e6f5d0"
            ],
            [
             0.7,
             "#b8e186"
            ],
            [
             0.8,
             "#7fbc41"
            ],
            [
             0.9,
             "#4d9221"
            ],
            [
             1,
             "#276419"
            ]
           ],
           "sequential": [
            [
             0,
             "#0d0887"
            ],
            [
             0.1111111111111111,
             "#46039f"
            ],
            [
             0.2222222222222222,
             "#7201a8"
            ],
            [
             0.3333333333333333,
             "#9c179e"
            ],
            [
             0.4444444444444444,
             "#bd3786"
            ],
            [
             0.5555555555555556,
             "#d8576b"
            ],
            [
             0.6666666666666666,
             "#ed7953"
            ],
            [
             0.7777777777777778,
             "#fb9f3a"
            ],
            [
             0.8888888888888888,
             "#fdca26"
            ],
            [
             1,
             "#f0f921"
            ]
           ],
           "sequentialminus": [
            [
             0,
             "#0d0887"
            ],
            [
             0.1111111111111111,
             "#46039f"
            ],
            [
             0.2222222222222222,
             "#7201a8"
            ],
            [
             0.3333333333333333,
             "#9c179e"
            ],
            [
             0.4444444444444444,
             "#bd3786"
            ],
            [
             0.5555555555555556,
             "#d8576b"
            ],
            [
             0.6666666666666666,
             "#ed7953"
            ],
            [
             0.7777777777777778,
             "#fb9f3a"
            ],
            [
             0.8888888888888888,
             "#fdca26"
            ],
            [
             1,
             "#f0f921"
            ]
           ]
          },
          "colorway": [
           "#636efa",
           "#EF553B",
           "#00cc96",
           "#ab63fa",
           "#FFA15A",
           "#19d3f3",
           "#FF6692",
           "#B6E880",
           "#FF97FF",
           "#FECB52"
          ],
          "font": {
           "color": "#2a3f5f"
          },
          "geo": {
           "bgcolor": "white",
           "lakecolor": "white",
           "landcolor": "#E5ECF6",
           "showlakes": true,
           "showland": true,
           "subunitcolor": "white"
          },
          "hoverlabel": {
           "align": "left"
          },
          "hovermode": "closest",
          "mapbox": {
           "style": "light"
          },
          "paper_bgcolor": "white",
          "plot_bgcolor": "#E5ECF6",
          "polar": {
           "angularaxis": {
            "gridcolor": "white",
            "linecolor": "white",
            "ticks": ""
           },
           "bgcolor": "#E5ECF6",
           "radialaxis": {
            "gridcolor": "white",
            "linecolor": "white",
            "ticks": ""
           }
          },
          "scene": {
           "xaxis": {
            "backgroundcolor": "#E5ECF6",
            "gridcolor": "white",
            "gridwidth": 2,
            "linecolor": "white",
            "showbackground": true,
            "ticks": "",
            "zerolinecolor": "white"
           },
           "yaxis": {
            "backgroundcolor": "#E5ECF6",
            "gridcolor": "white",
            "gridwidth": 2,
            "linecolor": "white",
            "showbackground": true,
            "ticks": "",
            "zerolinecolor": "white"
           },
           "zaxis": {
            "backgroundcolor": "#E5ECF6",
            "gridcolor": "white",
            "gridwidth": 2,
            "linecolor": "white",
            "showbackground": true,
            "ticks": "",
            "zerolinecolor": "white"
           }
          },
          "shapedefaults": {
           "line": {
            "color": "#2a3f5f"
           }
          },
          "ternary": {
           "aaxis": {
            "gridcolor": "white",
            "linecolor": "white",
            "ticks": ""
           },
           "baxis": {
            "gridcolor": "white",
            "linecolor": "white",
            "ticks": ""
           },
           "bgcolor": "#E5ECF6",
           "caxis": {
            "gridcolor": "white",
            "linecolor": "white",
            "ticks": ""
           }
          },
          "title": {
           "x": 0.05
          },
          "xaxis": {
           "automargin": true,
           "gridcolor": "white",
           "linecolor": "white",
           "ticks": "",
           "title": {
            "standoff": 15
           },
           "zerolinecolor": "white",
           "zerolinewidth": 2
          },
          "yaxis": {
           "automargin": true,
           "gridcolor": "white",
           "linecolor": "white",
           "ticks": "",
           "title": {
            "standoff": 15
           },
           "zerolinecolor": "white",
           "zerolinewidth": 2
          }
         }
        },
        "title": {
         "text": "Model 3 - IoU Distribution for Validation Set"
        },
        "width": 600,
        "xaxis": {
         "anchor": "y",
         "domain": [
          0,
          1
         ],
         "title": {
          "text": "prediction_iou"
         }
        },
        "yaxis": {
         "anchor": "x",
         "domain": [
          0,
          1
         ],
         "title": {
          "text": "count"
         }
        }
       }
      }
     },
     "metadata": {},
     "output_type": "display_data"
    }
   ],
   "source": [
    "fig = px.histogram(model3_summary,\n",
    "                   x=\"prediction_iou\",\n",
    "                   title = 'Model 3 - IoU Distribution for Validation Set',\n",
    "                   width=600, height=500, nbins = 30)\n",
    "fig.show()"
   ]
  },
  {
   "cell_type": "markdown",
   "metadata": {},
   "source": [
    "## Analyze model statistics"
   ]
  },
  {
   "cell_type": "code",
   "execution_count": null,
   "metadata": {},
   "outputs": [],
   "source": [
    "# Check if output values are too large\n",
    "model.eval()\n",
    "model.to('cuda')\n",
    "stats = []\n",
    "with torch.no_grad():\n",
    "    for idx, (x, y) in enumerate(ds_valid):\n",
    "        if idx%10==0:\n",
    "            print(idx)\n",
    "        output = model(x[None].to('cuda'))[0].to('cpu')\n",
    "        stats.append((idx, output.min(), output.max()))\n",
    "stats"
   ]
  },
  {
   "cell_type": "code",
   "execution_count": null,
   "metadata": {},
   "outputs": [],
   "source": [
    "# Check performance\n",
    "model.eval()\n",
    "model.to('cuda')\n",
    "stats = []\n",
    "with torch.no_grad():\n",
    "    for idx, (x, y) in enumerate(ds_valid):\n",
    "        output = model(x[None].to('cuda')).to('cpu')\n",
    "        acc = torchtrainer.perf_funcs.segmentation_accuracy(output, y[None], ('iou', 'prec', 'rec'))\n",
    "        stats.append((idx, *list(acc.items())))\n",
    "stats"
   ]
  },
  {
   "cell_type": "code",
   "execution_count": null,
   "metadata": {},
   "outputs": [],
   "source": [
    "# Check intermediate activations of the model\n",
    "insp = torchtrainer.inspector.Inspector(model)\n",
    "insp.start_tracking_activations()\n",
    "\n",
    "model.eval()\n",
    "model.to('cuda')\n",
    "with torch.no_grad():\n",
    "    output = model(ds_valid[0][0][None].to('cuda'))\n",
    "acts = insp.get_activations()\n",
    "\n",
    "stats = []\n",
    "for k, v in acts.items():\n",
    "    if v is not None:\n",
    "        stats.append((k, v.min(), v.max()))\n",
    "stats"
   ]
  },
  {
   "cell_type": "code",
   "execution_count": null,
   "metadata": {},
   "outputs": [
    {
     "name": "stdout",
     "output_type": "stream",
     "text": [
      "{'params': 0.0, 'activations': 0.0, 'flops': 0.0, 'memory': 0.4989638328552246, 'time_cpu': 0.01279592514038086, 'time_gpu': 0.032920574188232424, 'info': ['params: M', 'activations: G', 'flops: G', 'memory: GiB', 'time_cpu: s', 'time_gpu: s']}\n",
      "{'params': 0.0, 'activations': 0.0, 'flops': 0.0, 'memory': 3.0343613624572754, 'time_cpu': 0.0055696964263916016, 'time_gpu': 0.18489549255371093, 'info': ['params: M', 'activations: G', 'flops: G', 'memory: GiB', 'time_cpu: s', 'time_gpu: s']}\n"
     ]
    }
   ],
   "source": [
    "# Benchmark model\n",
    "\n",
    "_model = torchtrainer.models.resunet.ResUNet((3,3,3), (16,32,64))\n",
    "stats_train = torchtrainer.profiling.benchmark_model(_model, (8, 1, 256, 256), no_grad=False, call_backward=True, use_float16=True, return_model_info=False)\n",
    "stats_val = torchtrainer.profiling.benchmark_model(_model, (8, 1, 1104, 1376), no_grad=True, call_backward=False, use_float16=True, return_model_info=False)\n",
    "print(stats_train)\n",
    "print(stats_val)"
   ]
  }
 ],
 "metadata": {
  "kernelspec": {
   "display_name": "Python 3 (ipykernel)",
   "language": "python",
   "name": "python3"
  },
  "language_info": {
   "codemirror_mode": {
    "name": "ipython",
    "version": 3
   },
   "file_extension": ".py",
   "mimetype": "text/x-python",
   "name": "python",
   "nbconvert_exporter": "python",
   "pygments_lexer": "ipython3",
   "version": "3.11.5"
  }
 },
 "nbformat": 4,
 "nbformat_minor": 2
}
