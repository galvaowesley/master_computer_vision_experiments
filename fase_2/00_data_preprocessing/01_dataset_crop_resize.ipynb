{
 "cells": [
  {
   "cell_type": "code",
   "execution_count": 4,
   "metadata": {},
   "outputs": [],
   "source": [
    "from torchvision.transforms import v2 as T \n",
    "import torch\n",
    "from PIL import Image\n",
    "import numpy as np\n",
    "import matplotlib.pyplot as plt\n",
    "\n",
    "import os"
   ]
  },
  {
   "cell_type": "code",
   "execution_count": null,
   "metadata": {},
   "outputs": [],
   "source": [
    "T.Resize"
   ]
  },
  {
   "cell_type": "code",
   "execution_count": 5,
   "metadata": {},
   "outputs": [],
   "source": [
    "def img_opener(img_path):\n",
    "    img_pil = Image.open(img_path)\n",
    "    img = np.array(img_pil)\n",
    "    img = torch.from_numpy(img).permute(2, 0, 1)\n",
    "    \n",
    "\n",
    "    return img"
   ]
  },
  {
   "cell_type": "code",
   "execution_count": null,
   "metadata": {},
   "outputs": [],
   "source": [
    "\n",
    "\n",
    "def get_image_dimensions(image):\n",
    "    return image.size\n",
    "\n",
    "\n",
    "def create_transform(image, label, size_smaller, size_larger, mean, std):\n",
    "\n",
    "    image = v2.functional.resize(\n",
    "        image, \n",
    "        size=size_smaller, \n",
    "        max_size=size_larger,\n",
    "        interpolation=v2.InterpolationMode.BILINEAR, \n",
    "        antialias=True\n",
    "    )\n",
    "    label = v2.functional.resize(\n",
    "        label[None],\n",
    "        size=size_smaller,\n",
    "        max_size=size_larger,\n",
    "        interpolation=v2.InterpolationMode.NEAREST_EXACT\n",
    "    )[0]\n",
    "    \n",
    "    image = image.float()/255.\n",
    "    image = (image-mean)/std\n",
    "\n",
    "    return image, label"
   ]
  }
 ],
 "metadata": {
  "kernelspec": {
   "display_name": "mestrado_env",
   "language": "python",
   "name": "python3"
  },
  "language_info": {
   "codemirror_mode": {
    "name": "ipython",
    "version": 3
   },
   "file_extension": ".py",
   "mimetype": "text/x-python",
   "name": "python",
   "nbconvert_exporter": "python",
   "pygments_lexer": "ipython3",
   "version": "3.11.5"
  }
 },
 "nbformat": 4,
 "nbformat_minor": 2
}
