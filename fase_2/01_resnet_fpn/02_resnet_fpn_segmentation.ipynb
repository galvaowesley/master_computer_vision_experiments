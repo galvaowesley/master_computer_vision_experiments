{
 "cells": [
  {
   "cell_type": "code",
   "execution_count": 1,
   "id": "d5136ad4",
   "metadata": {},
   "outputs": [],
   "source": [
    "%load_ext autoreload\n",
    "%autoreload 2"
   ]
  },
  {
   "cell_type": "markdown",
   "id": "065e77b5",
   "metadata": {},
   "source": [
    "# Functions"
   ]
  },
  {
   "cell_type": "code",
   "execution_count": 10,
   "id": "d7d8e5ff",
   "metadata": {},
   "outputs": [],
   "source": [
    "# Functions\n",
    "def get_image_label_prediction(model, dataset, img_idx):\n",
    "    \"\"\"\n",
    "    Obtains the original image, equalized image, label, filename, and prediction for a given image index.\n",
    "\n",
    "    Parameters\n",
    "    ----------\n",
    "        * model (torch.nn.Module): The model used for prediction.\n",
    "        * dataset (torch.utils.data.Dataset): The dataset containing the images.\n",
    "        * img_idx (int): The index of the image to retrieve.\n",
    "\n",
    "    Returns\n",
    "    -------\n",
    "        * img_or (numpy.ndarray): The original image.\n",
    "        * img_equalized (numpy.ndarray): The equalized image.\n",
    "        * label (int): The label of the image.\n",
    "        * filename (str): The filename of the image.\n",
    "        * pre/d (torch.Tensor): The prediction of the model for the image.\n",
    "    \"\"\"\n",
    "    # Get original image from dataset\n",
    "    img_or, _ = dataset.get_item(img_idx)\n",
    "    img_or = np.array(img_or)\n",
    "    # Get equalized image and its label\n",
    "    img_equalized, label = dataset[img_idx]\n",
    "    # Get filename\n",
    "    filename = dataset.img_file_paths[img_idx].stem\n",
    "\n",
    "    # Prediction\n",
    "    with torch.no_grad():\n",
    "        pred = model(img_equalized[None].to('cuda')).cpu()\n",
    "\n",
    "    return img_or, img_equalized, label, filename, pred\n",
    "\n",
    "def get_inference_iou(model, dataset):\n",
    "    \"\"\"\n",
    "    Calculates the Intersection over Union (IoU) for each image in the dataset.\n",
    "\n",
    "    Parameters\n",
    "    ----------\n",
    "        * model (object): The trained model used for prediction.\n",
    "        * dataset (object): The dataset containing the images and labels.\n",
    "\n",
    "    Returns\n",
    "    -------\n",
    "        * prediction_summary (DataFrame): A DataFrame containing the image index and the corresponding IoU.\n",
    "    \"\"\"\n",
    "    # Define columns names\n",
    "    columns_ = ['img_idx', 'prediction_iou']\n",
    "    # Create dataframe\n",
    "    prediction_summary = pd.DataFrame(columns = columns_)\n",
    "    # Get dataset len\n",
    "    dataset_len = len(dataset)\n",
    "\n",
    "    for img_idx in range(dataset_len):\n",
    "\n",
    "        img_or, img_equalized, label, filename, pred = get_image_label_prediction(model, dataset, img_idx)\n",
    "        iou = perf_funcs.segmentation_accuracy(pred, label[None], meas = 'iou')\n",
    "\n",
    "        # A dictionary to store the data\n",
    "        results_dict = {\n",
    "            \"img_idx\" : img_idx,\n",
    "            \"prediction_iou\" : iou.numpy(),\n",
    "        }\n",
    "\n",
    "        # Convert the dict to dataframe\n",
    "        df_result = pd.DataFrame([results_dict])\n",
    "        # Concact df_result with prediction_summary to append a new row\n",
    "        prediction_summary = pd.concat([prediction_summary, df_result])\n",
    "\n",
    "    # Reset indexes\n",
    "    prediction_summary.reset_index(drop = True, inplace = True)\n",
    "\n",
    "    return prediction_summary\n",
    "\n",
    "\n"
   ]
  },
  {
   "cell_type": "code",
   "execution_count": 11,
   "id": "32558124",
   "metadata": {},
   "outputs": [],
   "source": [
    "def load_model_with_checkpoint(checkpoint_path, model):\n",
    "    \"\"\"\n",
    "    Loads a PyTorch model with a checkpoint.\n",
    "\n",
    "    Parameters\n",
    "    ----------\n",
    "        * checkpoint_path (str): The path to the checkpoint file.\n",
    "        * model (nn.Module): The PyTorch model to load the checkpoint into.\n",
    "\n",
    "    Returns\n",
    "    -------\n",
    "        * nn.Module: The PyTorch model with the loaded checkpoint.\n",
    "    \"\"\"\n",
    "    \n",
    "    # Load checkpoint\n",
    "    checkpoint = torch.load(checkpoint_path, map_location=torch.device('cuda'))\n",
    "\n",
    "    # Extract the state dictionary from the checkpoint\n",
    "    state_dict = checkpoint['state_dict']\n",
    "\n",
    "    # Create a new dictionary to store the model state\n",
    "    new_state_dict = {}\n",
    "\n",
    "    # Iterate over each item in the state dictionary\n",
    "    for k, v in state_dict.items():\n",
    "        # If the item's key starts with 'model.', remove this prefix from the key\n",
    "        # and add the item to the new state dictionary\n",
    "        if k.startswith('model.'):\n",
    "            new_state_dict[k[6:]] = v\n",
    "\n",
    "    # Load the model state from the new state dictionary\n",
    "    model.load_state_dict(new_state_dict)\n",
    "\n",
    "    # Put the model in evaluation mode\n",
    "    model.eval()\n",
    "    model.cuda()\n",
    "\n",
    "    return model"
   ]
  },
  {
   "cell_type": "markdown",
   "id": "bdf314f4",
   "metadata": {},
   "source": [
    "# Training"
   ]
  },
  {
   "cell_type": "code",
   "execution_count": 2,
   "id": "ed956821",
   "metadata": {},
   "outputs": [],
   "source": [
    "import random\n",
    "from pathlib import Path\n",
    "\n",
    "import matplotlib.pyplot as plt\n",
    "import torch\n",
    "\n",
    "import train_thin_regions_lightning as train_lightning\n",
    "import dataset_thin_region as dataset\n",
    "import torchtrainer\n",
    "\n",
    "import torchtrainer.models.resunet as resunet\n",
    "from torchtrainer import perf_funcs\n",
    "\n",
    "import pandas as pd\n",
    "import numpy as np\n",
    "import plotly.express as px"
   ]
  },
  {
   "cell_type": "code",
   "execution_count": 3,
   "id": "initial_id",
   "metadata": {
    "ExecuteTime": {
     "end_time": "2024-01-26T05:22:49.470693824Z",
     "start_time": "2024-01-26T05:22:46.124446888Z"
    },
    "collapsed": true
   },
   "outputs": [
    {
     "name": "stdout",
     "output_type": "stream",
     "text": [
      "CPU times: user 22 µs, sys: 4 µs, total: 26 µs\n",
      "Wall time: 28.8 µs\n"
     ]
    }
   ],
   "source": [
    "%%time\n",
    "\n",
    "\n",
    "img_path = '/home/wesleygalvao/Documents/repositorios/thin-object-selection/data/ThinObject5K_fine_tuning/images'\n",
    "label_path = '/home/wesleygalvao/Documents/repositorios/thin-object-selection/data/ThinObject5K_fine_tuning/masks'\n",
    "\n",
    "params = {\n",
    "    # Dataset\n",
    "    'img_dir': Path(img_path),\n",
    "    'label_dir': Path(label_path),\n",
    "    'crop_size': (256, 256),\n",
    "    'train_val_split': 0.1,\n",
    "    # Model\n",
    "    'model_layers': (3,3,3,3),\n",
    "    'model_channels': (16,32,64,128),\n",
    "    'model_type': 'resnet_fpn',\n",
    "    # Training\n",
    "    'epochs': 0,\n",
    "    'lr': 0.01,\n",
    "    'batch_size_train': 2,\n",
    "    'batch_size_valid': 2, #132,\n",
    "    'momentum': 0.9,\n",
    "    'weight_decay': 0.,\n",
    "    'seed': 12,\n",
    "    'loss': 'cross_entropy',\n",
    "    'scheduler_power': 0.9,\n",
    "    'class_weights': (0.3414, 0.6586), # Serve para reponderar os pesos das classes\n",
    "    # Efficiency\n",
    "    'device': 'cuda',\n",
    "    'num_workers': 3,  # 3 is a good compromise\n",
    "    'use_amp': False,\n",
    "    'pin_memory': False,\n",
    "    'non_blocking': False,\n",
    "    # Logging\n",
    "    'log_dir': 'logs',\n",
    "    'experiment':'resunet_fpn_e_50_lr_0.01_bs_2',\n",
    "    'save_every':1,\n",
    "    'save_best':True,\n",
    "    # Other\n",
    "    'resume': False,\n",
    "    'meta': None\n",
    "}\n",
    "\n"
   ]
  },
  {
   "cell_type": "code",
   "execution_count": 4,
   "id": "9f92ed0b",
   "metadata": {
    "ExecuteTime": {
     "end_time": "2024-01-26T05:22:51.734374860Z",
     "start_time": "2024-01-26T05:22:51.627376883Z"
    }
   },
   "outputs": [],
   "source": [
    "# Load dataset\n",
    "ds_train, ds_valid = dataset.create_datasets(img_path, label_path)"
   ]
  },
  {
   "cell_type": "code",
   "execution_count": 8,
   "id": "6bd4f95e",
   "metadata": {
    "ExecuteTime": {
     "end_time": "2024-01-26T05:22:58.452983737Z",
     "start_time": "2024-01-26T05:22:53.641242982Z"
    }
   },
   "outputs": [
    {
     "name": "stderr",
     "output_type": "stream",
     "text": [
      "Seed set to 12\n"
     ]
    },
    {
     "name": "stderr",
     "output_type": "stream",
     "text": [
      "GPU available: True (cuda), used: True\n",
      "TPU available: False, using: 0 TPU cores\n",
      "IPU available: False, using: 0 IPUs\n",
      "HPU available: False, using: 0 HPUs\n",
      "LOCAL_RANK: 0 - CUDA_VISIBLE_DEVICES: [0]\n",
      "\n",
      "  | Name      | Type             | Params\n",
      "-----------------------------------------------\n",
      "0 | loss_func | CrossEntropyLoss | 0     \n",
      "1 | model     | FPN              | 26.1 M\n",
      "-----------------------------------------------\n",
      "26.1 M    Trainable params\n",
      "0         Non-trainable params\n",
      "26.1 M    Total params\n",
      "104.465   Total estimated model params size (MB)\n"
     ]
    },
    {
     "data": {
      "application/vnd.jupyter.widget-view+json": {
       "model_id": "5da85e5f16664da8a661c32a7ff855a3",
       "version_major": 2,
       "version_minor": 0
      },
      "text/plain": [
       "Sanity Checking: |          | 0/? [00:00<?, ?it/s]"
      ]
     },
     "metadata": {},
     "output_type": "display_data"
    },
    {
     "data": {
      "application/vnd.jupyter.widget-view+json": {
       "model_id": "4c68dd6bd1ad42209e2cb6728b3e8916",
       "version_major": 2,
       "version_minor": 0
      },
      "text/plain": [
       "Training: |          | 0/? [00:00<?, ?it/s]"
      ]
     },
     "metadata": {},
     "output_type": "display_data"
    },
    {
     "data": {
      "application/vnd.jupyter.widget-view+json": {
       "model_id": "e63306f8d47049068439089358119c59",
       "version_major": 2,
       "version_minor": 0
      },
      "text/plain": [
       "Validation: |          | 0/? [00:00<?, ?it/s]"
      ]
     },
     "metadata": {},
     "output_type": "display_data"
    },
    {
     "data": {
      "application/vnd.jupyter.widget-view+json": {
       "model_id": "168ada91e6aa44d3aafaba357d85e2fd",
       "version_major": 2,
       "version_minor": 0
      },
      "text/plain": [
       "Validation: |          | 0/? [00:00<?, ?it/s]"
      ]
     },
     "metadata": {},
     "output_type": "display_data"
    },
    {
     "data": {
      "application/vnd.jupyter.widget-view+json": {
       "model_id": "da4243e37cb74a9083da17d979e8c6e7",
       "version_major": 2,
       "version_minor": 0
      },
      "text/plain": [
       "Validation: |          | 0/? [00:00<?, ?it/s]"
      ]
     },
     "metadata": {},
     "output_type": "display_data"
    },
    {
     "data": {
      "application/vnd.jupyter.widget-view+json": {
       "model_id": "0cdb815f674d4ffda8732f315d2641ba",
       "version_major": 2,
       "version_minor": 0
      },
      "text/plain": [
       "Validation: |          | 0/? [00:00<?, ?it/s]"
      ]
     },
     "metadata": {},
     "output_type": "display_data"
    },
    {
     "data": {
      "application/vnd.jupyter.widget-view+json": {
       "model_id": "1c6b498553694277a29a5480168a4c46",
       "version_major": 2,
       "version_minor": 0
      },
      "text/plain": [
       "Validation: |          | 0/? [00:00<?, ?it/s]"
      ]
     },
     "metadata": {},
     "output_type": "display_data"
    },
    {
     "data": {
      "application/vnd.jupyter.widget-view+json": {
       "model_id": "226efce9707b4e4fa0bd8792765d373c",
       "version_major": 2,
       "version_minor": 0
      },
      "text/plain": [
       "Validation: |          | 0/? [00:00<?, ?it/s]"
      ]
     },
     "metadata": {},
     "output_type": "display_data"
    },
    {
     "data": {
      "application/vnd.jupyter.widget-view+json": {
       "model_id": "81de7d1c68264da0a3201c370bfd0b8a",
       "version_major": 2,
       "version_minor": 0
      },
      "text/plain": [
       "Validation: |          | 0/? [00:00<?, ?it/s]"
      ]
     },
     "metadata": {},
     "output_type": "display_data"
    },
    {
     "data": {
      "application/vnd.jupyter.widget-view+json": {
       "model_id": "3924340bc15f4ed7b5ceb6a7b9a39bcd",
       "version_major": 2,
       "version_minor": 0
      },
      "text/plain": [
       "Validation: |          | 0/? [00:00<?, ?it/s]"
      ]
     },
     "metadata": {},
     "output_type": "display_data"
    },
    {
     "data": {
      "application/vnd.jupyter.widget-view+json": {
       "model_id": "012bfaa6ecdb4cb593e5baa4dafe4d16",
       "version_major": 2,
       "version_minor": 0
      },
      "text/plain": [
       "Validation: |          | 0/? [00:00<?, ?it/s]"
      ]
     },
     "metadata": {},
     "output_type": "display_data"
    },
    {
     "data": {
      "application/vnd.jupyter.widget-view+json": {
       "model_id": "e7b2a953823a44f38549db89cf6754a0",
       "version_major": 2,
       "version_minor": 0
      },
      "text/plain": [
       "Validation: |          | 0/? [00:00<?, ?it/s]"
      ]
     },
     "metadata": {},
     "output_type": "display_data"
    },
    {
     "data": {
      "application/vnd.jupyter.widget-view+json": {
       "model_id": "b000ca50421b4de8ba5ab961c819fed5",
       "version_major": 2,
       "version_minor": 0
      },
      "text/plain": [
       "Validation: |          | 0/? [00:00<?, ?it/s]"
      ]
     },
     "metadata": {},
     "output_type": "display_data"
    },
    {
     "data": {
      "application/vnd.jupyter.widget-view+json": {
       "model_id": "9a33a5df63654d438ec3ad3e1101150a",
       "version_major": 2,
       "version_minor": 0
      },
      "text/plain": [
       "Validation: |          | 0/? [00:00<?, ?it/s]"
      ]
     },
     "metadata": {},
     "output_type": "display_data"
    },
    {
     "data": {
      "application/vnd.jupyter.widget-view+json": {
       "model_id": "1315d051bdeb4cc392aa8bb3ec78c7bd",
       "version_major": 2,
       "version_minor": 0
      },
      "text/plain": [
       "Validation: |          | 0/? [00:00<?, ?it/s]"
      ]
     },
     "metadata": {},
     "output_type": "display_data"
    },
    {
     "data": {
      "application/vnd.jupyter.widget-view+json": {
       "model_id": "491bbd8953b6456f8f08084e7ee33081",
       "version_major": 2,
       "version_minor": 0
      },
      "text/plain": [
       "Validation: |          | 0/? [00:00<?, ?it/s]"
      ]
     },
     "metadata": {},
     "output_type": "display_data"
    },
    {
     "data": {
      "application/vnd.jupyter.widget-view+json": {
       "model_id": "dd2aae3d936345598d8a9c097b61931e",
       "version_major": 2,
       "version_minor": 0
      },
      "text/plain": [
       "Validation: |          | 0/? [00:00<?, ?it/s]"
      ]
     },
     "metadata": {},
     "output_type": "display_data"
    },
    {
     "data": {
      "application/vnd.jupyter.widget-view+json": {
       "model_id": "1006bb85d2e146c4a6d8da193e4cda8b",
       "version_major": 2,
       "version_minor": 0
      },
      "text/plain": [
       "Validation: |          | 0/? [00:00<?, ?it/s]"
      ]
     },
     "metadata": {},
     "output_type": "display_data"
    },
    {
     "data": {
      "application/vnd.jupyter.widget-view+json": {
       "model_id": "a8f47cbe5bc34c40842435393c9e329e",
       "version_major": 2,
       "version_minor": 0
      },
      "text/plain": [
       "Validation: |          | 0/? [00:00<?, ?it/s]"
      ]
     },
     "metadata": {},
     "output_type": "display_data"
    },
    {
     "data": {
      "application/vnd.jupyter.widget-view+json": {
       "model_id": "a30fe515e25f4d1ebe2503ceaf05257a",
       "version_major": 2,
       "version_minor": 0
      },
      "text/plain": [
       "Validation: |          | 0/? [00:00<?, ?it/s]"
      ]
     },
     "metadata": {},
     "output_type": "display_data"
    },
    {
     "data": {
      "application/vnd.jupyter.widget-view+json": {
       "model_id": "37d26d77814e40e29d3f23424d80117b",
       "version_major": 2,
       "version_minor": 0
      },
      "text/plain": [
       "Validation: |          | 0/? [00:00<?, ?it/s]"
      ]
     },
     "metadata": {},
     "output_type": "display_data"
    },
    {
     "data": {
      "application/vnd.jupyter.widget-view+json": {
       "model_id": "18a02e06664b436ea59c1fd068471a1d",
       "version_major": 2,
       "version_minor": 0
      },
      "text/plain": [
       "Validation: |          | 0/? [00:00<?, ?it/s]"
      ]
     },
     "metadata": {},
     "output_type": "display_data"
    },
    {
     "data": {
      "application/vnd.jupyter.widget-view+json": {
       "model_id": "ed222d559abc45d3b88bd90e46627ff5",
       "version_major": 2,
       "version_minor": 0
      },
      "text/plain": [
       "Validation: |          | 0/? [00:00<?, ?it/s]"
      ]
     },
     "metadata": {},
     "output_type": "display_data"
    },
    {
     "data": {
      "application/vnd.jupyter.widget-view+json": {
       "model_id": "f9fe5a981ea2401ea8456619e351c67d",
       "version_major": 2,
       "version_minor": 0
      },
      "text/plain": [
       "Validation: |          | 0/? [00:00<?, ?it/s]"
      ]
     },
     "metadata": {},
     "output_type": "display_data"
    },
    {
     "data": {
      "application/vnd.jupyter.widget-view+json": {
       "model_id": "1b00d692059344d09db40e4b2aa20213",
       "version_major": 2,
       "version_minor": 0
      },
      "text/plain": [
       "Validation: |          | 0/? [00:00<?, ?it/s]"
      ]
     },
     "metadata": {},
     "output_type": "display_data"
    },
    {
     "data": {
      "application/vnd.jupyter.widget-view+json": {
       "model_id": "4db87c7a59c24fd78c0df29189c6643d",
       "version_major": 2,
       "version_minor": 0
      },
      "text/plain": [
       "Validation: |          | 0/? [00:00<?, ?it/s]"
      ]
     },
     "metadata": {},
     "output_type": "display_data"
    },
    {
     "data": {
      "application/vnd.jupyter.widget-view+json": {
       "model_id": "47baa1a688f74567bcf4916479c4a475",
       "version_major": 2,
       "version_minor": 0
      },
      "text/plain": [
       "Validation: |          | 0/? [00:00<?, ?it/s]"
      ]
     },
     "metadata": {},
     "output_type": "display_data"
    },
    {
     "data": {
      "application/vnd.jupyter.widget-view+json": {
       "model_id": "554d73f52612413dad6b3e6a909465d0",
       "version_major": 2,
       "version_minor": 0
      },
      "text/plain": [
       "Validation: |          | 0/? [00:00<?, ?it/s]"
      ]
     },
     "metadata": {},
     "output_type": "display_data"
    },
    {
     "data": {
      "application/vnd.jupyter.widget-view+json": {
       "model_id": "14add7bb60ab444485866fa1a462a5db",
       "version_major": 2,
       "version_minor": 0
      },
      "text/plain": [
       "Validation: |          | 0/? [00:00<?, ?it/s]"
      ]
     },
     "metadata": {},
     "output_type": "display_data"
    },
    {
     "data": {
      "application/vnd.jupyter.widget-view+json": {
       "model_id": "5f1a2950ea104a499a283256158aed96",
       "version_major": 2,
       "version_minor": 0
      },
      "text/plain": [
       "Validation: |          | 0/? [00:00<?, ?it/s]"
      ]
     },
     "metadata": {},
     "output_type": "display_data"
    },
    {
     "data": {
      "application/vnd.jupyter.widget-view+json": {
       "model_id": "2072ddcc25434fb58abbf031bf7afd20",
       "version_major": 2,
       "version_minor": 0
      },
      "text/plain": [
       "Validation: |          | 0/? [00:00<?, ?it/s]"
      ]
     },
     "metadata": {},
     "output_type": "display_data"
    },
    {
     "data": {
      "application/vnd.jupyter.widget-view+json": {
       "model_id": "defc97c3da9e4c4fa28de8a0b9dda96b",
       "version_major": 2,
       "version_minor": 0
      },
      "text/plain": [
       "Validation: |          | 0/? [00:00<?, ?it/s]"
      ]
     },
     "metadata": {},
     "output_type": "display_data"
    },
    {
     "data": {
      "application/vnd.jupyter.widget-view+json": {
       "model_id": "192aee32722f4a379491e0c9aefabba6",
       "version_major": 2,
       "version_minor": 0
      },
      "text/plain": [
       "Validation: |          | 0/? [00:00<?, ?it/s]"
      ]
     },
     "metadata": {},
     "output_type": "display_data"
    },
    {
     "data": {
      "application/vnd.jupyter.widget-view+json": {
       "model_id": "53ff44ad5a2b4bf3a3af0e5a3cbdd5e8",
       "version_major": 2,
       "version_minor": 0
      },
      "text/plain": [
       "Validation: |          | 0/? [00:00<?, ?it/s]"
      ]
     },
     "metadata": {},
     "output_type": "display_data"
    },
    {
     "data": {
      "application/vnd.jupyter.widget-view+json": {
       "model_id": "af29bf3265cf4f9d8e2596af12145275",
       "version_major": 2,
       "version_minor": 0
      },
      "text/plain": [
       "Validation: |          | 0/? [00:00<?, ?it/s]"
      ]
     },
     "metadata": {},
     "output_type": "display_data"
    },
    {
     "data": {
      "application/vnd.jupyter.widget-view+json": {
       "model_id": "8aad6555503e441c8657d130eb55ee7e",
       "version_major": 2,
       "version_minor": 0
      },
      "text/plain": [
       "Validation: |          | 0/? [00:00<?, ?it/s]"
      ]
     },
     "metadata": {},
     "output_type": "display_data"
    },
    {
     "data": {
      "application/vnd.jupyter.widget-view+json": {
       "model_id": "9f69c0c897ee4a8998676f9bc15f380e",
       "version_major": 2,
       "version_minor": 0
      },
      "text/plain": [
       "Validation: |          | 0/? [00:00<?, ?it/s]"
      ]
     },
     "metadata": {},
     "output_type": "display_data"
    },
    {
     "data": {
      "application/vnd.jupyter.widget-view+json": {
       "model_id": "46c746eec24542818e3503bc2e337f00",
       "version_major": 2,
       "version_minor": 0
      },
      "text/plain": [
       "Validation: |          | 0/? [00:00<?, ?it/s]"
      ]
     },
     "metadata": {},
     "output_type": "display_data"
    },
    {
     "data": {
      "application/vnd.jupyter.widget-view+json": {
       "model_id": "5442e4e665364a8b867ea5bf22290b49",
       "version_major": 2,
       "version_minor": 0
      },
      "text/plain": [
       "Validation: |          | 0/? [00:00<?, ?it/s]"
      ]
     },
     "metadata": {},
     "output_type": "display_data"
    },
    {
     "data": {
      "application/vnd.jupyter.widget-view+json": {
       "model_id": "bae80f14795040f698f167378035efab",
       "version_major": 2,
       "version_minor": 0
      },
      "text/plain": [
       "Validation: |          | 0/? [00:00<?, ?it/s]"
      ]
     },
     "metadata": {},
     "output_type": "display_data"
    },
    {
     "data": {
      "application/vnd.jupyter.widget-view+json": {
       "model_id": "fe0467c6e04d4d7c912b94ed62dd32de",
       "version_major": 2,
       "version_minor": 0
      },
      "text/plain": [
       "Validation: |          | 0/? [00:00<?, ?it/s]"
      ]
     },
     "metadata": {},
     "output_type": "display_data"
    },
    {
     "data": {
      "application/vnd.jupyter.widget-view+json": {
       "model_id": "14cf9f16bf894b2e99de77bc415200fa",
       "version_major": 2,
       "version_minor": 0
      },
      "text/plain": [
       "Validation: |          | 0/? [00:00<?, ?it/s]"
      ]
     },
     "metadata": {},
     "output_type": "display_data"
    },
    {
     "data": {
      "application/vnd.jupyter.widget-view+json": {
       "model_id": "a1e590e7b0674b379facded8a801fa8a",
       "version_major": 2,
       "version_minor": 0
      },
      "text/plain": [
       "Validation: |          | 0/? [00:00<?, ?it/s]"
      ]
     },
     "metadata": {},
     "output_type": "display_data"
    },
    {
     "data": {
      "application/vnd.jupyter.widget-view+json": {
       "model_id": "2cb71ea0a9604e18ba24ec4210e13a2a",
       "version_major": 2,
       "version_minor": 0
      },
      "text/plain": [
       "Validation: |          | 0/? [00:00<?, ?it/s]"
      ]
     },
     "metadata": {},
     "output_type": "display_data"
    },
    {
     "data": {
      "application/vnd.jupyter.widget-view+json": {
       "model_id": "0cf601431ec6440a9218ce4679ee3e79",
       "version_major": 2,
       "version_minor": 0
      },
      "text/plain": [
       "Validation: |          | 0/? [00:00<?, ?it/s]"
      ]
     },
     "metadata": {},
     "output_type": "display_data"
    },
    {
     "data": {
      "application/vnd.jupyter.widget-view+json": {
       "model_id": "1d41a933ab1f48aabd4aa8638fa94313",
       "version_major": 2,
       "version_minor": 0
      },
      "text/plain": [
       "Validation: |          | 0/? [00:00<?, ?it/s]"
      ]
     },
     "metadata": {},
     "output_type": "display_data"
    },
    {
     "data": {
      "application/vnd.jupyter.widget-view+json": {
       "model_id": "2977070f50c140ba9601cbfeb85faebc",
       "version_major": 2,
       "version_minor": 0
      },
      "text/plain": [
       "Validation: |          | 0/? [00:00<?, ?it/s]"
      ]
     },
     "metadata": {},
     "output_type": "display_data"
    },
    {
     "data": {
      "application/vnd.jupyter.widget-view+json": {
       "model_id": "4fd65ce878bb4da28aaa081fa008c63e",
       "version_major": 2,
       "version_minor": 0
      },
      "text/plain": [
       "Validation: |          | 0/? [00:00<?, ?it/s]"
      ]
     },
     "metadata": {},
     "output_type": "display_data"
    },
    {
     "data": {
      "application/vnd.jupyter.widget-view+json": {
       "model_id": "8d458d7f82bb4df49e4f27d588ea247c",
       "version_major": 2,
       "version_minor": 0
      },
      "text/plain": [
       "Validation: |          | 0/? [00:00<?, ?it/s]"
      ]
     },
     "metadata": {},
     "output_type": "display_data"
    },
    {
     "data": {
      "application/vnd.jupyter.widget-view+json": {
       "model_id": "ff07611c9e274e3b8c3cb1074301ca70",
       "version_major": 2,
       "version_minor": 0
      },
      "text/plain": [
       "Validation: |          | 0/? [00:00<?, ?it/s]"
      ]
     },
     "metadata": {},
     "output_type": "display_data"
    },
    {
     "data": {
      "application/vnd.jupyter.widget-view+json": {
       "model_id": "a522c323fbb94c839e3473dcc312596c",
       "version_major": 2,
       "version_minor": 0
      },
      "text/plain": [
       "Validation: |          | 0/? [00:00<?, ?it/s]"
      ]
     },
     "metadata": {},
     "output_type": "display_data"
    },
    {
     "data": {
      "application/vnd.jupyter.widget-view+json": {
       "model_id": "20b2b73021d3408282f99e72ea5abc05",
       "version_major": 2,
       "version_minor": 0
      },
      "text/plain": [
       "Validation: |          | 0/? [00:00<?, ?it/s]"
      ]
     },
     "metadata": {},
     "output_type": "display_data"
    },
    {
     "name": "stderr",
     "output_type": "stream",
     "text": [
      "`Trainer.fit` stopped: `max_epochs=50` reached.\n"
     ]
    },
    {
     "name": "stdout",
     "output_type": "stream",
     "text": [
      "CPU times: user 6h 22min 15s, sys: 19min 59s, total: 6h 42min 15s\n",
      "Wall time: 6h 41min 33s\n"
     ]
    }
   ],
   "source": [
    "%%time\n",
    "#Train using pure Pytorch\n",
    "#logger, ds_train, ds_valid, model = train_pytorch.run(params)\n",
    "#Train using Pytorch Lightning\n",
    "trainer, ds_train, ds_valid, model = train_lightning.run(params)\n",
    "logger = trainer.loggers[1]"
   ]
  },
  {
   "cell_type": "markdown",
   "id": "15bcd80b",
   "metadata": {},
   "source": [
    "# View results"
   ]
  },
  {
   "cell_type": "markdown",
   "id": "261e1e51",
   "metadata": {},
   "source": [
    "## Training logs"
   ]
  },
  {
   "cell_type": "code",
   "execution_count": 12,
   "id": "3e3d3a94",
   "metadata": {},
   "outputs": [
    {
     "data": {
      "image/png": "[encoded data removed]",
      "text/plain": [
       "<Figure size 640x480 with 1 Axes>"
      ]
     },
     "metadata": {},
     "output_type": "display_data"
    },
    {
     "data": {
      "image/png": "[encoded data removed]",
      "text/plain": [
       "<Figure size 640x480 with 1 Axes>"
      ]
     },
     "metadata": {},
     "output_type": "display_data"
    }
   ],
   "source": [
    "# Plot results\n",
    "def plot_metrics(logger, type='lt'):\n",
    "    '''Plot losses and IoU. `lt` is the logger used in Lightning.'''\n",
    "\n",
    "    if type=='lt':\n",
    "        metrics = logger.metrics\n",
    "        epochs, _ = zip(*metrics['val_loss'])\n",
    "        metrics = [list(zip(*metrics[k]))[1] for k in ['train_loss', 'val_loss', 'iou', 'prec', 'rec']]\n",
    "        train_loss, valid_loss, iou, prec, rec = metrics    \n",
    "    elif type=='pt':\n",
    "        epochs, metrics = zip(*logger.data.items())\n",
    "        train_loss, valid_loss, iou, prec, rec = zip(*metrics)\n",
    "\n",
    "    plt.figure()\n",
    "    plt.plot(epochs, train_loss, label='Train loss')\n",
    "    plt.plot(epochs, valid_loss, label='Valid loss')\n",
    "    plt.ylim((0, 1))\n",
    "    plt.legend()\n",
    "    plt.xlabel('Epoch')\n",
    "    plt.ylabel('Loss')\n",
    "    plt.figure()\n",
    "    plt.plot(epochs, iou, label='IoU')\n",
    "    plt.plot(epochs, prec, label='Precision')\n",
    "    plt.plot(epochs, rec, label='Recall')\n",
    "    plt.ylim((0.6, 1))\n",
    "    plt.legend()\n",
    "    plt.xlabel('Epoch')\n",
    "    plt.ylabel('Performance')\n",
    "    \n",
    "plot_metrics(logger, type='lt')"
   ]
  },
  {
   "cell_type": "markdown",
   "id": "a476bd13",
   "metadata": {},
   "source": [
    "## Visual Evaluation"
   ]
  },
  {
   "cell_type": "code",
   "execution_count": 19,
   "id": "def6f8bb",
   "metadata": {},
   "outputs": [],
   "source": [
    "def load_model_with_checkpoint(checkpoint_path, model):\n",
    "    \"\"\"\n",
    "    Loads a PyTorch model with a checkpoint.\n",
    "\n",
    "    Parameters\n",
    "    ----------\n",
    "        * checkpoint_path (str): The path to the checkpoint file.\n",
    "        * model (nn.Module): The PyTorch model to load the checkpoint into.\n",
    "\n",
    "    Returns\n",
    "    -------\n",
    "        * nn.Module: The PyTorch model with the loaded checkpoint.\n",
    "    \"\"\"\n",
    "    \n",
    "    # Load checkpoint\n",
    "    checkpoint = torch.load(checkpoint_path, map_location=torch.device('cuda'))\n",
    "\n",
    "    # Extract the state dictionary from the checkpoint\n",
    "    state_dict = checkpoint['state_dict']\n",
    "\n",
    "    # Create a new dictionary to store the model state\n",
    "    new_state_dict = {}\n",
    "\n",
    "    # Iterate over each item in the state dictionary\n",
    "    for k, v in state_dict.items():\n",
    "        # If the item's key starts with 'model.', remove this prefix from the key\n",
    "        # and add the item to the new state dictionary\n",
    "        if k.startswith('model.'):\n",
    "            new_state_dict[k[6:]] = v\n",
    "\n",
    "    # Load the model state from the new state dictionary\n",
    "    model.load_state_dict(new_state_dict)\n",
    "\n",
    "    # Put the model in evaluation mode\n",
    "    model.eval()\n",
    "    model.cuda()\n",
    "\n",
    "    return model\n",
    "\n"
   ]
  },
  {
   "cell_type": "code",
   "execution_count": 28,
   "id": "94d2fcc1",
   "metadata": {},
   "outputs": [
    {
     "data": {
      "text/plain": [
       "dict_keys(['epoch', 'global_step', 'pytorch-lightning_version', 'state_dict', 'loops', 'callbacks', 'optimizer_states', 'lr_schedulers', 'hparams_name', 'hyper_parameters'])"
      ]
     },
     "execution_count": 28,
     "metadata": {},
     "output_type": "execute_result"
    }
   ],
   "source": [
    "checkpoint.keys()"
   ]
  },
  {
   "cell_type": "code",
   "execution_count": 31,
   "id": "b212c156",
   "metadata": {},
   "outputs": [
    {
     "data": {
      "text/plain": [
       "LitSeg(\n",
       "  (loss_func): CrossEntropyLoss()\n",
       "  (model): FPN(\n",
       "    (encoder): ResNetEncoder(\n",
       "      (conv1): Conv2d(3, 64, kernel_size=(7, 7), stride=(2, 2), padding=(3, 3), bias=False)\n",
       "      (bn1): BatchNorm2d(64, eps=1e-05, momentum=0.1, affine=True, track_running_stats=True)\n",
       "      (relu): ReLU(inplace=True)\n",
       "      (maxpool): MaxPool2d(kernel_size=3, stride=2, padding=1, dilation=1, ceil_mode=False)\n",
       "      (layer1): Sequential(\n",
       "        (0): Bottleneck(\n",
       "          (conv1): Conv2d(64, 64, kernel_size=(1, 1), stride=(1, 1), bias=False)\n",
       "          (bn1): BatchNorm2d(64, eps=1e-05, momentum=0.1, affine=True, track_running_stats=True)\n",
       "          (conv2): Conv2d(64, 64, kernel_size=(3, 3), stride=(1, 1), padding=(1, 1), bias=False)\n",
       "          (bn2): BatchNorm2d(64, eps=1e-05, momentum=0.1, affine=True, track_running_stats=True)\n",
       "          (conv3): Conv2d(64, 256, kernel_size=(1, 1), stride=(1, 1), bias=False)\n",
       "          (bn3): BatchNorm2d(256, eps=1e-05, momentum=0.1, affine=True, track_running_stats=True)\n",
       "          (relu): ReLU(inplace=True)\n",
       "          (downsample): Sequential(\n",
       "            (0): Conv2d(64, 256, kernel_size=(1, 1), stride=(1, 1), bias=False)\n",
       "            (1): BatchNorm2d(256, eps=1e-05, momentum=0.1, affine=True, track_running_stats=True)\n",
       "          )\n",
       "        )\n",
       "        (1): Bottleneck(\n",
       "          (conv1): Conv2d(256, 64, kernel_size=(1, 1), stride=(1, 1), bias=False)\n",
       "          (bn1): BatchNorm2d(64, eps=1e-05, momentum=0.1, affine=True, track_running_stats=True)\n",
       "          (conv2): Conv2d(64, 64, kernel_size=(3, 3), stride=(1, 1), padding=(1, 1), bias=False)\n",
       "          (bn2): BatchNorm2d(64, eps=1e-05, momentum=0.1, affine=True, track_running_stats=True)\n",
       "          (conv3): Conv2d(64, 256, kernel_size=(1, 1), stride=(1, 1), bias=False)\n",
       "          (bn3): BatchNorm2d(256, eps=1e-05, momentum=0.1, affine=True, track_running_stats=True)\n",
       "          (relu): ReLU(inplace=True)\n",
       "        )\n",
       "        (2): Bottleneck(\n",
       "          (conv1): Conv2d(256, 64, kernel_size=(1, 1), stride=(1, 1), bias=False)\n",
       "          (bn1): BatchNorm2d(64, eps=1e-05, momentum=0.1, affine=True, track_running_stats=True)\n",
       "          (conv2): Conv2d(64, 64, kernel_size=(3, 3), stride=(1, 1), padding=(1, 1), bias=False)\n",
       "          (bn2): BatchNorm2d(64, eps=1e-05, momentum=0.1, affine=True, track_running_stats=True)\n",
       "          (conv3): Conv2d(64, 256, kernel_size=(1, 1), stride=(1, 1), bias=False)\n",
       "          (bn3): BatchNorm2d(256, eps=1e-05, momentum=0.1, affine=True, track_running_stats=True)\n",
       "          (relu): ReLU(inplace=True)\n",
       "        )\n",
       "      )\n",
       "      (layer2): Sequential(\n",
       "        (0): Bottleneck(\n",
       "          (conv1): Conv2d(256, 128, kernel_size=(1, 1), stride=(1, 1), bias=False)\n",
       "          (bn1): BatchNorm2d(128, eps=1e-05, momentum=0.1, affine=True, track_running_stats=True)\n",
       "          (conv2): Conv2d(128, 128, kernel_size=(3, 3), stride=(2, 2), padding=(1, 1), bias=False)\n",
       "          (bn2): BatchNorm2d(128, eps=1e-05, momentum=0.1, affine=True, track_running_stats=True)\n",
       "          (conv3): Conv2d(128, 512, kernel_size=(1, 1), stride=(1, 1), bias=False)\n",
       "          (bn3): BatchNorm2d(512, eps=1e-05, momentum=0.1, affine=True, track_running_stats=True)\n",
       "          (relu): ReLU(inplace=True)\n",
       "          (downsample): Sequential(\n",
       "            (0): Conv2d(256, 512, kernel_size=(1, 1), stride=(2, 2), bias=False)\n",
       "            (1): BatchNorm2d(512, eps=1e-05, momentum=0.1, affine=True, track_running_stats=True)\n",
       "          )\n",
       "        )\n",
       "        (1): Bottleneck(\n",
       "          (conv1): Conv2d(512, 128, kernel_size=(1, 1), stride=(1, 1), bias=False)\n",
       "          (bn1): BatchNorm2d(128, eps=1e-05, momentum=0.1, affine=True, track_running_stats=True)\n",
       "          (conv2): Conv2d(128, 128, kernel_size=(3, 3), stride=(1, 1), padding=(1, 1), bias=False)\n",
       "          (bn2): BatchNorm2d(128, eps=1e-05, momentum=0.1, affine=True, track_running_stats=True)\n",
       "          (conv3): Conv2d(128, 512, kernel_size=(1, 1), stride=(1, 1), bias=False)\n",
       "          (bn3): BatchNorm2d(512, eps=1e-05, momentum=0.1, affine=True, track_running_stats=True)\n",
       "          (relu): ReLU(inplace=True)\n",
       "        )\n",
       "        (2): Bottleneck(\n",
       "          (conv1): Conv2d(512, 128, kernel_size=(1, 1), stride=(1, 1), bias=False)\n",
       "          (bn1): BatchNorm2d(128, eps=1e-05, momentum=0.1, affine=True, track_running_stats=True)\n",
       "          (conv2): Conv2d(128, 128, kernel_size=(3, 3), stride=(1, 1), padding=(1, 1), bias=False)\n",
       "          (bn2): BatchNorm2d(128, eps=1e-05, momentum=0.1, affine=True, track_running_stats=True)\n",
       "          (conv3): Conv2d(128, 512, kernel_size=(1, 1), stride=(1, 1), bias=False)\n",
       "          (bn3): BatchNorm2d(512, eps=1e-05, momentum=0.1, affine=True, track_running_stats=True)\n",
       "          (relu): ReLU(inplace=True)\n",
       "        )\n",
       "        (3): Bottleneck(\n",
       "          (conv1): Conv2d(512, 128, kernel_size=(1, 1), stride=(1, 1), bias=False)\n",
       "          (bn1): BatchNorm2d(128, eps=1e-05, momentum=0.1, affine=True, track_running_stats=True)\n",
       "          (conv2): Conv2d(128, 128, kernel_size=(3, 3), stride=(1, 1), padding=(1, 1), bias=False)\n",
       "          (bn2): BatchNorm2d(128, eps=1e-05, momentum=0.1, affine=True, track_running_stats=True)\n",
       "          (conv3): Conv2d(128, 512, kernel_size=(1, 1), stride=(1, 1), bias=False)\n",
       "          (bn3): BatchNorm2d(512, eps=1e-05, momentum=0.1, affine=True, track_running_stats=True)\n",
       "          (relu): ReLU(inplace=True)\n",
       "        )\n",
       "      )\n",
       "      (layer3): Sequential(\n",
       "        (0): Bottleneck(\n",
       "          (conv1): Conv2d(512, 256, kernel_size=(1, 1), stride=(1, 1), bias=False)\n",
       "          (bn1): BatchNorm2d(256, eps=1e-05, momentum=0.1, affine=True, track_running_stats=True)\n",
       "          (conv2): Conv2d(256, 256, kernel_size=(3, 3), stride=(2, 2), padding=(1, 1), bias=False)\n",
       "          (bn2): BatchNorm2d(256, eps=1e-05, momentum=0.1, affine=True, track_running_stats=True)\n",
       "          (conv3): Conv2d(256, 1024, kernel_size=(1, 1), stride=(1, 1), bias=False)\n",
       "          (bn3): BatchNorm2d(1024, eps=1e-05, momentum=0.1, affine=True, track_running_stats=True)\n",
       "          (relu): ReLU(inplace=True)\n",
       "          (downsample): Sequential(\n",
       "            (0): Conv2d(512, 1024, kernel_size=(1, 1), stride=(2, 2), bias=False)\n",
       "            (1): BatchNorm2d(1024, eps=1e-05, momentum=0.1, affine=True, track_running_stats=True)\n",
       "          )\n",
       "        )\n",
       "        (1): Bottleneck(\n",
       "          (conv1): Conv2d(1024, 256, kernel_size=(1, 1), stride=(1, 1), bias=False)\n",
       "          (bn1): BatchNorm2d(256, eps=1e-05, momentum=0.1, affine=True, track_running_stats=True)\n",
       "          (conv2): Conv2d(256, 256, kernel_size=(3, 3), stride=(1, 1), padding=(1, 1), bias=False)\n",
       "          (bn2): BatchNorm2d(256, eps=1e-05, momentum=0.1, affine=True, track_running_stats=True)\n",
       "          (conv3): Conv2d(256, 1024, kernel_size=(1, 1), stride=(1, 1), bias=False)\n",
       "          (bn3): BatchNorm2d(1024, eps=1e-05, momentum=0.1, affine=True, track_running_stats=True)\n",
       "          (relu): ReLU(inplace=True)\n",
       "        )\n",
       "        (2): Bottleneck(\n",
       "          (conv1): Conv2d(1024, 256, kernel_size=(1, 1), stride=(1, 1), bias=False)\n",
       "          (bn1): BatchNorm2d(256, eps=1e-05, momentum=0.1, affine=True, track_running_stats=True)\n",
       "          (conv2): Conv2d(256, 256, kernel_size=(3, 3), stride=(1, 1), padding=(1, 1), bias=False)\n",
       "          (bn2): BatchNorm2d(256, eps=1e-05, momentum=0.1, affine=True, track_running_stats=True)\n",
       "          (conv3): Conv2d(256, 1024, kernel_size=(1, 1), stride=(1, 1), bias=False)\n",
       "          (bn3): BatchNorm2d(1024, eps=1e-05, momentum=0.1, affine=True, track_running_stats=True)\n",
       "          (relu): ReLU(inplace=True)\n",
       "        )\n",
       "        (3): Bottleneck(\n",
       "          (conv1): Conv2d(1024, 256, kernel_size=(1, 1), stride=(1, 1), bias=False)\n",
       "          (bn1): BatchNorm2d(256, eps=1e-05, momentum=0.1, affine=True, track_running_stats=True)\n",
       "          (conv2): Conv2d(256, 256, kernel_size=(3, 3), stride=(1, 1), padding=(1, 1), bias=False)\n",
       "          (bn2): BatchNorm2d(256, eps=1e-05, momentum=0.1, affine=True, track_running_stats=True)\n",
       "          (conv3): Conv2d(256, 1024, kernel_size=(1, 1), stride=(1, 1), bias=False)\n",
       "          (bn3): BatchNorm2d(1024, eps=1e-05, momentum=0.1, affine=True, track_running_stats=True)\n",
       "          (relu): ReLU(inplace=True)\n",
       "        )\n",
       "        (4): Bottleneck(\n",
       "          (conv1): Conv2d(1024, 256, kernel_size=(1, 1), stride=(1, 1), bias=False)\n",
       "          (bn1): BatchNorm2d(256, eps=1e-05, momentum=0.1, affine=True, track_running_stats=True)\n",
       "          (conv2): Conv2d(256, 256, kernel_size=(3, 3), stride=(1, 1), padding=(1, 1), bias=False)\n",
       "          (bn2): BatchNorm2d(256, eps=1e-05, momentum=0.1, affine=True, track_running_stats=True)\n",
       "          (conv3): Conv2d(256, 1024, kernel_size=(1, 1), stride=(1, 1), bias=False)\n",
       "          (bn3): BatchNorm2d(1024, eps=1e-05, momentum=0.1, affine=True, track_running_stats=True)\n",
       "          (relu): ReLU(inplace=True)\n",
       "        )\n",
       "        (5): Bottleneck(\n",
       "          (conv1): Conv2d(1024, 256, kernel_size=(1, 1), stride=(1, 1), bias=False)\n",
       "          (bn1): BatchNorm2d(256, eps=1e-05, momentum=0.1, affine=True, track_running_stats=True)\n",
       "          (conv2): Conv2d(256, 256, kernel_size=(3, 3), stride=(1, 1), padding=(1, 1), bias=False)\n",
       "          (bn2): BatchNorm2d(256, eps=1e-05, momentum=0.1, affine=True, track_running_stats=True)\n",
       "          (conv3): Conv2d(256, 1024, kernel_size=(1, 1), stride=(1, 1), bias=False)\n",
       "          (bn3): BatchNorm2d(1024, eps=1e-05, momentum=0.1, affine=True, track_running_stats=True)\n",
       "          (relu): ReLU(inplace=True)\n",
       "        )\n",
       "      )\n",
       "      (layer4): Sequential(\n",
       "        (0): Bottleneck(\n",
       "          (conv1): Conv2d(1024, 512, kernel_size=(1, 1), stride=(1, 1), bias=False)\n",
       "          (bn1): BatchNorm2d(512, eps=1e-05, momentum=0.1, affine=True, track_running_stats=True)\n",
       "          (conv2): Conv2d(512, 512, kernel_size=(3, 3), stride=(2, 2), padding=(1, 1), bias=False)\n",
       "          (bn2): BatchNorm2d(512, eps=1e-05, momentum=0.1, affine=True, track_running_stats=True)\n",
       "          (conv3): Conv2d(512, 2048, kernel_size=(1, 1), stride=(1, 1), bias=False)\n",
       "          (bn3): BatchNorm2d(2048, eps=1e-05, momentum=0.1, affine=True, track_running_stats=True)\n",
       "          (relu): ReLU(inplace=True)\n",
       "          (downsample): Sequential(\n",
       "            (0): Conv2d(1024, 2048, kernel_size=(1, 1), stride=(2, 2), bias=False)\n",
       "            (1): BatchNorm2d(2048, eps=1e-05, momentum=0.1, affine=True, track_running_stats=True)\n",
       "          )\n",
       "        )\n",
       "        (1): Bottleneck(\n",
       "          (conv1): Conv2d(2048, 512, kernel_size=(1, 1), stride=(1, 1), bias=False)\n",
       "          (bn1): BatchNorm2d(512, eps=1e-05, momentum=0.1, affine=True, track_running_stats=True)\n",
       "          (conv2): Conv2d(512, 512, kernel_size=(3, 3), stride=(1, 1), padding=(1, 1), bias=False)\n",
       "          (bn2): BatchNorm2d(512, eps=1e-05, momentum=0.1, affine=True, track_running_stats=True)\n",
       "          (conv3): Conv2d(512, 2048, kernel_size=(1, 1), stride=(1, 1), bias=False)\n",
       "          (bn3): BatchNorm2d(2048, eps=1e-05, momentum=0.1, affine=True, track_running_stats=True)\n",
       "          (relu): ReLU(inplace=True)\n",
       "        )\n",
       "        (2): Bottleneck(\n",
       "          (conv1): Conv2d(2048, 512, kernel_size=(1, 1), stride=(1, 1), bias=False)\n",
       "          (bn1): BatchNorm2d(512, eps=1e-05, momentum=0.1, affine=True, track_running_stats=True)\n",
       "          (conv2): Conv2d(512, 512, kernel_size=(3, 3), stride=(1, 1), padding=(1, 1), bias=False)\n",
       "          (bn2): BatchNorm2d(512, eps=1e-05, momentum=0.1, affine=True, track_running_stats=True)\n",
       "          (conv3): Conv2d(512, 2048, kernel_size=(1, 1), stride=(1, 1), bias=False)\n",
       "          (bn3): BatchNorm2d(2048, eps=1e-05, momentum=0.1, affine=True, track_running_stats=True)\n",
       "          (relu): ReLU(inplace=True)\n",
       "        )\n",
       "      )\n",
       "    )\n",
       "    (decoder): FPNDecoder(\n",
       "      (p5): Conv2d(2048, 256, kernel_size=(1, 1), stride=(1, 1))\n",
       "      (p4): FPNBlock(\n",
       "        (skip_conv): Conv2d(1024, 256, kernel_size=(1, 1), stride=(1, 1))\n",
       "      )\n",
       "      (p3): FPNBlock(\n",
       "        (skip_conv): Conv2d(512, 256, kernel_size=(1, 1), stride=(1, 1))\n",
       "      )\n",
       "      (p2): FPNBlock(\n",
       "        (skip_conv): Conv2d(256, 256, kernel_size=(1, 1), stride=(1, 1))\n",
       "      )\n",
       "      (seg_blocks): ModuleList(\n",
       "        (0): SegmentationBlock(\n",
       "          (block): Sequential(\n",
       "            (0): Conv3x3GNReLU(\n",
       "              (block): Sequential(\n",
       "                (0): Conv2d(256, 128, kernel_size=(3, 3), stride=(1, 1), padding=(1, 1), bias=False)\n",
       "                (1): GroupNorm(32, 128, eps=1e-05, affine=True)\n",
       "                (2): ReLU(inplace=True)\n",
       "              )\n",
       "            )\n",
       "            (1): Conv3x3GNReLU(\n",
       "              (block): Sequential(\n",
       "                (0): Conv2d(128, 128, kernel_size=(3, 3), stride=(1, 1), padding=(1, 1), bias=False)\n",
       "                (1): GroupNorm(32, 128, eps=1e-05, affine=True)\n",
       "                (2): ReLU(inplace=True)\n",
       "              )\n",
       "            )\n",
       "            (2): Conv3x3GNReLU(\n",
       "              (block): Sequential(\n",
       "                (0): Conv2d(128, 128, kernel_size=(3, 3), stride=(1, 1), padding=(1, 1), bias=False)\n",
       "                (1): GroupNorm(32, 128, eps=1e-05, affine=True)\n",
       "                (2): ReLU(inplace=True)\n",
       "              )\n",
       "            )\n",
       "          )\n",
       "        )\n",
       "        (1): SegmentationBlock(\n",
       "          (block): Sequential(\n",
       "            (0): Conv3x3GNReLU(\n",
       "              (block): Sequential(\n",
       "                (0): Conv2d(256, 128, kernel_size=(3, 3), stride=(1, 1), padding=(1, 1), bias=False)\n",
       "                (1): GroupNorm(32, 128, eps=1e-05, affine=True)\n",
       "                (2): ReLU(inplace=True)\n",
       "              )\n",
       "            )\n",
       "            (1): Conv3x3GNReLU(\n",
       "              (block): Sequential(\n",
       "                (0): Conv2d(128, 128, kernel_size=(3, 3), stride=(1, 1), padding=(1, 1), bias=False)\n",
       "                (1): GroupNorm(32, 128, eps=1e-05, affine=True)\n",
       "                (2): ReLU(inplace=True)\n",
       "              )\n",
       "            )\n",
       "          )\n",
       "        )\n",
       "        (2-3): 2 x SegmentationBlock(\n",
       "          (block): Sequential(\n",
       "            (0): Conv3x3GNReLU(\n",
       "              (block): Sequential(\n",
       "                (0): Conv2d(256, 128, kernel_size=(3, 3), stride=(1, 1), padding=(1, 1), bias=False)\n",
       "                (1): GroupNorm(32, 128, eps=1e-05, affine=True)\n",
       "                (2): ReLU(inplace=True)\n",
       "              )\n",
       "            )\n",
       "          )\n",
       "        )\n",
       "      )\n",
       "      (merge): MergeBlock()\n",
       "      (dropout): Dropout2d(p=0.2, inplace=True)\n",
       "    )\n",
       "    (segmentation_head): SegmentationHead(\n",
       "      (0): Conv2d(128, 2, kernel_size=(1, 1), stride=(1, 1))\n",
       "      (1): UpsamplingBilinear2d(scale_factor=4.0, mode='bilinear')\n",
       "      (2): Activation(\n",
       "        (activation): Identity()\n",
       "      )\n",
       "    )\n",
       "  )\n",
       ")"
      ]
     },
     "execution_count": 31,
     "metadata": {},
     "output_type": "execute_result"
    }
   ],
   "source": [
    "model"
   ]
  },
  {
   "cell_type": "code",
   "execution_count": 35,
   "id": "f1606844",
   "metadata": {},
   "outputs": [
    {
     "ename": "RuntimeError",
     "evalue": "Error(s) in loading state_dict for ResUNet:\n\tMissing key(s) in state_dict: \"conv1.weight\", \"bn1.weight\", \"bn1.bias\", \"bn1.running_mean\", \"bn1.running_var\", \"encoder.stage_0.0.conv1.weight\", \"encoder.stage_0.0.bn1.weight\", \"encoder.stage_0.0.bn1.bias\", \"encoder.stage_0.0.bn1.running_mean\", \"encoder.stage_0.0.bn1.running_var\", \"encoder.stage_0.0.conv2.weight\", \"encoder.stage_0.0.bn2.weight\", \"encoder.stage_0.0.bn2.bias\", \"encoder.stage_0.0.bn2.running_mean\", \"encoder.stage_0.0.bn2.running_var\", \"encoder.stage_0.0.downsample.0.weight\", \"encoder.stage_0.0.downsample.1.weight\", \"encoder.stage_0.0.downsample.1.bias\", \"encoder.stage_0.0.downsample.1.running_mean\", \"encoder.stage_0.0.downsample.1.running_var\", \"encoder.stage_0.1.conv1.weight\", \"encoder.stage_0.1.bn1.weight\", \"encoder.stage_0.1.bn1.bias\", \"encoder.stage_0.1.bn1.running_mean\", \"encoder.stage_0.1.bn1.running_var\", \"encoder.stage_0.1.conv2.weight\", \"encoder.stage_0.1.bn2.weight\", \"encoder.stage_0.1.bn2.bias\", \"encoder.stage_0.1.bn2.running_mean\", \"encoder.stage_0.1.bn2.running_var\", \"encoder.stage_0.2.conv1.weight\", \"encoder.stage_0.2.bn1.weight\", \"encoder.stage_0.2.bn1.bias\", \"encoder.stage_0.2.bn1.running_mean\", \"encoder.stage_0.2.bn1.running_var\", \"encoder.stage_0.2.conv2.weight\", \"encoder.stage_0.2.bn2.weight\", \"encoder.stage_0.2.bn2.bias\", \"encoder.stage_0.2.bn2.running_mean\", \"encoder.stage_0.2.bn2.running_var\", \"encoder.stage_1.0.conv1.weight\", \"encoder.stage_1.0.bn1.weight\", \"encoder.stage_1.0.bn1.bias\", \"encoder.stage_1.0.bn1.running_mean\", \"encoder.stage_1.0.bn1.running_var\", \"encoder.stage_1.0.conv2.weight\", \"encoder.stage_1.0.bn2.weight\", \"encoder.stage_1.0.bn2.bias\", \"encoder.stage_1.0.bn2.running_mean\", \"encoder.stage_1.0.bn2.running_var\", \"encoder.stage_1.0.downsample.0.weight\", \"encoder.stage_1.0.downsample.1.weight\", \"encoder.stage_1.0.downsample.1.bias\", \"encoder.stage_1.0.downsample.1.running_mean\", \"encoder.stage_1.0.downsample.1.running_var\", \"encoder.stage_1.1.conv1.weight\", \"encoder.stage_1.1.bn1.weight\", \"encoder.stage_1.1.bn1.bias\", \"encoder.stage_1.1.bn1.running_mean\", \"encoder.stage_1.1.bn1.running_var\", \"encoder.stage_1.1.conv2.weight\", \"encoder.stage_1.1.bn2.weight\", \"encoder.stage_1.1.bn2.bias\", \"encoder.stage_1.1.bn2.running_mean\", \"encoder.stage_1.1.bn2.running_var\", \"encoder.stage_1.2.conv1.weight\", \"encoder.stage_1.2.bn1.weight\", \"encoder.stage_1.2.bn1.bias\", \"encoder.stage_1.2.bn1.running_mean\", \"encoder.stage_1.2.bn1.running_var\", \"encoder.stage_1.2.conv2.weight\", \"encoder.stage_1.2.bn2.weight\", \"encoder.stage_1.2.bn2.bias\", \"encoder.stage_1.2.bn2.running_mean\", \"encoder.stage_1.2.bn2.running_var\", \"encoder.stage_2.0.conv1.weight\", \"encoder.stage_2.0.bn1.weight\", \"encoder.stage_2.0.bn1.bias\", \"encoder.stage_2.0.bn1.running_mean\", \"encoder.stage_2.0.bn1.running_var\", \"encoder.stage_2.0.conv2.weight\", \"encoder.stage_2.0.bn2.weight\", \"encoder.stage_2.0.bn2.bias\", \"encoder.stage_2.0.bn2.running_mean\", \"encoder.stage_2.0.bn2.running_var\", \"encoder.stage_2.0.downsample.0.weight\", \"encoder.stage_2.0.downsample.1.weight\", \"encoder.stage_2.0.downsample.1.bias\", \"encoder.stage_2.0.downsample.1.running_mean\", \"encoder.stage_2.0.downsample.1.running_var\", \"encoder.stage_2.1.conv1.weight\", \"encoder.stage_2.1.bn1.weight\", \"encoder.stage_2.1.bn1.bias\", \"encoder.stage_2.1.bn1.running_mean\", \"encoder.stage_2.1.bn1.running_var\", \"encoder.stage_2.1.conv2.weight\", \"encoder.stage_2.1.bn2.weight\", \"encoder.stage_2.1.bn2.bias\", \"encoder.stage_2.1.bn2.running_mean\", \"encoder.stage_2.1.bn2.running_var\", \"encoder.stage_2.2.conv1.weight\", \"encoder.stage_2.2.bn1.weight\", \"encoder.stage_2.2.bn1.bias\", \"encoder.stage_2.2.bn1.running_mean\", \"encoder.stage_2.2.bn1.running_var\", \"encoder.stage_2.2.conv2.weight\", \"encoder.stage_2.2.bn2.weight\", \"encoder.stage_2.2.bn2.bias\", \"encoder.stage_2.2.bn2.running_mean\", \"encoder.stage_2.2.bn2.running_var\", \"encoder.stage_3.0.conv1.weight\", \"encoder.stage_3.0.bn1.weight\", \"encoder.stage_3.0.bn1.bias\", \"encoder.stage_3.0.bn1.running_mean\", \"encoder.stage_3.0.bn1.running_var\", \"encoder.stage_3.0.conv2.weight\", \"encoder.stage_3.0.bn2.weight\", \"encoder.stage_3.0.bn2.bias\", \"encoder.stage_3.0.bn2.running_mean\", \"encoder.stage_3.0.bn2.running_var\", \"encoder.stage_3.0.downsample.0.weight\", \"encoder.stage_3.0.downsample.1.weight\", \"encoder.stage_3.0.downsample.1.bias\", \"encoder.stage_3.0.downsample.1.running_mean\", \"encoder.stage_3.0.downsample.1.running_var\", \"encoder.stage_3.1.conv1.weight\", \"encoder.stage_3.1.bn1.weight\", \"encoder.stage_3.1.bn1.bias\", \"encoder.stage_3.1.bn1.running_mean\", \"encoder.stage_3.1.bn1.running_var\", \"encoder.stage_3.1.conv2.weight\", \"encoder.stage_3.1.bn2.weight\", \"encoder.stage_3.1.bn2.bias\", \"encoder.stage_3.1.bn2.running_mean\", \"encoder.stage_3.1.bn2.running_var\", \"encoder.stage_3.2.conv1.weight\", \"encoder.stage_3.2.bn1.weight\", \"encoder.stage_3.2.bn1.bias\", \"encoder.stage_3.2.bn1.running_mean\", \"encoder.stage_3.2.bn1.running_var\", \"encoder.stage_3.2.conv2.weight\", \"encoder.stage_3.2.bn2.weight\", \"encoder.stage_3.2.bn2.bias\", \"encoder.stage_3.2.bn2.running_mean\", \"encoder.stage_3.2.bn2.running_var\", \"mid_block.conv1.weight\", \"mid_block.bn1.weight\", \"mid_block.bn1.bias\", \"mid_block.bn1.running_mean\", \"mid_block.bn1.running_var\", \"mid_block.conv2.weight\", \"mid_block.bn2.weight\", \"mid_block.bn2.bias\", \"mid_block.bn2.running_mean\", \"mid_block.bn2.running_var\", \"decoder.stage_3.0.conv.0.weight\", \"decoder.stage_3.0.conv.1.weight\", \"decoder.stage_3.0.conv.1.bias\", \"decoder.stage_3.0.conv.1.running_mean\", \"decoder.stage_3.0.conv.1.running_var\", \"decoder.stage_3.2.0.conv1.weight\", \"decoder.stage_3.2.0.bn1.weight\", \"decoder.stage_3.2.0.bn1.bias\", \"decoder.stage_3.2.0.bn1.running_mean\", \"decoder.stage_3.2.0.bn1.running_var\", \"decoder.stage_3.2.0.conv2.weight\", \"decoder.stage_3.2.0.bn2.weight\", \"decoder.stage_3.2.0.bn2.bias\", \"decoder.stage_3.2.0.bn2.running_mean\", \"decoder.stage_3.2.0.bn2.running_var\", \"decoder.stage_3.2.0.downsample.0.weight\", \"decoder.stage_3.2.0.downsample.1.weight\", \"decoder.stage_3.2.0.downsample.1.bias\", \"decoder.stage_3.2.0.downsample.1.running_mean\", \"decoder.stage_3.2.0.downsample.1.running_var\", \"decoder.stage_3.2.1.conv1.weight\", \"decoder.stage_3.2.1.bn1.weight\", \"decoder.stage_3.2.1.bn1.bias\", \"decoder.stage_3.2.1.bn1.running_mean\", \"decoder.stage_3.2.1.bn1.running_var\", \"decoder.stage_3.2.1.conv2.weight\", \"decoder.stage_3.2.1.bn2.weight\", \"decoder.stage_3.2.1.bn2.bias\", \"decoder.stage_3.2.1.bn2.running_mean\", \"decoder.stage_3.2.1.bn2.running_var\", \"decoder.stage_3.2.2.conv1.weight\", \"decoder.stage_3.2.2.bn1.weight\", \"decoder.stage_3.2.2.bn1.bias\", \"decoder.stage_3.2.2.bn1.running_mean\", \"decoder.stage_3.2.2.bn1.running_var\", \"decoder.stage_3.2.2.conv2.weight\", \"decoder.stage_3.2.2.bn2.weight\", \"decoder.stage_3.2.2.bn2.bias\", \"decoder.stage_3.2.2.bn2.running_mean\", \"decoder.stage_3.2.2.bn2.running_var\", \"decoder.stage_2.0.conv.0.weight\", \"decoder.stage_2.0.conv.1.weight\", \"decoder.stage_2.0.conv.1.bias\", \"decoder.stage_2.0.conv.1.running_mean\", \"decoder.stage_2.0.conv.1.running_var\", \"decoder.stage_2.2.0.conv1.weight\", \"decoder.stage_2.2.0.bn1.weight\", \"decoder.stage_2.2.0.bn1.bias\", \"decoder.stage_2.2.0.bn1.running_mean\", \"decoder.stage_2.2.0.bn1.running_var\", \"decoder.stage_2.2.0.conv2.weight\", \"decoder.stage_2.2.0.bn2.weight\", \"decoder.stage_2.2.0.bn2.bias\", \"decoder.stage_2.2.0.bn2.running_mean\", \"decoder.stage_2.2.0.bn2.running_var\", \"decoder.stage_2.2.0.downsample.0.weight\", \"decoder.stage_2.2.0.downsample.1.weight\", \"decoder.stage_2.2.0.downsample.1.bias\", \"decoder.stage_2.2.0.downsample.1.running_mean\", \"decoder.stage_2.2.0.downsample.1.running_var\", \"decoder.stage_2.2.1.conv1.weight\", \"decoder.stage_2.2.1.bn1.weight\", \"decoder.stage_2.2.1.bn1.bias\", \"decoder.stage_2.2.1.bn1.running_mean\", \"decoder.stage_2.2.1.bn1.running_var\", \"decoder.stage_2.2.1.conv2.weight\", \"decoder.stage_2.2.1.bn2.weight\", \"decoder.stage_2.2.1.bn2.bias\", \"decoder.stage_2.2.1.bn2.running_mean\", \"decoder.stage_2.2.1.bn2.running_var\", \"decoder.stage_2.2.2.conv1.weight\", \"decoder.stage_2.2.2.bn1.weight\", \"decoder.stage_2.2.2.bn1.bias\", \"decoder.stage_2.2.2.bn1.running_mean\", \"decoder.stage_2.2.2.bn1.running_var\", \"decoder.stage_2.2.2.conv2.weight\", \"decoder.stage_2.2.2.bn2.weight\", \"decoder.stage_2.2.2.bn2.bias\", \"decoder.stage_2.2.2.bn2.running_mean\", \"decoder.stage_2.2.2.bn2.running_var\", \"decoder.stage_1.0.conv.0.weight\", \"decoder.stage_1.0.conv.1.weight\", \"decoder.stage_1.0.conv.1.bias\", \"decoder.stage_1.0.conv.1.running_mean\", \"decoder.stage_1.0.conv.1.running_var\", \"decoder.stage_1.2.0.conv1.weight\", \"decoder.stage_1.2.0.bn1.weight\", \"decoder.stage_1.2.0.bn1.bias\", \"decoder.stage_1.2.0.bn1.running_mean\", \"decoder.stage_1.2.0.bn1.running_var\", \"decoder.stage_1.2.0.conv2.weight\", \"decoder.stage_1.2.0.bn2.weight\", \"decoder.stage_1.2.0.bn2.bias\", \"decoder.stage_1.2.0.bn2.running_mean\", \"decoder.stage_1.2.0.bn2.running_var\", \"decoder.stage_1.2.0.downsample.0.weight\", \"decoder.stage_1.2.0.downsample.1.weight\", \"decoder.stage_1.2.0.downsample.1.bias\", \"decoder.stage_1.2.0.downsample.1.running_mean\", \"decoder.stage_1.2.0.downsample.1.running_var\", \"decoder.stage_1.2.1.conv1.weight\", \"decoder.stage_1.2.1.bn1.weight\", \"decoder.stage_1.2.1.bn1.bias\", \"decoder.stage_1.2.1.bn1.running_mean\", \"decoder.stage_1.2.1.bn1.running_var\", \"decoder.stage_1.2.1.conv2.weight\", \"decoder.stage_1.2.1.bn2.weight\", \"decoder.stage_1.2.1.bn2.bias\", \"decoder.stage_1.2.1.bn2.running_mean\", \"decoder.stage_1.2.1.bn2.running_var\", \"decoder.stage_1.2.2.conv1.weight\", \"decoder.stage_1.2.2.bn1.weight\", \"decoder.stage_1.2.2.bn1.bias\", \"decoder.stage_1.2.2.bn1.running_mean\", \"decoder.stage_1.2.2.bn1.running_var\", \"decoder.stage_1.2.2.conv2.weight\", \"decoder.stage_1.2.2.bn2.weight\", \"decoder.stage_1.2.2.bn2.bias\", \"decoder.stage_1.2.2.bn2.running_mean\", \"decoder.stage_1.2.2.bn2.running_var\", \"decoder.stage_0.2.0.conv1.weight\", \"decoder.stage_0.2.0.bn1.weight\", \"decoder.stage_0.2.0.bn1.bias\", \"decoder.stage_0.2.0.bn1.running_mean\", \"decoder.stage_0.2.0.bn1.running_var\", \"decoder.stage_0.2.0.conv2.weight\", \"decoder.stage_0.2.0.bn2.weight\", \"decoder.stage_0.2.0.bn2.bias\", \"decoder.stage_0.2.0.bn2.running_mean\", \"decoder.stage_0.2.0.bn2.running_var\", \"decoder.stage_0.2.0.downsample.0.weight\", \"decoder.stage_0.2.0.downsample.1.weight\", \"decoder.stage_0.2.0.downsample.1.bias\", \"decoder.stage_0.2.0.downsample.1.running_mean\", \"decoder.stage_0.2.0.downsample.1.running_var\", \"decoder.stage_0.2.1.conv1.weight\", \"decoder.stage_0.2.1.bn1.weight\", \"decoder.stage_0.2.1.bn1.bias\", \"decoder.stage_0.2.1.bn1.running_mean\", \"decoder.stage_0.2.1.bn1.running_var\", \"decoder.stage_0.2.1.conv2.weight\", \"decoder.stage_0.2.1.bn2.weight\", \"decoder.stage_0.2.1.bn2.bias\", \"decoder.stage_0.2.1.bn2.running_mean\", \"decoder.stage_0.2.1.bn2.running_var\", \"decoder.stage_0.2.2.conv1.weight\", \"decoder.stage_0.2.2.bn1.weight\", \"decoder.stage_0.2.2.bn1.bias\", \"decoder.stage_0.2.2.bn1.running_mean\", \"decoder.stage_0.2.2.bn1.running_var\", \"decoder.stage_0.2.2.conv2.weight\", \"decoder.stage_0.2.2.bn2.weight\", \"decoder.stage_0.2.2.bn2.bias\", \"decoder.stage_0.2.2.bn2.running_mean\", \"decoder.stage_0.2.2.bn2.running_var\", \"conv_output.weight\". \n\tUnexpected key(s) in state_dict: \"loss_func.weight\", \"model.encoder.conv1.weight\", \"model.encoder.bn1.weight\", \"model.encoder.bn1.bias\", \"model.encoder.bn1.running_mean\", \"model.encoder.bn1.running_var\", \"model.encoder.bn1.num_batches_tracked\", \"model.encoder.layer1.0.conv1.weight\", \"model.encoder.layer1.0.bn1.weight\", \"model.encoder.layer1.0.bn1.bias\", \"model.encoder.layer1.0.bn1.running_mean\", \"model.encoder.layer1.0.bn1.running_var\", \"model.encoder.layer1.0.bn1.num_batches_tracked\", \"model.encoder.layer1.0.conv2.weight\", \"model.encoder.layer1.0.bn2.weight\", \"model.encoder.layer1.0.bn2.bias\", \"model.encoder.layer1.0.bn2.running_mean\", \"model.encoder.layer1.0.bn2.running_var\", \"model.encoder.layer1.0.bn2.num_batches_tracked\", \"model.encoder.layer1.0.conv3.weight\", \"model.encoder.layer1.0.bn3.weight\", \"model.encoder.layer1.0.bn3.bias\", \"model.encoder.layer1.0.bn3.running_mean\", \"model.encoder.layer1.0.bn3.running_var\", \"model.encoder.layer1.0.bn3.num_batches_tracked\", \"model.encoder.layer1.0.downsample.0.weight\", \"model.encoder.layer1.0.downsample.1.weight\", \"model.encoder.layer1.0.downsample.1.bias\", \"model.encoder.layer1.0.downsample.1.running_mean\", \"model.encoder.layer1.0.downsample.1.running_var\", \"model.encoder.layer1.0.downsample.1.num_batches_tracked\", \"model.encoder.layer1.1.conv1.weight\", \"model.encoder.layer1.1.bn1.weight\", \"model.encoder.layer1.1.bn1.bias\", \"model.encoder.layer1.1.bn1.running_mean\", \"model.encoder.layer1.1.bn1.running_var\", \"model.encoder.layer1.1.bn1.num_batches_tracked\", \"model.encoder.layer1.1.conv2.weight\", \"model.encoder.layer1.1.bn2.weight\", \"model.encoder.layer1.1.bn2.bias\", \"model.encoder.layer1.1.bn2.running_mean\", \"model.encoder.layer1.1.bn2.running_var\", \"model.encoder.layer1.1.bn2.num_batches_tracked\", \"model.encoder.layer1.1.conv3.weight\", \"model.encoder.layer1.1.bn3.weight\", \"model.encoder.layer1.1.bn3.bias\", \"model.encoder.layer1.1.bn3.running_mean\", \"model.encoder.layer1.1.bn3.running_var\", \"model.encoder.layer1.1.bn3.num_batches_tracked\", \"model.encoder.layer1.2.conv1.weight\", \"model.encoder.layer1.2.bn1.weight\", \"model.encoder.layer1.2.bn1.bias\", \"model.encoder.layer1.2.bn1.running_mean\", \"model.encoder.layer1.2.bn1.running_var\", \"model.encoder.layer1.2.bn1.num_batches_tracked\", \"model.encoder.layer1.2.conv2.weight\", \"model.encoder.layer1.2.bn2.weight\", \"model.encoder.layer1.2.bn2.bias\", \"model.encoder.layer1.2.bn2.running_mean\", \"model.encoder.layer1.2.bn2.running_var\", \"model.encoder.layer1.2.bn2.num_batches_tracked\", \"model.encoder.layer1.2.conv3.weight\", \"model.encoder.layer1.2.bn3.weight\", \"model.encoder.layer1.2.bn3.bias\", \"model.encoder.layer1.2.bn3.running_mean\", \"model.encoder.layer1.2.bn3.running_var\", \"model.encoder.layer1.2.bn3.num_batches_tracked\", \"model.encoder.layer2.0.conv1.weight\", \"model.encoder.layer2.0.bn1.weight\", \"model.encoder.layer2.0.bn1.bias\", \"model.encoder.layer2.0.bn1.running_mean\", \"model.encoder.layer2.0.bn1.running_var\", \"model.encoder.layer2.0.bn1.num_batches_tracked\", \"model.encoder.layer2.0.conv2.weight\", \"model.encoder.layer2.0.bn2.weight\", \"model.encoder.layer2.0.bn2.bias\", \"model.encoder.layer2.0.bn2.running_mean\", \"model.encoder.layer2.0.bn2.running_var\", \"model.encoder.layer2.0.bn2.num_batches_tracked\", \"model.encoder.layer2.0.conv3.weight\", \"model.encoder.layer2.0.bn3.weight\", \"model.encoder.layer2.0.bn3.bias\", \"model.encoder.layer2.0.bn3.running_mean\", \"model.encoder.layer2.0.bn3.running_var\", \"model.encoder.layer2.0.bn3.num_batches_tracked\", \"model.encoder.layer2.0.downsample.0.weight\", \"model.encoder.layer2.0.downsample.1.weight\", \"model.encoder.layer2.0.downsample.1.bias\", \"model.encoder.layer2.0.downsample.1.running_mean\", \"model.encoder.layer2.0.downsample.1.running_var\", \"model.encoder.layer2.0.downsample.1.num_batches_tracked\", \"model.encoder.layer2.1.conv1.weight\", \"model.encoder.layer2.1.bn1.weight\", \"model.encoder.layer2.1.bn1.bias\", \"model.encoder.layer2.1.bn1.running_mean\", \"model.encoder.layer2.1.bn1.running_var\", \"model.encoder.layer2.1.bn1.num_batches_tracked\", \"model.encoder.layer2.1.conv2.weight\", \"model.encoder.layer2.1.bn2.weight\", \"model.encoder.layer2.1.bn2.bias\", \"model.encoder.layer2.1.bn2.running_mean\", \"model.encoder.layer2.1.bn2.running_var\", \"model.encoder.layer2.1.bn2.num_batches_tracked\", \"model.encoder.layer2.1.conv3.weight\", \"model.encoder.layer2.1.bn3.weight\", \"model.encoder.layer2.1.bn3.bias\", \"model.encoder.layer2.1.bn3.running_mean\", \"model.encoder.layer2.1.bn3.running_var\", \"model.encoder.layer2.1.bn3.num_batches_tracked\", \"model.encoder.layer2.2.conv1.weight\", \"model.encoder.layer2.2.bn1.weight\", \"model.encoder.layer2.2.bn1.bias\", \"model.encoder.layer2.2.bn1.running_mean\", \"model.encoder.layer2.2.bn1.running_var\", \"model.encoder.layer2.2.bn1.num_batches_tracked\", \"model.encoder.layer2.2.conv2.weight\", \"model.encoder.layer2.2.bn2.weight\", \"model.encoder.layer2.2.bn2.bias\", \"model.encoder.layer2.2.bn2.running_mean\", \"model.encoder.layer2.2.bn2.running_var\", \"model.encoder.layer2.2.bn2.num_batches_tracked\", \"model.encoder.layer2.2.conv3.weight\", \"model.encoder.layer2.2.bn3.weight\", \"model.encoder.layer2.2.bn3.bias\", \"model.encoder.layer2.2.bn3.running_mean\", \"model.encoder.layer2.2.bn3.running_var\", \"model.encoder.layer2.2.bn3.num_batches_tracked\", \"model.encoder.layer2.3.conv1.weight\", \"model.encoder.layer2.3.bn1.weight\", \"model.encoder.layer2.3.bn1.bias\", \"model.encoder.layer2.3.bn1.running_mean\", \"model.encoder.layer2.3.bn1.running_var\", \"model.encoder.layer2.3.bn1.num_batches_tracked\", \"model.encoder.layer2.3.conv2.weight\", \"model.encoder.layer2.3.bn2.weight\", \"model.encoder.layer2.3.bn2.bias\", \"model.encoder.layer2.3.bn2.running_mean\", \"model.encoder.layer2.3.bn2.running_var\", \"model.encoder.layer2.3.bn2.num_batches_tracked\", \"model.encoder.layer2.3.conv3.weight\", \"model.encoder.layer2.3.bn3.weight\", \"model.encoder.layer2.3.bn3.bias\", \"model.encoder.layer2.3.bn3.running_mean\", \"model.encoder.layer2.3.bn3.running_var\", \"model.encoder.layer2.3.bn3.num_batches_tracked\", \"model.encoder.layer3.0.conv1.weight\", \"model.encoder.layer3.0.bn1.weight\", \"model.encoder.layer3.0.bn1.bias\", \"model.encoder.layer3.0.bn1.running_mean\", \"model.encoder.layer3.0.bn1.running_var\", \"model.encoder.layer3.0.bn1.num_batches_tracked\", \"model.encoder.layer3.0.conv2.weight\", \"model.encoder.layer3.0.bn2.weight\", \"model.encoder.layer3.0.bn2.bias\", \"model.encoder.layer3.0.bn2.running_mean\", \"model.encoder.layer3.0.bn2.running_var\", \"model.encoder.layer3.0.bn2.num_batches_tracked\", \"model.encoder.layer3.0.conv3.weight\", \"model.encoder.layer3.0.bn3.weight\", \"model.encoder.layer3.0.bn3.bias\", \"model.encoder.layer3.0.bn3.running_mean\", \"model.encoder.layer3.0.bn3.running_var\", \"model.encoder.layer3.0.bn3.num_batches_tracked\", \"model.encoder.layer3.0.downsample.0.weight\", \"model.encoder.layer3.0.downsample.1.weight\", \"model.encoder.layer3.0.downsample.1.bias\", \"model.encoder.layer3.0.downsample.1.running_mean\", \"model.encoder.layer3.0.downsample.1.running_var\", \"model.encoder.layer3.0.downsample.1.num_batches_tracked\", \"model.encoder.layer3.1.conv1.weight\", \"model.encoder.layer3.1.bn1.weight\", \"model.encoder.layer3.1.bn1.bias\", \"model.encoder.layer3.1.bn1.running_mean\", \"model.encoder.layer3.1.bn1.running_var\", \"model.encoder.layer3.1.bn1.num_batches_tracked\", \"model.encoder.layer3.1.conv2.weight\", \"model.encoder.layer3.1.bn2.weight\", \"model.encoder.layer3.1.bn2.bias\", \"model.encoder.layer3.1.bn2.running_mean\", \"model.encoder.layer3.1.bn2.running_var\", \"model.encoder.layer3.1.bn2.num_batches_tracked\", \"model.encoder.layer3.1.conv3.weight\", \"model.encoder.layer3.1.bn3.weight\", \"model.encoder.layer3.1.bn3.bias\", \"model.encoder.layer3.1.bn3.running_mean\", \"model.encoder.layer3.1.bn3.running_var\", \"model.encoder.layer3.1.bn3.num_batches_tracked\", \"model.encoder.layer3.2.conv1.weight\", \"model.encoder.layer3.2.bn1.weight\", \"model.encoder.layer3.2.bn1.bias\", \"model.encoder.layer3.2.bn1.running_mean\", \"model.encoder.layer3.2.bn1.running_var\", \"model.encoder.layer3.2.bn1.num_batches_tracked\", \"model.encoder.layer3.2.conv2.weight\", \"model.encoder.layer3.2.bn2.weight\", \"model.encoder.layer3.2.bn2.bias\", \"model.encoder.layer3.2.bn2.running_mean\", \"model.encoder.layer3.2.bn2.running_var\", \"model.encoder.layer3.2.bn2.num_batches_tracked\", \"model.encoder.layer3.2.conv3.weight\", \"model.encoder.layer3.2.bn3.weight\", \"model.encoder.layer3.2.bn3.bias\", \"model.encoder.layer3.2.bn3.running_mean\", \"model.encoder.layer3.2.bn3.running_var\", \"model.encoder.layer3.2.bn3.num_batches_tracked\", \"model.encoder.layer3.3.conv1.weight\", \"model.encoder.layer3.3.bn1.weight\", \"model.encoder.layer3.3.bn1.bias\", \"model.encoder.layer3.3.bn1.running_mean\", \"model.encoder.layer3.3.bn1.running_var\", \"model.encoder.layer3.3.bn1.num_batches_tracked\", \"model.encoder.layer3.3.conv2.weight\", \"model.encoder.layer3.3.bn2.weight\", \"model.encoder.layer3.3.bn2.bias\", \"model.encoder.layer3.3.bn2.running_mean\", \"model.encoder.layer3.3.bn2.running_var\", \"model.encoder.layer3.3.bn2.num_batches_tracked\", \"model.encoder.layer3.3.conv3.weight\", \"model.encoder.layer3.3.bn3.weight\", \"model.encoder.layer3.3.bn3.bias\", \"model.encoder.layer3.3.bn3.running_mean\", \"model.encoder.layer3.3.bn3.running_var\", \"model.encoder.layer3.3.bn3.num_batches_tracked\", \"model.encoder.layer3.4.conv1.weight\", \"model.encoder.layer3.4.bn1.weight\", \"model.encoder.layer3.4.bn1.bias\", \"model.encoder.layer3.4.bn1.running_mean\", \"model.encoder.layer3.4.bn1.running_var\", \"model.encoder.layer3.4.bn1.num_batches_tracked\", \"model.encoder.layer3.4.conv2.weight\", \"model.encoder.layer3.4.bn2.weight\", \"model.encoder.layer3.4.bn2.bias\", \"model.encoder.layer3.4.bn2.running_mean\", \"model.encoder.layer3.4.bn2.running_var\", \"model.encoder.layer3.4.bn2.num_batches_tracked\", \"model.encoder.layer3.4.conv3.weight\", \"model.encoder.layer3.4.bn3.weight\", \"model.encoder.layer3.4.bn3.bias\", \"model.encoder.layer3.4.bn3.running_mean\", \"model.encoder.layer3.4.bn3.running_var\", \"model.encoder.layer3.4.bn3.num_batches_tracked\", \"model.encoder.layer3.5.conv1.weight\", \"model.encoder.layer3.5.bn1.weight\", \"model.encoder.layer3.5.bn1.bias\", \"model.encoder.layer3.5.bn1.running_mean\", \"model.encoder.layer3.5.bn1.running_var\", \"model.encoder.layer3.5.bn1.num_batches_tracked\", \"model.encoder.layer3.5.conv2.weight\", \"model.encoder.layer3.5.bn2.weight\", \"model.encoder.layer3.5.bn2.bias\", \"model.encoder.layer3.5.bn2.running_mean\", \"model.encoder.layer3.5.bn2.running_var\", \"model.encoder.layer3.5.bn2.num_batches_tracked\", \"model.encoder.layer3.5.conv3.weight\", \"model.encoder.layer3.5.bn3.weight\", \"model.encoder.layer3.5.bn3.bias\", \"model.encoder.layer3.5.bn3.running_mean\", \"model.encoder.layer3.5.bn3.running_var\", \"model.encoder.layer3.5.bn3.num_batches_tracked\", \"model.encoder.layer4.0.conv1.weight\", \"model.encoder.layer4.0.bn1.weight\", \"model.encoder.layer4.0.bn1.bias\", \"model.encoder.layer4.0.bn1.running_mean\", \"model.encoder.layer4.0.bn1.running_var\", \"model.encoder.layer4.0.bn1.num_batches_tracked\", \"model.encoder.layer4.0.conv2.weight\", \"model.encoder.layer4.0.bn2.weight\", \"model.encoder.layer4.0.bn2.bias\", \"model.encoder.layer4.0.bn2.running_mean\", \"model.encoder.layer4.0.bn2.running_var\", \"model.encoder.layer4.0.bn2.num_batches_tracked\", \"model.encoder.layer4.0.conv3.weight\", \"model.encoder.layer4.0.bn3.weight\", \"model.encoder.layer4.0.bn3.bias\", \"model.encoder.layer4.0.bn3.running_mean\", \"model.encoder.layer4.0.bn3.running_var\", \"model.encoder.layer4.0.bn3.num_batches_tracked\", \"model.encoder.layer4.0.downsample.0.weight\", \"model.encoder.layer4.0.downsample.1.weight\", \"model.encoder.layer4.0.downsample.1.bias\", \"model.encoder.layer4.0.downsample.1.running_mean\", \"model.encoder.layer4.0.downsample.1.running_var\", \"model.encoder.layer4.0.downsample.1.num_batches_tracked\", \"model.encoder.layer4.1.conv1.weight\", \"model.encoder.layer4.1.bn1.weight\", \"model.encoder.layer4.1.bn1.bias\", \"model.encoder.layer4.1.bn1.running_mean\", \"model.encoder.layer4.1.bn1.running_var\", \"model.encoder.layer4.1.bn1.num_batches_tracked\", \"model.encoder.layer4.1.conv2.weight\", \"model.encoder.layer4.1.bn2.weight\", \"model.encoder.layer4.1.bn2.bias\", \"model.encoder.layer4.1.bn2.running_mean\", \"model.encoder.layer4.1.bn2.running_var\", \"model.encoder.layer4.1.bn2.num_batches_tracked\", \"model.encoder.layer4.1.conv3.weight\", \"model.encoder.layer4.1.bn3.weight\", \"model.encoder.layer4.1.bn3.bias\", \"model.encoder.layer4.1.bn3.running_mean\", \"model.encoder.layer4.1.bn3.running_var\", \"model.encoder.layer4.1.bn3.num_batches_tracked\", \"model.encoder.layer4.2.conv1.weight\", \"model.encoder.layer4.2.bn1.weight\", \"model.encoder.layer4.2.bn1.bias\", \"model.encoder.layer4.2.bn1.running_mean\", \"model.encoder.layer4.2.bn1.running_var\", \"model.encoder.layer4.2.bn1.num_batches_tracked\", \"model.encoder.layer4.2.conv2.weight\", \"model.encoder.layer4.2.bn2.weight\", \"model.encoder.layer4.2.bn2.bias\", \"model.encoder.layer4.2.bn2.running_mean\", \"model.encoder.layer4.2.bn2.running_var\", \"model.encoder.layer4.2.bn2.num_batches_tracked\", \"model.encoder.layer4.2.conv3.weight\", \"model.encoder.layer4.2.bn3.weight\", \"model.encoder.layer4.2.bn3.bias\", \"model.encoder.layer4.2.bn3.running_mean\", \"model.encoder.layer4.2.bn3.running_var\", \"model.encoder.layer4.2.bn3.num_batches_tracked\", \"model.decoder.p5.weight\", \"model.decoder.p5.bias\", \"model.decoder.p4.skip_conv.weight\", \"model.decoder.p4.skip_conv.bias\", \"model.decoder.p3.skip_conv.weight\", \"model.decoder.p3.skip_conv.bias\", \"model.decoder.p2.skip_conv.weight\", \"model.decoder.p2.skip_conv.bias\", \"model.decoder.seg_blocks.0.block.0.block.0.weight\", \"model.decoder.seg_blocks.0.block.0.block.1.weight\", \"model.decoder.seg_blocks.0.block.0.block.1.bias\", \"model.decoder.seg_blocks.0.block.1.block.0.weight\", \"model.decoder.seg_blocks.0.block.1.block.1.weight\", \"model.decoder.seg_blocks.0.block.1.block.1.bias\", \"model.decoder.seg_blocks.0.block.2.block.0.weight\", \"model.decoder.seg_blocks.0.block.2.block.1.weight\", \"model.decoder.seg_blocks.0.block.2.block.1.bias\", \"model.decoder.seg_blocks.1.block.0.block.0.weight\", \"model.decoder.seg_blocks.1.block.0.block.1.weight\", \"model.decoder.seg_blocks.1.block.0.block.1.bias\", \"model.decoder.seg_blocks.1.block.1.block.0.weight\", \"model.decoder.seg_blocks.1.block.1.block.1.weight\", \"model.decoder.seg_blocks.1.block.1.block.1.bias\", \"model.decoder.seg_blocks.2.block.0.block.0.weight\", \"model.decoder.seg_blocks.2.block.0.block.1.weight\", \"model.decoder.seg_blocks.2.block.0.block.1.bias\", \"model.decoder.seg_blocks.3.block.0.block.0.weight\", \"model.decoder.seg_blocks.3.block.0.block.1.weight\", \"model.decoder.seg_blocks.3.block.0.block.1.bias\", \"model.segmentation_head.0.weight\", \"model.segmentation_head.0.bias\". ",
     "output_type": "error",
     "traceback": [
      "\u001b[0;31m---------------------------------------------------------------------------\u001b[0m",
      "\u001b[0;31mRuntimeError\u001b[0m                              Traceback (most recent call last)",
      "Cell \u001b[0;32mIn[35], line 5\u001b[0m\n\u001b[1;32m      2\u001b[0m state_dict \u001b[38;5;241m=\u001b[39mcheckpoint[\u001b[38;5;124m'\u001b[39m\u001b[38;5;124mstate_dict\u001b[39m\u001b[38;5;124m'\u001b[39m]\n\u001b[1;32m      4\u001b[0m model3 \u001b[38;5;241m=\u001b[39m resunet\u001b[38;5;241m.\u001b[39mResUNet((\u001b[38;5;241m3\u001b[39m, \u001b[38;5;241m3\u001b[39m, \u001b[38;5;241m3\u001b[39m, \u001b[38;5;241m3\u001b[39m), (\u001b[38;5;241m16\u001b[39m,\u001b[38;5;241m32\u001b[39m,\u001b[38;5;241m64\u001b[39m,\u001b[38;5;241m128\u001b[39m),  in_channels\u001b[38;5;241m=\u001b[39m\u001b[38;5;241m3\u001b[39m)\n\u001b[0;32m----> 5\u001b[0m model3\u001b[38;5;241m.\u001b[39mload_state_dict(state_dict)\n",
      "File \u001b[0;32m~/anaconda3/envs/mestrado_env/lib/python3.11/site-packages/torch/nn/modules/module.py:2152\u001b[0m, in \u001b[0;36mModule.load_state_dict\u001b[0;34m(self, state_dict, strict, assign)\u001b[0m\n\u001b[1;32m   2147\u001b[0m         error_msgs\u001b[38;5;241m.\u001b[39minsert(\n\u001b[1;32m   2148\u001b[0m             \u001b[38;5;241m0\u001b[39m, \u001b[38;5;124m'\u001b[39m\u001b[38;5;124mMissing key(s) in state_dict: \u001b[39m\u001b[38;5;132;01m{}\u001b[39;00m\u001b[38;5;124m. \u001b[39m\u001b[38;5;124m'\u001b[39m\u001b[38;5;241m.\u001b[39mformat(\n\u001b[1;32m   2149\u001b[0m                 \u001b[38;5;124m'\u001b[39m\u001b[38;5;124m, \u001b[39m\u001b[38;5;124m'\u001b[39m\u001b[38;5;241m.\u001b[39mjoin(\u001b[38;5;124mf\u001b[39m\u001b[38;5;124m'\u001b[39m\u001b[38;5;124m\"\u001b[39m\u001b[38;5;132;01m{\u001b[39;00mk\u001b[38;5;132;01m}\u001b[39;00m\u001b[38;5;124m\"\u001b[39m\u001b[38;5;124m'\u001b[39m \u001b[38;5;28;01mfor\u001b[39;00m k \u001b[38;5;129;01min\u001b[39;00m missing_keys)))\n\u001b[1;32m   2151\u001b[0m \u001b[38;5;28;01mif\u001b[39;00m \u001b[38;5;28mlen\u001b[39m(error_msgs) \u001b[38;5;241m>\u001b[39m \u001b[38;5;241m0\u001b[39m:\n\u001b[0;32m-> 2152\u001b[0m     \u001b[38;5;28;01mraise\u001b[39;00m \u001b[38;5;167;01mRuntimeError\u001b[39;00m(\u001b[38;5;124m'\u001b[39m\u001b[38;5;124mError(s) in loading state_dict for \u001b[39m\u001b[38;5;132;01m{}\u001b[39;00m\u001b[38;5;124m:\u001b[39m\u001b[38;5;130;01m\\n\u001b[39;00m\u001b[38;5;130;01m\\t\u001b[39;00m\u001b[38;5;132;01m{}\u001b[39;00m\u001b[38;5;124m'\u001b[39m\u001b[38;5;241m.\u001b[39mformat(\n\u001b[1;32m   2153\u001b[0m                        \u001b[38;5;28mself\u001b[39m\u001b[38;5;241m.\u001b[39m\u001b[38;5;18m__class__\u001b[39m\u001b[38;5;241m.\u001b[39m\u001b[38;5;18m__name__\u001b[39m, \u001b[38;5;124m\"\u001b[39m\u001b[38;5;130;01m\\n\u001b[39;00m\u001b[38;5;130;01m\\t\u001b[39;00m\u001b[38;5;124m\"\u001b[39m\u001b[38;5;241m.\u001b[39mjoin(error_msgs)))\n\u001b[1;32m   2154\u001b[0m \u001b[38;5;28;01mreturn\u001b[39;00m _IncompatibleKeys(missing_keys, unexpected_keys)\n",
      "\u001b[0;31mRuntimeError\u001b[0m: Error(s) in loading state_dict for ResUNet:\n\tMissing key(s) in state_dict: \"conv1.weight\", \"bn1.weight\", \"bn1.bias\", \"bn1.running_mean\", \"bn1.running_var\", \"encoder.stage_0.0.conv1.weight\", \"encoder.stage_0.0.bn1.weight\", \"encoder.stage_0.0.bn1.bias\", \"encoder.stage_0.0.bn1.running_mean\", \"encoder.stage_0.0.bn1.running_var\", \"encoder.stage_0.0.conv2.weight\", \"encoder.stage_0.0.bn2.weight\", \"encoder.stage_0.0.bn2.bias\", \"encoder.stage_0.0.bn2.running_mean\", \"encoder.stage_0.0.bn2.running_var\", \"encoder.stage_0.0.downsample.0.weight\", \"encoder.stage_0.0.downsample.1.weight\", \"encoder.stage_0.0.downsample.1.bias\", \"encoder.stage_0.0.downsample.1.running_mean\", \"encoder.stage_0.0.downsample.1.running_var\", \"encoder.stage_0.1.conv1.weight\", \"encoder.stage_0.1.bn1.weight\", \"encoder.stage_0.1.bn1.bias\", \"encoder.stage_0.1.bn1.running_mean\", \"encoder.stage_0.1.bn1.running_var\", \"encoder.stage_0.1.conv2.weight\", \"encoder.stage_0.1.bn2.weight\", \"encoder.stage_0.1.bn2.bias\", \"encoder.stage_0.1.bn2.running_mean\", \"encoder.stage_0.1.bn2.running_var\", \"encoder.stage_0.2.conv1.weight\", \"encoder.stage_0.2.bn1.weight\", \"encoder.stage_0.2.bn1.bias\", \"encoder.stage_0.2.bn1.running_mean\", \"encoder.stage_0.2.bn1.running_var\", \"encoder.stage_0.2.conv2.weight\", \"encoder.stage_0.2.bn2.weight\", \"encoder.stage_0.2.bn2.bias\", \"encoder.stage_0.2.bn2.running_mean\", \"encoder.stage_0.2.bn2.running_var\", \"encoder.stage_1.0.conv1.weight\", \"encoder.stage_1.0.bn1.weight\", \"encoder.stage_1.0.bn1.bias\", \"encoder.stage_1.0.bn1.running_mean\", \"encoder.stage_1.0.bn1.running_var\", \"encoder.stage_1.0.conv2.weight\", \"encoder.stage_1.0.bn2.weight\", \"encoder.stage_1.0.bn2.bias\", \"encoder.stage_1.0.bn2.running_mean\", \"encoder.stage_1.0.bn2.running_var\", \"encoder.stage_1.0.downsample.0.weight\", \"encoder.stage_1.0.downsample.1.weight\", \"encoder.stage_1.0.downsample.1.bias\", \"encoder.stage_1.0.downsample.1.running_mean\", \"encoder.stage_1.0.downsample.1.running_var\", \"encoder.stage_1.1.conv1.weight\", \"encoder.stage_1.1.bn1.weight\", \"encoder.stage_1.1.bn1.bias\", \"encoder.stage_1.1.bn1.running_mean\", \"encoder.stage_1.1.bn1.running_var\", \"encoder.stage_1.1.conv2.weight\", \"encoder.stage_1.1.bn2.weight\", \"encoder.stage_1.1.bn2.bias\", \"encoder.stage_1.1.bn2.running_mean\", \"encoder.stage_1.1.bn2.running_var\", \"encoder.stage_1.2.conv1.weight\", \"encoder.stage_1.2.bn1.weight\", \"encoder.stage_1.2.bn1.bias\", \"encoder.stage_1.2.bn1.running_mean\", \"encoder.stage_1.2.bn1.running_var\", \"encoder.stage_1.2.conv2.weight\", \"encoder.stage_1.2.bn2.weight\", \"encoder.stage_1.2.bn2.bias\", \"encoder.stage_1.2.bn2.running_mean\", \"encoder.stage_1.2.bn2.running_var\", \"encoder.stage_2.0.conv1.weight\", \"encoder.stage_2.0.bn1.weight\", \"encoder.stage_2.0.bn1.bias\", \"encoder.stage_2.0.bn1.running_mean\", \"encoder.stage_2.0.bn1.running_var\", \"encoder.stage_2.0.conv2.weight\", \"encoder.stage_2.0.bn2.weight\", \"encoder.stage_2.0.bn2.bias\", \"encoder.stage_2.0.bn2.running_mean\", \"encoder.stage_2.0.bn2.running_var\", \"encoder.stage_2.0.downsample.0.weight\", \"encoder.stage_2.0.downsample.1.weight\", \"encoder.stage_2.0.downsample.1.bias\", \"encoder.stage_2.0.downsample.1.running_mean\", \"encoder.stage_2.0.downsample.1.running_var\", \"encoder.stage_2.1.conv1.weight\", \"encoder.stage_2.1.bn1.weight\", \"encoder.stage_2.1.bn1.bias\", \"encoder.stage_2.1.bn1.running_mean\", \"encoder.stage_2.1.bn1.running_var\", \"encoder.stage_2.1.conv2.weight\", \"encoder.stage_2.1.bn2.weight\", \"encoder.stage_2.1.bn2.bias\", \"encoder.stage_2.1.bn2.running_mean\", \"encoder.stage_2.1.bn2.running_var\", \"encoder.stage_2.2.conv1.weight\", \"encoder.stage_2.2.bn1.weight\", \"encoder.stage_2.2.bn1.bias\", \"encoder.stage_2.2.bn1.running_mean\", \"encoder.stage_2.2.bn1.running_var\", \"encoder.stage_2.2.conv2.weight\", \"encoder.stage_2.2.bn2.weight\", \"encoder.stage_2.2.bn2.bias\", \"encoder.stage_2.2.bn2.running_mean\", \"encoder.stage_2.2.bn2.running_var\", \"encoder.stage_3.0.conv1.weight\", \"encoder.stage_3.0.bn1.weight\", \"encoder.stage_3.0.bn1.bias\", \"encoder.stage_3.0.bn1.running_mean\", \"encoder.stage_3.0.bn1.running_var\", \"encoder.stage_3.0.conv2.weight\", \"encoder.stage_3.0.bn2.weight\", \"encoder.stage_3.0.bn2.bias\", \"encoder.stage_3.0.bn2.running_mean\", \"encoder.stage_3.0.bn2.running_var\", \"encoder.stage_3.0.downsample.0.weight\", \"encoder.stage_3.0.downsample.1.weight\", \"encoder.stage_3.0.downsample.1.bias\", \"encoder.stage_3.0.downsample.1.running_mean\", \"encoder.stage_3.0.downsample.1.running_var\", \"encoder.stage_3.1.conv1.weight\", \"encoder.stage_3.1.bn1.weight\", \"encoder.stage_3.1.bn1.bias\", \"encoder.stage_3.1.bn1.running_mean\", \"encoder.stage_3.1.bn1.running_var\", \"encoder.stage_3.1.conv2.weight\", \"encoder.stage_3.1.bn2.weight\", \"encoder.stage_3.1.bn2.bias\", \"encoder.stage_3.1.bn2.running_mean\", \"encoder.stage_3.1.bn2.running_var\", \"encoder.stage_3.2.conv1.weight\", \"encoder.stage_3.2.bn1.weight\", \"encoder.stage_3.2.bn1.bias\", \"encoder.stage_3.2.bn1.running_mean\", \"encoder.stage_3.2.bn1.running_var\", \"encoder.stage_3.2.conv2.weight\", \"encoder.stage_3.2.bn2.weight\", \"encoder.stage_3.2.bn2.bias\", \"encoder.stage_3.2.bn2.running_mean\", \"encoder.stage_3.2.bn2.running_var\", \"mid_block.conv1.weight\", \"mid_block.bn1.weight\", \"mid_block.bn1.bias\", \"mid_block.bn1.running_mean\", \"mid_block.bn1.running_var\", \"mid_block.conv2.weight\", \"mid_block.bn2.weight\", \"mid_block.bn2.bias\", \"mid_block.bn2.running_mean\", \"mid_block.bn2.running_var\", \"decoder.stage_3.0.conv.0.weight\", \"decoder.stage_3.0.conv.1.weight\", \"decoder.stage_3.0.conv.1.bias\", \"decoder.stage_3.0.conv.1.running_mean\", \"decoder.stage_3.0.conv.1.running_var\", \"decoder.stage_3.2.0.conv1.weight\", \"decoder.stage_3.2.0.bn1.weight\", \"decoder.stage_3.2.0.bn1.bias\", \"decoder.stage_3.2.0.bn1.running_mean\", \"decoder.stage_3.2.0.bn1.running_var\", \"decoder.stage_3.2.0.conv2.weight\", \"decoder.stage_3.2.0.bn2.weight\", \"decoder.stage_3.2.0.bn2.bias\", \"decoder.stage_3.2.0.bn2.running_mean\", \"decoder.stage_3.2.0.bn2.running_var\", \"decoder.stage_3.2.0.downsample.0.weight\", \"decoder.stage_3.2.0.downsample.1.weight\", \"decoder.stage_3.2.0.downsample.1.bias\", \"decoder.stage_3.2.0.downsample.1.running_mean\", \"decoder.stage_3.2.0.downsample.1.running_var\", \"decoder.stage_3.2.1.conv1.weight\", \"decoder.stage_3.2.1.bn1.weight\", \"decoder.stage_3.2.1.bn1.bias\", \"decoder.stage_3.2.1.bn1.running_mean\", \"decoder.stage_3.2.1.bn1.running_var\", \"decoder.stage_3.2.1.conv2.weight\", \"decoder.stage_3.2.1.bn2.weight\", \"decoder.stage_3.2.1.bn2.bias\", \"decoder.stage_3.2.1.bn2.running_mean\", \"decoder.stage_3.2.1.bn2.running_var\", \"decoder.stage_3.2.2.conv1.weight\", \"decoder.stage_3.2.2.bn1.weight\", \"decoder.stage_3.2.2.bn1.bias\", \"decoder.stage_3.2.2.bn1.running_mean\", \"decoder.stage_3.2.2.bn1.running_var\", \"decoder.stage_3.2.2.conv2.weight\", \"decoder.stage_3.2.2.bn2.weight\", \"decoder.stage_3.2.2.bn2.bias\", \"decoder.stage_3.2.2.bn2.running_mean\", \"decoder.stage_3.2.2.bn2.running_var\", \"decoder.stage_2.0.conv.0.weight\", \"decoder.stage_2.0.conv.1.weight\", \"decoder.stage_2.0.conv.1.bias\", \"decoder.stage_2.0.conv.1.running_mean\", \"decoder.stage_2.0.conv.1.running_var\", \"decoder.stage_2.2.0.conv1.weight\", \"decoder.stage_2.2.0.bn1.weight\", \"decoder.stage_2.2.0.bn1.bias\", \"decoder.stage_2.2.0.bn1.running_mean\", \"decoder.stage_2.2.0.bn1.running_var\", \"decoder.stage_2.2.0.conv2.weight\", \"decoder.stage_2.2.0.bn2.weight\", \"decoder.stage_2.2.0.bn2.bias\", \"decoder.stage_2.2.0.bn2.running_mean\", \"decoder.stage_2.2.0.bn2.running_var\", \"decoder.stage_2.2.0.downsample.0.weight\", \"decoder.stage_2.2.0.downsample.1.weight\", \"decoder.stage_2.2.0.downsample.1.bias\", \"decoder.stage_2.2.0.downsample.1.running_mean\", \"decoder.stage_2.2.0.downsample.1.running_var\", \"decoder.stage_2.2.1.conv1.weight\", \"decoder.stage_2.2.1.bn1.weight\", \"decoder.stage_2.2.1.bn1.bias\", \"decoder.stage_2.2.1.bn1.running_mean\", \"decoder.stage_2.2.1.bn1.running_var\", \"decoder.stage_2.2.1.conv2.weight\", \"decoder.stage_2.2.1.bn2.weight\", \"decoder.stage_2.2.1.bn2.bias\", \"decoder.stage_2.2.1.bn2.running_mean\", \"decoder.stage_2.2.1.bn2.running_var\", \"decoder.stage_2.2.2.conv1.weight\", \"decoder.stage_2.2.2.bn1.weight\", \"decoder.stage_2.2.2.bn1.bias\", \"decoder.stage_2.2.2.bn1.running_mean\", \"decoder.stage_2.2.2.bn1.running_var\", \"decoder.stage_2.2.2.conv2.weight\", \"decoder.stage_2.2.2.bn2.weight\", \"decoder.stage_2.2.2.bn2.bias\", \"decoder.stage_2.2.2.bn2.running_mean\", \"decoder.stage_2.2.2.bn2.running_var\", \"decoder.stage_1.0.conv.0.weight\", \"decoder.stage_1.0.conv.1.weight\", \"decoder.stage_1.0.conv.1.bias\", \"decoder.stage_1.0.conv.1.running_mean\", \"decoder.stage_1.0.conv.1.running_var\", \"decoder.stage_1.2.0.conv1.weight\", \"decoder.stage_1.2.0.bn1.weight\", \"decoder.stage_1.2.0.bn1.bias\", \"decoder.stage_1.2.0.bn1.running_mean\", \"decoder.stage_1.2.0.bn1.running_var\", \"decoder.stage_1.2.0.conv2.weight\", \"decoder.stage_1.2.0.bn2.weight\", \"decoder.stage_1.2.0.bn2.bias\", \"decoder.stage_1.2.0.bn2.running_mean\", \"decoder.stage_1.2.0.bn2.running_var\", \"decoder.stage_1.2.0.downsample.0.weight\", \"decoder.stage_1.2.0.downsample.1.weight\", \"decoder.stage_1.2.0.downsample.1.bias\", \"decoder.stage_1.2.0.downsample.1.running_mean\", \"decoder.stage_1.2.0.downsample.1.running_var\", \"decoder.stage_1.2.1.conv1.weight\", \"decoder.stage_1.2.1.bn1.weight\", \"decoder.stage_1.2.1.bn1.bias\", \"decoder.stage_1.2.1.bn1.running_mean\", \"decoder.stage_1.2.1.bn1.running_var\", \"decoder.stage_1.2.1.conv2.weight\", \"decoder.stage_1.2.1.bn2.weight\", \"decoder.stage_1.2.1.bn2.bias\", \"decoder.stage_1.2.1.bn2.running_mean\", \"decoder.stage_1.2.1.bn2.running_var\", \"decoder.stage_1.2.2.conv1.weight\", \"decoder.stage_1.2.2.bn1.weight\", \"decoder.stage_1.2.2.bn1.bias\", \"decoder.stage_1.2.2.bn1.running_mean\", \"decoder.stage_1.2.2.bn1.running_var\", \"decoder.stage_1.2.2.conv2.weight\", \"decoder.stage_1.2.2.bn2.weight\", \"decoder.stage_1.2.2.bn2.bias\", \"decoder.stage_1.2.2.bn2.running_mean\", \"decoder.stage_1.2.2.bn2.running_var\", \"decoder.stage_0.2.0.conv1.weight\", \"decoder.stage_0.2.0.bn1.weight\", \"decoder.stage_0.2.0.bn1.bias\", \"decoder.stage_0.2.0.bn1.running_mean\", \"decoder.stage_0.2.0.bn1.running_var\", \"decoder.stage_0.2.0.conv2.weight\", \"decoder.stage_0.2.0.bn2.weight\", \"decoder.stage_0.2.0.bn2.bias\", \"decoder.stage_0.2.0.bn2.running_mean\", \"decoder.stage_0.2.0.bn2.running_var\", \"decoder.stage_0.2.0.downsample.0.weight\", \"decoder.stage_0.2.0.downsample.1.weight\", \"decoder.stage_0.2.0.downsample.1.bias\", \"decoder.stage_0.2.0.downsample.1.running_mean\", \"decoder.stage_0.2.0.downsample.1.running_var\", \"decoder.stage_0.2.1.conv1.weight\", \"decoder.stage_0.2.1.bn1.weight\", \"decoder.stage_0.2.1.bn1.bias\", \"decoder.stage_0.2.1.bn1.running_mean\", \"decoder.stage_0.2.1.bn1.running_var\", \"decoder.stage_0.2.1.conv2.weight\", \"decoder.stage_0.2.1.bn2.weight\", \"decoder.stage_0.2.1.bn2.bias\", \"decoder.stage_0.2.1.bn2.running_mean\", \"decoder.stage_0.2.1.bn2.running_var\", \"decoder.stage_0.2.2.conv1.weight\", \"decoder.stage_0.2.2.bn1.weight\", \"decoder.stage_0.2.2.bn1.bias\", \"decoder.stage_0.2.2.bn1.running_mean\", \"decoder.stage_0.2.2.bn1.running_var\", \"decoder.stage_0.2.2.conv2.weight\", \"decoder.stage_0.2.2.bn2.weight\", \"decoder.stage_0.2.2.bn2.bias\", \"decoder.stage_0.2.2.bn2.running_mean\", \"decoder.stage_0.2.2.bn2.running_var\", \"conv_output.weight\". \n\tUnexpected key(s) in state_dict: \"loss_func.weight\", \"model.encoder.conv1.weight\", \"model.encoder.bn1.weight\", \"model.encoder.bn1.bias\", \"model.encoder.bn1.running_mean\", \"model.encoder.bn1.running_var\", \"model.encoder.bn1.num_batches_tracked\", \"model.encoder.layer1.0.conv1.weight\", \"model.encoder.layer1.0.bn1.weight\", \"model.encoder.layer1.0.bn1.bias\", \"model.encoder.layer1.0.bn1.running_mean\", \"model.encoder.layer1.0.bn1.running_var\", \"model.encoder.layer1.0.bn1.num_batches_tracked\", \"model.encoder.layer1.0.conv2.weight\", \"model.encoder.layer1.0.bn2.weight\", \"model.encoder.layer1.0.bn2.bias\", \"model.encoder.layer1.0.bn2.running_mean\", \"model.encoder.layer1.0.bn2.running_var\", \"model.encoder.layer1.0.bn2.num_batches_tracked\", \"model.encoder.layer1.0.conv3.weight\", \"model.encoder.layer1.0.bn3.weight\", \"model.encoder.layer1.0.bn3.bias\", \"model.encoder.layer1.0.bn3.running_mean\", \"model.encoder.layer1.0.bn3.running_var\", \"model.encoder.layer1.0.bn3.num_batches_tracked\", \"model.encoder.layer1.0.downsample.0.weight\", \"model.encoder.layer1.0.downsample.1.weight\", \"model.encoder.layer1.0.downsample.1.bias\", \"model.encoder.layer1.0.downsample.1.running_mean\", \"model.encoder.layer1.0.downsample.1.running_var\", \"model.encoder.layer1.0.downsample.1.num_batches_tracked\", \"model.encoder.layer1.1.conv1.weight\", \"model.encoder.layer1.1.bn1.weight\", \"model.encoder.layer1.1.bn1.bias\", \"model.encoder.layer1.1.bn1.running_mean\", \"model.encoder.layer1.1.bn1.running_var\", \"model.encoder.layer1.1.bn1.num_batches_tracked\", \"model.encoder.layer1.1.conv2.weight\", \"model.encoder.layer1.1.bn2.weight\", \"model.encoder.layer1.1.bn2.bias\", \"model.encoder.layer1.1.bn2.running_mean\", \"model.encoder.layer1.1.bn2.running_var\", \"model.encoder.layer1.1.bn2.num_batches_tracked\", \"model.encoder.layer1.1.conv3.weight\", \"model.encoder.layer1.1.bn3.weight\", \"model.encoder.layer1.1.bn3.bias\", \"model.encoder.layer1.1.bn3.running_mean\", \"model.encoder.layer1.1.bn3.running_var\", \"model.encoder.layer1.1.bn3.num_batches_tracked\", \"model.encoder.layer1.2.conv1.weight\", \"model.encoder.layer1.2.bn1.weight\", \"model.encoder.layer1.2.bn1.bias\", \"model.encoder.layer1.2.bn1.running_mean\", \"model.encoder.layer1.2.bn1.running_var\", \"model.encoder.layer1.2.bn1.num_batches_tracked\", \"model.encoder.layer1.2.conv2.weight\", \"model.encoder.layer1.2.bn2.weight\", \"model.encoder.layer1.2.bn2.bias\", \"model.encoder.layer1.2.bn2.running_mean\", \"model.encoder.layer1.2.bn2.running_var\", \"model.encoder.layer1.2.bn2.num_batches_tracked\", \"model.encoder.layer1.2.conv3.weight\", \"model.encoder.layer1.2.bn3.weight\", \"model.encoder.layer1.2.bn3.bias\", \"model.encoder.layer1.2.bn3.running_mean\", \"model.encoder.layer1.2.bn3.running_var\", \"model.encoder.layer1.2.bn3.num_batches_tracked\", \"model.encoder.layer2.0.conv1.weight\", \"model.encoder.layer2.0.bn1.weight\", \"model.encoder.layer2.0.bn1.bias\", \"model.encoder.layer2.0.bn1.running_mean\", \"model.encoder.layer2.0.bn1.running_var\", \"model.encoder.layer2.0.bn1.num_batches_tracked\", \"model.encoder.layer2.0.conv2.weight\", \"model.encoder.layer2.0.bn2.weight\", \"model.encoder.layer2.0.bn2.bias\", \"model.encoder.layer2.0.bn2.running_mean\", \"model.encoder.layer2.0.bn2.running_var\", \"model.encoder.layer2.0.bn2.num_batches_tracked\", \"model.encoder.layer2.0.conv3.weight\", \"model.encoder.layer2.0.bn3.weight\", \"model.encoder.layer2.0.bn3.bias\", \"model.encoder.layer2.0.bn3.running_mean\", \"model.encoder.layer2.0.bn3.running_var\", \"model.encoder.layer2.0.bn3.num_batches_tracked\", \"model.encoder.layer2.0.downsample.0.weight\", \"model.encoder.layer2.0.downsample.1.weight\", \"model.encoder.layer2.0.downsample.1.bias\", \"model.encoder.layer2.0.downsample.1.running_mean\", \"model.encoder.layer2.0.downsample.1.running_var\", \"model.encoder.layer2.0.downsample.1.num_batches_tracked\", \"model.encoder.layer2.1.conv1.weight\", \"model.encoder.layer2.1.bn1.weight\", \"model.encoder.layer2.1.bn1.bias\", \"model.encoder.layer2.1.bn1.running_mean\", \"model.encoder.layer2.1.bn1.running_var\", \"model.encoder.layer2.1.bn1.num_batches_tracked\", \"model.encoder.layer2.1.conv2.weight\", \"model.encoder.layer2.1.bn2.weight\", \"model.encoder.layer2.1.bn2.bias\", \"model.encoder.layer2.1.bn2.running_mean\", \"model.encoder.layer2.1.bn2.running_var\", \"model.encoder.layer2.1.bn2.num_batches_tracked\", \"model.encoder.layer2.1.conv3.weight\", \"model.encoder.layer2.1.bn3.weight\", \"model.encoder.layer2.1.bn3.bias\", \"model.encoder.layer2.1.bn3.running_mean\", \"model.encoder.layer2.1.bn3.running_var\", \"model.encoder.layer2.1.bn3.num_batches_tracked\", \"model.encoder.layer2.2.conv1.weight\", \"model.encoder.layer2.2.bn1.weight\", \"model.encoder.layer2.2.bn1.bias\", \"model.encoder.layer2.2.bn1.running_mean\", \"model.encoder.layer2.2.bn1.running_var\", \"model.encoder.layer2.2.bn1.num_batches_tracked\", \"model.encoder.layer2.2.conv2.weight\", \"model.encoder.layer2.2.bn2.weight\", \"model.encoder.layer2.2.bn2.bias\", \"model.encoder.layer2.2.bn2.running_mean\", \"model.encoder.layer2.2.bn2.running_var\", \"model.encoder.layer2.2.bn2.num_batches_tracked\", \"model.encoder.layer2.2.conv3.weight\", \"model.encoder.layer2.2.bn3.weight\", \"model.encoder.layer2.2.bn3.bias\", \"model.encoder.layer2.2.bn3.running_mean\", \"model.encoder.layer2.2.bn3.running_var\", \"model.encoder.layer2.2.bn3.num_batches_tracked\", \"model.encoder.layer2.3.conv1.weight\", \"model.encoder.layer2.3.bn1.weight\", \"model.encoder.layer2.3.bn1.bias\", \"model.encoder.layer2.3.bn1.running_mean\", \"model.encoder.layer2.3.bn1.running_var\", \"model.encoder.layer2.3.bn1.num_batches_tracked\", \"model.encoder.layer2.3.conv2.weight\", \"model.encoder.layer2.3.bn2.weight\", \"model.encoder.layer2.3.bn2.bias\", \"model.encoder.layer2.3.bn2.running_mean\", \"model.encoder.layer2.3.bn2.running_var\", \"model.encoder.layer2.3.bn2.num_batches_tracked\", \"model.encoder.layer2.3.conv3.weight\", \"model.encoder.layer2.3.bn3.weight\", \"model.encoder.layer2.3.bn3.bias\", \"model.encoder.layer2.3.bn3.running_mean\", \"model.encoder.layer2.3.bn3.running_var\", \"model.encoder.layer2.3.bn3.num_batches_tracked\", \"model.encoder.layer3.0.conv1.weight\", \"model.encoder.layer3.0.bn1.weight\", \"model.encoder.layer3.0.bn1.bias\", \"model.encoder.layer3.0.bn1.running_mean\", \"model.encoder.layer3.0.bn1.running_var\", \"model.encoder.layer3.0.bn1.num_batches_tracked\", \"model.encoder.layer3.0.conv2.weight\", \"model.encoder.layer3.0.bn2.weight\", \"model.encoder.layer3.0.bn2.bias\", \"model.encoder.layer3.0.bn2.running_mean\", \"model.encoder.layer3.0.bn2.running_var\", \"model.encoder.layer3.0.bn2.num_batches_tracked\", \"model.encoder.layer3.0.conv3.weight\", \"model.encoder.layer3.0.bn3.weight\", \"model.encoder.layer3.0.bn3.bias\", \"model.encoder.layer3.0.bn3.running_mean\", \"model.encoder.layer3.0.bn3.running_var\", \"model.encoder.layer3.0.bn3.num_batches_tracked\", \"model.encoder.layer3.0.downsample.0.weight\", \"model.encoder.layer3.0.downsample.1.weight\", \"model.encoder.layer3.0.downsample.1.bias\", \"model.encoder.layer3.0.downsample.1.running_mean\", \"model.encoder.layer3.0.downsample.1.running_var\", \"model.encoder.layer3.0.downsample.1.num_batches_tracked\", \"model.encoder.layer3.1.conv1.weight\", \"model.encoder.layer3.1.bn1.weight\", \"model.encoder.layer3.1.bn1.bias\", \"model.encoder.layer3.1.bn1.running_mean\", \"model.encoder.layer3.1.bn1.running_var\", \"model.encoder.layer3.1.bn1.num_batches_tracked\", \"model.encoder.layer3.1.conv2.weight\", \"model.encoder.layer3.1.bn2.weight\", \"model.encoder.layer3.1.bn2.bias\", \"model.encoder.layer3.1.bn2.running_mean\", \"model.encoder.layer3.1.bn2.running_var\", \"model.encoder.layer3.1.bn2.num_batches_tracked\", \"model.encoder.layer3.1.conv3.weight\", \"model.encoder.layer3.1.bn3.weight\", \"model.encoder.layer3.1.bn3.bias\", \"model.encoder.layer3.1.bn3.running_mean\", \"model.encoder.layer3.1.bn3.running_var\", \"model.encoder.layer3.1.bn3.num_batches_tracked\", \"model.encoder.layer3.2.conv1.weight\", \"model.encoder.layer3.2.bn1.weight\", \"model.encoder.layer3.2.bn1.bias\", \"model.encoder.layer3.2.bn1.running_mean\", \"model.encoder.layer3.2.bn1.running_var\", \"model.encoder.layer3.2.bn1.num_batches_tracked\", \"model.encoder.layer3.2.conv2.weight\", \"model.encoder.layer3.2.bn2.weight\", \"model.encoder.layer3.2.bn2.bias\", \"model.encoder.layer3.2.bn2.running_mean\", \"model.encoder.layer3.2.bn2.running_var\", \"model.encoder.layer3.2.bn2.num_batches_tracked\", \"model.encoder.layer3.2.conv3.weight\", \"model.encoder.layer3.2.bn3.weight\", \"model.encoder.layer3.2.bn3.bias\", \"model.encoder.layer3.2.bn3.running_mean\", \"model.encoder.layer3.2.bn3.running_var\", \"model.encoder.layer3.2.bn3.num_batches_tracked\", \"model.encoder.layer3.3.conv1.weight\", \"model.encoder.layer3.3.bn1.weight\", \"model.encoder.layer3.3.bn1.bias\", \"model.encoder.layer3.3.bn1.running_mean\", \"model.encoder.layer3.3.bn1.running_var\", \"model.encoder.layer3.3.bn1.num_batches_tracked\", \"model.encoder.layer3.3.conv2.weight\", \"model.encoder.layer3.3.bn2.weight\", \"model.encoder.layer3.3.bn2.bias\", \"model.encoder.layer3.3.bn2.running_mean\", \"model.encoder.layer3.3.bn2.running_var\", \"model.encoder.layer3.3.bn2.num_batches_tracked\", \"model.encoder.layer3.3.conv3.weight\", \"model.encoder.layer3.3.bn3.weight\", \"model.encoder.layer3.3.bn3.bias\", \"model.encoder.layer3.3.bn3.running_mean\", \"model.encoder.layer3.3.bn3.running_var\", \"model.encoder.layer3.3.bn3.num_batches_tracked\", \"model.encoder.layer3.4.conv1.weight\", \"model.encoder.layer3.4.bn1.weight\", \"model.encoder.layer3.4.bn1.bias\", \"model.encoder.layer3.4.bn1.running_mean\", \"model.encoder.layer3.4.bn1.running_var\", \"model.encoder.layer3.4.bn1.num_batches_tracked\", \"model.encoder.layer3.4.conv2.weight\", \"model.encoder.layer3.4.bn2.weight\", \"model.encoder.layer3.4.bn2.bias\", \"model.encoder.layer3.4.bn2.running_mean\", \"model.encoder.layer3.4.bn2.running_var\", \"model.encoder.layer3.4.bn2.num_batches_tracked\", \"model.encoder.layer3.4.conv3.weight\", \"model.encoder.layer3.4.bn3.weight\", \"model.encoder.layer3.4.bn3.bias\", \"model.encoder.layer3.4.bn3.running_mean\", \"model.encoder.layer3.4.bn3.running_var\", \"model.encoder.layer3.4.bn3.num_batches_tracked\", \"model.encoder.layer3.5.conv1.weight\", \"model.encoder.layer3.5.bn1.weight\", \"model.encoder.layer3.5.bn1.bias\", \"model.encoder.layer3.5.bn1.running_mean\", \"model.encoder.layer3.5.bn1.running_var\", \"model.encoder.layer3.5.bn1.num_batches_tracked\", \"model.encoder.layer3.5.conv2.weight\", \"model.encoder.layer3.5.bn2.weight\", \"model.encoder.layer3.5.bn2.bias\", \"model.encoder.layer3.5.bn2.running_mean\", \"model.encoder.layer3.5.bn2.running_var\", \"model.encoder.layer3.5.bn2.num_batches_tracked\", \"model.encoder.layer3.5.conv3.weight\", \"model.encoder.layer3.5.bn3.weight\", \"model.encoder.layer3.5.bn3.bias\", \"model.encoder.layer3.5.bn3.running_mean\", \"model.encoder.layer3.5.bn3.running_var\", \"model.encoder.layer3.5.bn3.num_batches_tracked\", \"model.encoder.layer4.0.conv1.weight\", \"model.encoder.layer4.0.bn1.weight\", \"model.encoder.layer4.0.bn1.bias\", \"model.encoder.layer4.0.bn1.running_mean\", \"model.encoder.layer4.0.bn1.running_var\", \"model.encoder.layer4.0.bn1.num_batches_tracked\", \"model.encoder.layer4.0.conv2.weight\", \"model.encoder.layer4.0.bn2.weight\", \"model.encoder.layer4.0.bn2.bias\", \"model.encoder.layer4.0.bn2.running_mean\", \"model.encoder.layer4.0.bn2.running_var\", \"model.encoder.layer4.0.bn2.num_batches_tracked\", \"model.encoder.layer4.0.conv3.weight\", \"model.encoder.layer4.0.bn3.weight\", \"model.encoder.layer4.0.bn3.bias\", \"model.encoder.layer4.0.bn3.running_mean\", \"model.encoder.layer4.0.bn3.running_var\", \"model.encoder.layer4.0.bn3.num_batches_tracked\", \"model.encoder.layer4.0.downsample.0.weight\", \"model.encoder.layer4.0.downsample.1.weight\", \"model.encoder.layer4.0.downsample.1.bias\", \"model.encoder.layer4.0.downsample.1.running_mean\", \"model.encoder.layer4.0.downsample.1.running_var\", \"model.encoder.layer4.0.downsample.1.num_batches_tracked\", \"model.encoder.layer4.1.conv1.weight\", \"model.encoder.layer4.1.bn1.weight\", \"model.encoder.layer4.1.bn1.bias\", \"model.encoder.layer4.1.bn1.running_mean\", \"model.encoder.layer4.1.bn1.running_var\", \"model.encoder.layer4.1.bn1.num_batches_tracked\", \"model.encoder.layer4.1.conv2.weight\", \"model.encoder.layer4.1.bn2.weight\", \"model.encoder.layer4.1.bn2.bias\", \"model.encoder.layer4.1.bn2.running_mean\", \"model.encoder.layer4.1.bn2.running_var\", \"model.encoder.layer4.1.bn2.num_batches_tracked\", \"model.encoder.layer4.1.conv3.weight\", \"model.encoder.layer4.1.bn3.weight\", \"model.encoder.layer4.1.bn3.bias\", \"model.encoder.layer4.1.bn3.running_mean\", \"model.encoder.layer4.1.bn3.running_var\", \"model.encoder.layer4.1.bn3.num_batches_tracked\", \"model.encoder.layer4.2.conv1.weight\", \"model.encoder.layer4.2.bn1.weight\", \"model.encoder.layer4.2.bn1.bias\", \"model.encoder.layer4.2.bn1.running_mean\", \"model.encoder.layer4.2.bn1.running_var\", \"model.encoder.layer4.2.bn1.num_batches_tracked\", \"model.encoder.layer4.2.conv2.weight\", \"model.encoder.layer4.2.bn2.weight\", \"model.encoder.layer4.2.bn2.bias\", \"model.encoder.layer4.2.bn2.running_mean\", \"model.encoder.layer4.2.bn2.running_var\", \"model.encoder.layer4.2.bn2.num_batches_tracked\", \"model.encoder.layer4.2.conv3.weight\", \"model.encoder.layer4.2.bn3.weight\", \"model.encoder.layer4.2.bn3.bias\", \"model.encoder.layer4.2.bn3.running_mean\", \"model.encoder.layer4.2.bn3.running_var\", \"model.encoder.layer4.2.bn3.num_batches_tracked\", \"model.decoder.p5.weight\", \"model.decoder.p5.bias\", \"model.decoder.p4.skip_conv.weight\", \"model.decoder.p4.skip_conv.bias\", \"model.decoder.p3.skip_conv.weight\", \"model.decoder.p3.skip_conv.bias\", \"model.decoder.p2.skip_conv.weight\", \"model.decoder.p2.skip_conv.bias\", \"model.decoder.seg_blocks.0.block.0.block.0.weight\", \"model.decoder.seg_blocks.0.block.0.block.1.weight\", \"model.decoder.seg_blocks.0.block.0.block.1.bias\", \"model.decoder.seg_blocks.0.block.1.block.0.weight\", \"model.decoder.seg_blocks.0.block.1.block.1.weight\", \"model.decoder.seg_blocks.0.block.1.block.1.bias\", \"model.decoder.seg_blocks.0.block.2.block.0.weight\", \"model.decoder.seg_blocks.0.block.2.block.1.weight\", \"model.decoder.seg_blocks.0.block.2.block.1.bias\", \"model.decoder.seg_blocks.1.block.0.block.0.weight\", \"model.decoder.seg_blocks.1.block.0.block.1.weight\", \"model.decoder.seg_blocks.1.block.0.block.1.bias\", \"model.decoder.seg_blocks.1.block.1.block.0.weight\", \"model.decoder.seg_blocks.1.block.1.block.1.weight\", \"model.decoder.seg_blocks.1.block.1.block.1.bias\", \"model.decoder.seg_blocks.2.block.0.block.0.weight\", \"model.decoder.seg_blocks.2.block.0.block.1.weight\", \"model.decoder.seg_blocks.2.block.0.block.1.bias\", \"model.decoder.seg_blocks.3.block.0.block.0.weight\", \"model.decoder.seg_blocks.3.block.0.block.1.weight\", \"model.decoder.seg_blocks.3.block.0.block.1.bias\", \"model.segmentation_head.0.weight\", \"model.segmentation_head.0.bias\". "
     ]
    }
   ],
   "source": [
    "checkpoint = torch.load('./logs/resunet_fpn_e_50_lr_0.01_bs_2/checkpoints/best_val_loss-epoch=30-val_loss=0.19.ckpt')\n",
    "state_dict =checkpoint['state_dict']\n",
    "\n",
    "model3 = resunet.ResUNet((3, 3, 3, 3), (16,32,64,128),  in_channels=3)\n",
    "model3.load_state_dict(state_dict)\n",
    "\n"
   ]
  },
  {
   "cell_type": "code",
   "execution_count": 14,
   "id": "81cf76d0",
   "metadata": {},
   "outputs": [
    {
     "ename": "RuntimeError",
     "evalue": "Error(s) in loading state_dict for ResUNet:\n\tMissing key(s) in state_dict: \"conv1.weight\", \"bn1.weight\", \"bn1.bias\", \"bn1.running_mean\", \"bn1.running_var\", \"encoder.stage_0.0.conv1.weight\", \"encoder.stage_0.0.bn1.weight\", \"encoder.stage_0.0.bn1.bias\", \"encoder.stage_0.0.bn1.running_mean\", \"encoder.stage_0.0.bn1.running_var\", \"encoder.stage_0.0.conv2.weight\", \"encoder.stage_0.0.bn2.weight\", \"encoder.stage_0.0.bn2.bias\", \"encoder.stage_0.0.bn2.running_mean\", \"encoder.stage_0.0.bn2.running_var\", \"encoder.stage_0.0.downsample.0.weight\", \"encoder.stage_0.0.downsample.1.weight\", \"encoder.stage_0.0.downsample.1.bias\", \"encoder.stage_0.0.downsample.1.running_mean\", \"encoder.stage_0.0.downsample.1.running_var\", \"encoder.stage_0.1.conv1.weight\", \"encoder.stage_0.1.bn1.weight\", \"encoder.stage_0.1.bn1.bias\", \"encoder.stage_0.1.bn1.running_mean\", \"encoder.stage_0.1.bn1.running_var\", \"encoder.stage_0.1.conv2.weight\", \"encoder.stage_0.1.bn2.weight\", \"encoder.stage_0.1.bn2.bias\", \"encoder.stage_0.1.bn2.running_mean\", \"encoder.stage_0.1.bn2.running_var\", \"encoder.stage_0.2.conv1.weight\", \"encoder.stage_0.2.bn1.weight\", \"encoder.stage_0.2.bn1.bias\", \"encoder.stage_0.2.bn1.running_mean\", \"encoder.stage_0.2.bn1.running_var\", \"encoder.stage_0.2.conv2.weight\", \"encoder.stage_0.2.bn2.weight\", \"encoder.stage_0.2.bn2.bias\", \"encoder.stage_0.2.bn2.running_mean\", \"encoder.stage_0.2.bn2.running_var\", \"encoder.stage_1.0.conv1.weight\", \"encoder.stage_1.0.bn1.weight\", \"encoder.stage_1.0.bn1.bias\", \"encoder.stage_1.0.bn1.running_mean\", \"encoder.stage_1.0.bn1.running_var\", \"encoder.stage_1.0.conv2.weight\", \"encoder.stage_1.0.bn2.weight\", \"encoder.stage_1.0.bn2.bias\", \"encoder.stage_1.0.bn2.running_mean\", \"encoder.stage_1.0.bn2.running_var\", \"encoder.stage_1.0.downsample.0.weight\", \"encoder.stage_1.0.downsample.1.weight\", \"encoder.stage_1.0.downsample.1.bias\", \"encoder.stage_1.0.downsample.1.running_mean\", \"encoder.stage_1.0.downsample.1.running_var\", \"encoder.stage_1.1.conv1.weight\", \"encoder.stage_1.1.bn1.weight\", \"encoder.stage_1.1.bn1.bias\", \"encoder.stage_1.1.bn1.running_mean\", \"encoder.stage_1.1.bn1.running_var\", \"encoder.stage_1.1.conv2.weight\", \"encoder.stage_1.1.bn2.weight\", \"encoder.stage_1.1.bn2.bias\", \"encoder.stage_1.1.bn2.running_mean\", \"encoder.stage_1.1.bn2.running_var\", \"encoder.stage_1.2.conv1.weight\", \"encoder.stage_1.2.bn1.weight\", \"encoder.stage_1.2.bn1.bias\", \"encoder.stage_1.2.bn1.running_mean\", \"encoder.stage_1.2.bn1.running_var\", \"encoder.stage_1.2.conv2.weight\", \"encoder.stage_1.2.bn2.weight\", \"encoder.stage_1.2.bn2.bias\", \"encoder.stage_1.2.bn2.running_mean\", \"encoder.stage_1.2.bn2.running_var\", \"encoder.stage_2.0.conv1.weight\", \"encoder.stage_2.0.bn1.weight\", \"encoder.stage_2.0.bn1.bias\", \"encoder.stage_2.0.bn1.running_mean\", \"encoder.stage_2.0.bn1.running_var\", \"encoder.stage_2.0.conv2.weight\", \"encoder.stage_2.0.bn2.weight\", \"encoder.stage_2.0.bn2.bias\", \"encoder.stage_2.0.bn2.running_mean\", \"encoder.stage_2.0.bn2.running_var\", \"encoder.stage_2.0.downsample.0.weight\", \"encoder.stage_2.0.downsample.1.weight\", \"encoder.stage_2.0.downsample.1.bias\", \"encoder.stage_2.0.downsample.1.running_mean\", \"encoder.stage_2.0.downsample.1.running_var\", \"encoder.stage_2.1.conv1.weight\", \"encoder.stage_2.1.bn1.weight\", \"encoder.stage_2.1.bn1.bias\", \"encoder.stage_2.1.bn1.running_mean\", \"encoder.stage_2.1.bn1.running_var\", \"encoder.stage_2.1.conv2.weight\", \"encoder.stage_2.1.bn2.weight\", \"encoder.stage_2.1.bn2.bias\", \"encoder.stage_2.1.bn2.running_mean\", \"encoder.stage_2.1.bn2.running_var\", \"encoder.stage_2.2.conv1.weight\", \"encoder.stage_2.2.bn1.weight\", \"encoder.stage_2.2.bn1.bias\", \"encoder.stage_2.2.bn1.running_mean\", \"encoder.stage_2.2.bn1.running_var\", \"encoder.stage_2.2.conv2.weight\", \"encoder.stage_2.2.bn2.weight\", \"encoder.stage_2.2.bn2.bias\", \"encoder.stage_2.2.bn2.running_mean\", \"encoder.stage_2.2.bn2.running_var\", \"encoder.stage_3.0.conv1.weight\", \"encoder.stage_3.0.bn1.weight\", \"encoder.stage_3.0.bn1.bias\", \"encoder.stage_3.0.bn1.running_mean\", \"encoder.stage_3.0.bn1.running_var\", \"encoder.stage_3.0.conv2.weight\", \"encoder.stage_3.0.bn2.weight\", \"encoder.stage_3.0.bn2.bias\", \"encoder.stage_3.0.bn2.running_mean\", \"encoder.stage_3.0.bn2.running_var\", \"encoder.stage_3.0.downsample.0.weight\", \"encoder.stage_3.0.downsample.1.weight\", \"encoder.stage_3.0.downsample.1.bias\", \"encoder.stage_3.0.downsample.1.running_mean\", \"encoder.stage_3.0.downsample.1.running_var\", \"encoder.stage_3.1.conv1.weight\", \"encoder.stage_3.1.bn1.weight\", \"encoder.stage_3.1.bn1.bias\", \"encoder.stage_3.1.bn1.running_mean\", \"encoder.stage_3.1.bn1.running_var\", \"encoder.stage_3.1.conv2.weight\", \"encoder.stage_3.1.bn2.weight\", \"encoder.stage_3.1.bn2.bias\", \"encoder.stage_3.1.bn2.running_mean\", \"encoder.stage_3.1.bn2.running_var\", \"encoder.stage_3.2.conv1.weight\", \"encoder.stage_3.2.bn1.weight\", \"encoder.stage_3.2.bn1.bias\", \"encoder.stage_3.2.bn1.running_mean\", \"encoder.stage_3.2.bn1.running_var\", \"encoder.stage_3.2.conv2.weight\", \"encoder.stage_3.2.bn2.weight\", \"encoder.stage_3.2.bn2.bias\", \"encoder.stage_3.2.bn2.running_mean\", \"encoder.stage_3.2.bn2.running_var\", \"mid_block.conv1.weight\", \"mid_block.bn1.weight\", \"mid_block.bn1.bias\", \"mid_block.bn1.running_mean\", \"mid_block.bn1.running_var\", \"mid_block.conv2.weight\", \"mid_block.bn2.weight\", \"mid_block.bn2.bias\", \"mid_block.bn2.running_mean\", \"mid_block.bn2.running_var\", \"decoder.stage_3.0.conv.0.weight\", \"decoder.stage_3.0.conv.1.weight\", \"decoder.stage_3.0.conv.1.bias\", \"decoder.stage_3.0.conv.1.running_mean\", \"decoder.stage_3.0.conv.1.running_var\", \"decoder.stage_3.2.0.conv1.weight\", \"decoder.stage_3.2.0.bn1.weight\", \"decoder.stage_3.2.0.bn1.bias\", \"decoder.stage_3.2.0.bn1.running_mean\", \"decoder.stage_3.2.0.bn1.running_var\", \"decoder.stage_3.2.0.conv2.weight\", \"decoder.stage_3.2.0.bn2.weight\", \"decoder.stage_3.2.0.bn2.bias\", \"decoder.stage_3.2.0.bn2.running_mean\", \"decoder.stage_3.2.0.bn2.running_var\", \"decoder.stage_3.2.0.downsample.0.weight\", \"decoder.stage_3.2.0.downsample.1.weight\", \"decoder.stage_3.2.0.downsample.1.bias\", \"decoder.stage_3.2.0.downsample.1.running_mean\", \"decoder.stage_3.2.0.downsample.1.running_var\", \"decoder.stage_3.2.1.conv1.weight\", \"decoder.stage_3.2.1.bn1.weight\", \"decoder.stage_3.2.1.bn1.bias\", \"decoder.stage_3.2.1.bn1.running_mean\", \"decoder.stage_3.2.1.bn1.running_var\", \"decoder.stage_3.2.1.conv2.weight\", \"decoder.stage_3.2.1.bn2.weight\", \"decoder.stage_3.2.1.bn2.bias\", \"decoder.stage_3.2.1.bn2.running_mean\", \"decoder.stage_3.2.1.bn2.running_var\", \"decoder.stage_3.2.2.conv1.weight\", \"decoder.stage_3.2.2.bn1.weight\", \"decoder.stage_3.2.2.bn1.bias\", \"decoder.stage_3.2.2.bn1.running_mean\", \"decoder.stage_3.2.2.bn1.running_var\", \"decoder.stage_3.2.2.conv2.weight\", \"decoder.stage_3.2.2.bn2.weight\", \"decoder.stage_3.2.2.bn2.bias\", \"decoder.stage_3.2.2.bn2.running_mean\", \"decoder.stage_3.2.2.bn2.running_var\", \"decoder.stage_2.0.conv.0.weight\", \"decoder.stage_2.0.conv.1.weight\", \"decoder.stage_2.0.conv.1.bias\", \"decoder.stage_2.0.conv.1.running_mean\", \"decoder.stage_2.0.conv.1.running_var\", \"decoder.stage_2.2.0.conv1.weight\", \"decoder.stage_2.2.0.bn1.weight\", \"decoder.stage_2.2.0.bn1.bias\", \"decoder.stage_2.2.0.bn1.running_mean\", \"decoder.stage_2.2.0.bn1.running_var\", \"decoder.stage_2.2.0.conv2.weight\", \"decoder.stage_2.2.0.bn2.weight\", \"decoder.stage_2.2.0.bn2.bias\", \"decoder.stage_2.2.0.bn2.running_mean\", \"decoder.stage_2.2.0.bn2.running_var\", \"decoder.stage_2.2.0.downsample.0.weight\", \"decoder.stage_2.2.0.downsample.1.weight\", \"decoder.stage_2.2.0.downsample.1.bias\", \"decoder.stage_2.2.0.downsample.1.running_mean\", \"decoder.stage_2.2.0.downsample.1.running_var\", \"decoder.stage_2.2.1.conv1.weight\", \"decoder.stage_2.2.1.bn1.weight\", \"decoder.stage_2.2.1.bn1.bias\", \"decoder.stage_2.2.1.bn1.running_mean\", \"decoder.stage_2.2.1.bn1.running_var\", \"decoder.stage_2.2.1.conv2.weight\", \"decoder.stage_2.2.1.bn2.weight\", \"decoder.stage_2.2.1.bn2.bias\", \"decoder.stage_2.2.1.bn2.running_mean\", \"decoder.stage_2.2.1.bn2.running_var\", \"decoder.stage_2.2.2.conv1.weight\", \"decoder.stage_2.2.2.bn1.weight\", \"decoder.stage_2.2.2.bn1.bias\", \"decoder.stage_2.2.2.bn1.running_mean\", \"decoder.stage_2.2.2.bn1.running_var\", \"decoder.stage_2.2.2.conv2.weight\", \"decoder.stage_2.2.2.bn2.weight\", \"decoder.stage_2.2.2.bn2.bias\", \"decoder.stage_2.2.2.bn2.running_mean\", \"decoder.stage_2.2.2.bn2.running_var\", \"decoder.stage_1.0.conv.0.weight\", \"decoder.stage_1.0.conv.1.weight\", \"decoder.stage_1.0.conv.1.bias\", \"decoder.stage_1.0.conv.1.running_mean\", \"decoder.stage_1.0.conv.1.running_var\", \"decoder.stage_1.2.0.conv1.weight\", \"decoder.stage_1.2.0.bn1.weight\", \"decoder.stage_1.2.0.bn1.bias\", \"decoder.stage_1.2.0.bn1.running_mean\", \"decoder.stage_1.2.0.bn1.running_var\", \"decoder.stage_1.2.0.conv2.weight\", \"decoder.stage_1.2.0.bn2.weight\", \"decoder.stage_1.2.0.bn2.bias\", \"decoder.stage_1.2.0.bn2.running_mean\", \"decoder.stage_1.2.0.bn2.running_var\", \"decoder.stage_1.2.0.downsample.0.weight\", \"decoder.stage_1.2.0.downsample.1.weight\", \"decoder.stage_1.2.0.downsample.1.bias\", \"decoder.stage_1.2.0.downsample.1.running_mean\", \"decoder.stage_1.2.0.downsample.1.running_var\", \"decoder.stage_1.2.1.conv1.weight\", \"decoder.stage_1.2.1.bn1.weight\", \"decoder.stage_1.2.1.bn1.bias\", \"decoder.stage_1.2.1.bn1.running_mean\", \"decoder.stage_1.2.1.bn1.running_var\", \"decoder.stage_1.2.1.conv2.weight\", \"decoder.stage_1.2.1.bn2.weight\", \"decoder.stage_1.2.1.bn2.bias\", \"decoder.stage_1.2.1.bn2.running_mean\", \"decoder.stage_1.2.1.bn2.running_var\", \"decoder.stage_1.2.2.conv1.weight\", \"decoder.stage_1.2.2.bn1.weight\", \"decoder.stage_1.2.2.bn1.bias\", \"decoder.stage_1.2.2.bn1.running_mean\", \"decoder.stage_1.2.2.bn1.running_var\", \"decoder.stage_1.2.2.conv2.weight\", \"decoder.stage_1.2.2.bn2.weight\", \"decoder.stage_1.2.2.bn2.bias\", \"decoder.stage_1.2.2.bn2.running_mean\", \"decoder.stage_1.2.2.bn2.running_var\", \"decoder.stage_0.2.0.conv1.weight\", \"decoder.stage_0.2.0.bn1.weight\", \"decoder.stage_0.2.0.bn1.bias\", \"decoder.stage_0.2.0.bn1.running_mean\", \"decoder.stage_0.2.0.bn1.running_var\", \"decoder.stage_0.2.0.conv2.weight\", \"decoder.stage_0.2.0.bn2.weight\", \"decoder.stage_0.2.0.bn2.bias\", \"decoder.stage_0.2.0.bn2.running_mean\", \"decoder.stage_0.2.0.bn2.running_var\", \"decoder.stage_0.2.0.downsample.0.weight\", \"decoder.stage_0.2.0.downsample.1.weight\", \"decoder.stage_0.2.0.downsample.1.bias\", \"decoder.stage_0.2.0.downsample.1.running_mean\", \"decoder.stage_0.2.0.downsample.1.running_var\", \"decoder.stage_0.2.1.conv1.weight\", \"decoder.stage_0.2.1.bn1.weight\", \"decoder.stage_0.2.1.bn1.bias\", \"decoder.stage_0.2.1.bn1.running_mean\", \"decoder.stage_0.2.1.bn1.running_var\", \"decoder.stage_0.2.1.conv2.weight\", \"decoder.stage_0.2.1.bn2.weight\", \"decoder.stage_0.2.1.bn2.bias\", \"decoder.stage_0.2.1.bn2.running_mean\", \"decoder.stage_0.2.1.bn2.running_var\", \"decoder.stage_0.2.2.conv1.weight\", \"decoder.stage_0.2.2.bn1.weight\", \"decoder.stage_0.2.2.bn1.bias\", \"decoder.stage_0.2.2.bn1.running_mean\", \"decoder.stage_0.2.2.bn1.running_var\", \"decoder.stage_0.2.2.conv2.weight\", \"decoder.stage_0.2.2.bn2.weight\", \"decoder.stage_0.2.2.bn2.bias\", \"decoder.stage_0.2.2.bn2.running_mean\", \"decoder.stage_0.2.2.bn2.running_var\", \"conv_output.weight\". \n\tUnexpected key(s) in state_dict: \"segmentation_head.0.weight\", \"segmentation_head.0.bias\", \"encoder.conv1.weight\", \"encoder.bn1.weight\", \"encoder.bn1.bias\", \"encoder.bn1.running_mean\", \"encoder.bn1.running_var\", \"encoder.bn1.num_batches_tracked\", \"encoder.layer1.0.conv1.weight\", \"encoder.layer1.0.bn1.weight\", \"encoder.layer1.0.bn1.bias\", \"encoder.layer1.0.bn1.running_mean\", \"encoder.layer1.0.bn1.running_var\", \"encoder.layer1.0.bn1.num_batches_tracked\", \"encoder.layer1.0.conv2.weight\", \"encoder.layer1.0.bn2.weight\", \"encoder.layer1.0.bn2.bias\", \"encoder.layer1.0.bn2.running_mean\", \"encoder.layer1.0.bn2.running_var\", \"encoder.layer1.0.bn2.num_batches_tracked\", \"encoder.layer1.0.conv3.weight\", \"encoder.layer1.0.bn3.weight\", \"encoder.layer1.0.bn3.bias\", \"encoder.layer1.0.bn3.running_mean\", \"encoder.layer1.0.bn3.running_var\", \"encoder.layer1.0.bn3.num_batches_tracked\", \"encoder.layer1.0.downsample.0.weight\", \"encoder.layer1.0.downsample.1.weight\", \"encoder.layer1.0.downsample.1.bias\", \"encoder.layer1.0.downsample.1.running_mean\", \"encoder.layer1.0.downsample.1.running_var\", \"encoder.layer1.0.downsample.1.num_batches_tracked\", \"encoder.layer1.1.conv1.weight\", \"encoder.layer1.1.bn1.weight\", \"encoder.layer1.1.bn1.bias\", \"encoder.layer1.1.bn1.running_mean\", \"encoder.layer1.1.bn1.running_var\", \"encoder.layer1.1.bn1.num_batches_tracked\", \"encoder.layer1.1.conv2.weight\", \"encoder.layer1.1.bn2.weight\", \"encoder.layer1.1.bn2.bias\", \"encoder.layer1.1.bn2.running_mean\", \"encoder.layer1.1.bn2.running_var\", \"encoder.layer1.1.bn2.num_batches_tracked\", \"encoder.layer1.1.conv3.weight\", \"encoder.layer1.1.bn3.weight\", \"encoder.layer1.1.bn3.bias\", \"encoder.layer1.1.bn3.running_mean\", \"encoder.layer1.1.bn3.running_var\", \"encoder.layer1.1.bn3.num_batches_tracked\", \"encoder.layer1.2.conv1.weight\", \"encoder.layer1.2.bn1.weight\", \"encoder.layer1.2.bn1.bias\", \"encoder.layer1.2.bn1.running_mean\", \"encoder.layer1.2.bn1.running_var\", \"encoder.layer1.2.bn1.num_batches_tracked\", \"encoder.layer1.2.conv2.weight\", \"encoder.layer1.2.bn2.weight\", \"encoder.layer1.2.bn2.bias\", \"encoder.layer1.2.bn2.running_mean\", \"encoder.layer1.2.bn2.running_var\", \"encoder.layer1.2.bn2.num_batches_tracked\", \"encoder.layer1.2.conv3.weight\", \"encoder.layer1.2.bn3.weight\", \"encoder.layer1.2.bn3.bias\", \"encoder.layer1.2.bn3.running_mean\", \"encoder.layer1.2.bn3.running_var\", \"encoder.layer1.2.bn3.num_batches_tracked\", \"encoder.layer2.0.conv1.weight\", \"encoder.layer2.0.bn1.weight\", \"encoder.layer2.0.bn1.bias\", \"encoder.layer2.0.bn1.running_mean\", \"encoder.layer2.0.bn1.running_var\", \"encoder.layer2.0.bn1.num_batches_tracked\", \"encoder.layer2.0.conv2.weight\", \"encoder.layer2.0.bn2.weight\", \"encoder.layer2.0.bn2.bias\", \"encoder.layer2.0.bn2.running_mean\", \"encoder.layer2.0.bn2.running_var\", \"encoder.layer2.0.bn2.num_batches_tracked\", \"encoder.layer2.0.conv3.weight\", \"encoder.layer2.0.bn3.weight\", \"encoder.layer2.0.bn3.bias\", \"encoder.layer2.0.bn3.running_mean\", \"encoder.layer2.0.bn3.running_var\", \"encoder.layer2.0.bn3.num_batches_tracked\", \"encoder.layer2.0.downsample.0.weight\", \"encoder.layer2.0.downsample.1.weight\", \"encoder.layer2.0.downsample.1.bias\", \"encoder.layer2.0.downsample.1.running_mean\", \"encoder.layer2.0.downsample.1.running_var\", \"encoder.layer2.0.downsample.1.num_batches_tracked\", \"encoder.layer2.1.conv1.weight\", \"encoder.layer2.1.bn1.weight\", \"encoder.layer2.1.bn1.bias\", \"encoder.layer2.1.bn1.running_mean\", \"encoder.layer2.1.bn1.running_var\", \"encoder.layer2.1.bn1.num_batches_tracked\", \"encoder.layer2.1.conv2.weight\", \"encoder.layer2.1.bn2.weight\", \"encoder.layer2.1.bn2.bias\", \"encoder.layer2.1.bn2.running_mean\", \"encoder.layer2.1.bn2.running_var\", \"encoder.layer2.1.bn2.num_batches_tracked\", \"encoder.layer2.1.conv3.weight\", \"encoder.layer2.1.bn3.weight\", \"encoder.layer2.1.bn3.bias\", \"encoder.layer2.1.bn3.running_mean\", \"encoder.layer2.1.bn3.running_var\", \"encoder.layer2.1.bn3.num_batches_tracked\", \"encoder.layer2.2.conv1.weight\", \"encoder.layer2.2.bn1.weight\", \"encoder.layer2.2.bn1.bias\", \"encoder.layer2.2.bn1.running_mean\", \"encoder.layer2.2.bn1.running_var\", \"encoder.layer2.2.bn1.num_batches_tracked\", \"encoder.layer2.2.conv2.weight\", \"encoder.layer2.2.bn2.weight\", \"encoder.layer2.2.bn2.bias\", \"encoder.layer2.2.bn2.running_mean\", \"encoder.layer2.2.bn2.running_var\", \"encoder.layer2.2.bn2.num_batches_tracked\", \"encoder.layer2.2.conv3.weight\", \"encoder.layer2.2.bn3.weight\", \"encoder.layer2.2.bn3.bias\", \"encoder.layer2.2.bn3.running_mean\", \"encoder.layer2.2.bn3.running_var\", \"encoder.layer2.2.bn3.num_batches_tracked\", \"encoder.layer2.3.conv1.weight\", \"encoder.layer2.3.bn1.weight\", \"encoder.layer2.3.bn1.bias\", \"encoder.layer2.3.bn1.running_mean\", \"encoder.layer2.3.bn1.running_var\", \"encoder.layer2.3.bn1.num_batches_tracked\", \"encoder.layer2.3.conv2.weight\", \"encoder.layer2.3.bn2.weight\", \"encoder.layer2.3.bn2.bias\", \"encoder.layer2.3.bn2.running_mean\", \"encoder.layer2.3.bn2.running_var\", \"encoder.layer2.3.bn2.num_batches_tracked\", \"encoder.layer2.3.conv3.weight\", \"encoder.layer2.3.bn3.weight\", \"encoder.layer2.3.bn3.bias\", \"encoder.layer2.3.bn3.running_mean\", \"encoder.layer2.3.bn3.running_var\", \"encoder.layer2.3.bn3.num_batches_tracked\", \"encoder.layer3.0.conv1.weight\", \"encoder.layer3.0.bn1.weight\", \"encoder.layer3.0.bn1.bias\", \"encoder.layer3.0.bn1.running_mean\", \"encoder.layer3.0.bn1.running_var\", \"encoder.layer3.0.bn1.num_batches_tracked\", \"encoder.layer3.0.conv2.weight\", \"encoder.layer3.0.bn2.weight\", \"encoder.layer3.0.bn2.bias\", \"encoder.layer3.0.bn2.running_mean\", \"encoder.layer3.0.bn2.running_var\", \"encoder.layer3.0.bn2.num_batches_tracked\", \"encoder.layer3.0.conv3.weight\", \"encoder.layer3.0.bn3.weight\", \"encoder.layer3.0.bn3.bias\", \"encoder.layer3.0.bn3.running_mean\", \"encoder.layer3.0.bn3.running_var\", \"encoder.layer3.0.bn3.num_batches_tracked\", \"encoder.layer3.0.downsample.0.weight\", \"encoder.layer3.0.downsample.1.weight\", \"encoder.layer3.0.downsample.1.bias\", \"encoder.layer3.0.downsample.1.running_mean\", \"encoder.layer3.0.downsample.1.running_var\", \"encoder.layer3.0.downsample.1.num_batches_tracked\", \"encoder.layer3.1.conv1.weight\", \"encoder.layer3.1.bn1.weight\", \"encoder.layer3.1.bn1.bias\", \"encoder.layer3.1.bn1.running_mean\", \"encoder.layer3.1.bn1.running_var\", \"encoder.layer3.1.bn1.num_batches_tracked\", \"encoder.layer3.1.conv2.weight\", \"encoder.layer3.1.bn2.weight\", \"encoder.layer3.1.bn2.bias\", \"encoder.layer3.1.bn2.running_mean\", \"encoder.layer3.1.bn2.running_var\", \"encoder.layer3.1.bn2.num_batches_tracked\", \"encoder.layer3.1.conv3.weight\", \"encoder.layer3.1.bn3.weight\", \"encoder.layer3.1.bn3.bias\", \"encoder.layer3.1.bn3.running_mean\", \"encoder.layer3.1.bn3.running_var\", \"encoder.layer3.1.bn3.num_batches_tracked\", \"encoder.layer3.2.conv1.weight\", \"encoder.layer3.2.bn1.weight\", \"encoder.layer3.2.bn1.bias\", \"encoder.layer3.2.bn1.running_mean\", \"encoder.layer3.2.bn1.running_var\", \"encoder.layer3.2.bn1.num_batches_tracked\", \"encoder.layer3.2.conv2.weight\", \"encoder.layer3.2.bn2.weight\", \"encoder.layer3.2.bn2.bias\", \"encoder.layer3.2.bn2.running_mean\", \"encoder.layer3.2.bn2.running_var\", \"encoder.layer3.2.bn2.num_batches_tracked\", \"encoder.layer3.2.conv3.weight\", \"encoder.layer3.2.bn3.weight\", \"encoder.layer3.2.bn3.bias\", \"encoder.layer3.2.bn3.running_mean\", \"encoder.layer3.2.bn3.running_var\", \"encoder.layer3.2.bn3.num_batches_tracked\", \"encoder.layer3.3.conv1.weight\", \"encoder.layer3.3.bn1.weight\", \"encoder.layer3.3.bn1.bias\", \"encoder.layer3.3.bn1.running_mean\", \"encoder.layer3.3.bn1.running_var\", \"encoder.layer3.3.bn1.num_batches_tracked\", \"encoder.layer3.3.conv2.weight\", \"encoder.layer3.3.bn2.weight\", \"encoder.layer3.3.bn2.bias\", \"encoder.layer3.3.bn2.running_mean\", \"encoder.layer3.3.bn2.running_var\", \"encoder.layer3.3.bn2.num_batches_tracked\", \"encoder.layer3.3.conv3.weight\", \"encoder.layer3.3.bn3.weight\", \"encoder.layer3.3.bn3.bias\", \"encoder.layer3.3.bn3.running_mean\", \"encoder.layer3.3.bn3.running_var\", \"encoder.layer3.3.bn3.num_batches_tracked\", \"encoder.layer3.4.conv1.weight\", \"encoder.layer3.4.bn1.weight\", \"encoder.layer3.4.bn1.bias\", \"encoder.layer3.4.bn1.running_mean\", \"encoder.layer3.4.bn1.running_var\", \"encoder.layer3.4.bn1.num_batches_tracked\", \"encoder.layer3.4.conv2.weight\", \"encoder.layer3.4.bn2.weight\", \"encoder.layer3.4.bn2.bias\", \"encoder.layer3.4.bn2.running_mean\", \"encoder.layer3.4.bn2.running_var\", \"encoder.layer3.4.bn2.num_batches_tracked\", \"encoder.layer3.4.conv3.weight\", \"encoder.layer3.4.bn3.weight\", \"encoder.layer3.4.bn3.bias\", \"encoder.layer3.4.bn3.running_mean\", \"encoder.layer3.4.bn3.running_var\", \"encoder.layer3.4.bn3.num_batches_tracked\", \"encoder.layer3.5.conv1.weight\", \"encoder.layer3.5.bn1.weight\", \"encoder.layer3.5.bn1.bias\", \"encoder.layer3.5.bn1.running_mean\", \"encoder.layer3.5.bn1.running_var\", \"encoder.layer3.5.bn1.num_batches_tracked\", \"encoder.layer3.5.conv2.weight\", \"encoder.layer3.5.bn2.weight\", \"encoder.layer3.5.bn2.bias\", \"encoder.layer3.5.bn2.running_mean\", \"encoder.layer3.5.bn2.running_var\", \"encoder.layer3.5.bn2.num_batches_tracked\", \"encoder.layer3.5.conv3.weight\", \"encoder.layer3.5.bn3.weight\", \"encoder.layer3.5.bn3.bias\", \"encoder.layer3.5.bn3.running_mean\", \"encoder.layer3.5.bn3.running_var\", \"encoder.layer3.5.bn3.num_batches_tracked\", \"encoder.layer4.0.conv1.weight\", \"encoder.layer4.0.bn1.weight\", \"encoder.layer4.0.bn1.bias\", \"encoder.layer4.0.bn1.running_mean\", \"encoder.layer4.0.bn1.running_var\", \"encoder.layer4.0.bn1.num_batches_tracked\", \"encoder.layer4.0.conv2.weight\", \"encoder.layer4.0.bn2.weight\", \"encoder.layer4.0.bn2.bias\", \"encoder.layer4.0.bn2.running_mean\", \"encoder.layer4.0.bn2.running_var\", \"encoder.layer4.0.bn2.num_batches_tracked\", \"encoder.layer4.0.conv3.weight\", \"encoder.layer4.0.bn3.weight\", \"encoder.layer4.0.bn3.bias\", \"encoder.layer4.0.bn3.running_mean\", \"encoder.layer4.0.bn3.running_var\", \"encoder.layer4.0.bn3.num_batches_tracked\", \"encoder.layer4.0.downsample.0.weight\", \"encoder.layer4.0.downsample.1.weight\", \"encoder.layer4.0.downsample.1.bias\", \"encoder.layer4.0.downsample.1.running_mean\", \"encoder.layer4.0.downsample.1.running_var\", \"encoder.layer4.0.downsample.1.num_batches_tracked\", \"encoder.layer4.1.conv1.weight\", \"encoder.layer4.1.bn1.weight\", \"encoder.layer4.1.bn1.bias\", \"encoder.layer4.1.bn1.running_mean\", \"encoder.layer4.1.bn1.running_var\", \"encoder.layer4.1.bn1.num_batches_tracked\", \"encoder.layer4.1.conv2.weight\", \"encoder.layer4.1.bn2.weight\", \"encoder.layer4.1.bn2.bias\", \"encoder.layer4.1.bn2.running_mean\", \"encoder.layer4.1.bn2.running_var\", \"encoder.layer4.1.bn2.num_batches_tracked\", \"encoder.layer4.1.conv3.weight\", \"encoder.layer4.1.bn3.weight\", \"encoder.layer4.1.bn3.bias\", \"encoder.layer4.1.bn3.running_mean\", \"encoder.layer4.1.bn3.running_var\", \"encoder.layer4.1.bn3.num_batches_tracked\", \"encoder.layer4.2.conv1.weight\", \"encoder.layer4.2.bn1.weight\", \"encoder.layer4.2.bn1.bias\", \"encoder.layer4.2.bn1.running_mean\", \"encoder.layer4.2.bn1.running_var\", \"encoder.layer4.2.bn1.num_batches_tracked\", \"encoder.layer4.2.conv2.weight\", \"encoder.layer4.2.bn2.weight\", \"encoder.layer4.2.bn2.bias\", \"encoder.layer4.2.bn2.running_mean\", \"encoder.layer4.2.bn2.running_var\", \"encoder.layer4.2.bn2.num_batches_tracked\", \"encoder.layer4.2.conv3.weight\", \"encoder.layer4.2.bn3.weight\", \"encoder.layer4.2.bn3.bias\", \"encoder.layer4.2.bn3.running_mean\", \"encoder.layer4.2.bn3.running_var\", \"encoder.layer4.2.bn3.num_batches_tracked\", \"decoder.p5.weight\", \"decoder.p5.bias\", \"decoder.p4.skip_conv.weight\", \"decoder.p4.skip_conv.bias\", \"decoder.p3.skip_conv.weight\", \"decoder.p3.skip_conv.bias\", \"decoder.p2.skip_conv.weight\", \"decoder.p2.skip_conv.bias\", \"decoder.seg_blocks.0.block.0.block.0.weight\", \"decoder.seg_blocks.0.block.0.block.1.weight\", \"decoder.seg_blocks.0.block.0.block.1.bias\", \"decoder.seg_blocks.0.block.1.block.0.weight\", \"decoder.seg_blocks.0.block.1.block.1.weight\", \"decoder.seg_blocks.0.block.1.block.1.bias\", \"decoder.seg_blocks.0.block.2.block.0.weight\", \"decoder.seg_blocks.0.block.2.block.1.weight\", \"decoder.seg_blocks.0.block.2.block.1.bias\", \"decoder.seg_blocks.1.block.0.block.0.weight\", \"decoder.seg_blocks.1.block.0.block.1.weight\", \"decoder.seg_blocks.1.block.0.block.1.bias\", \"decoder.seg_blocks.1.block.1.block.0.weight\", \"decoder.seg_blocks.1.block.1.block.1.weight\", \"decoder.seg_blocks.1.block.1.block.1.bias\", \"decoder.seg_blocks.2.block.0.block.0.weight\", \"decoder.seg_blocks.2.block.0.block.1.weight\", \"decoder.seg_blocks.2.block.0.block.1.bias\", \"decoder.seg_blocks.3.block.0.block.0.weight\", \"decoder.seg_blocks.3.block.0.block.1.weight\", \"decoder.seg_blocks.3.block.0.block.1.bias\". ",
     "output_type": "error",
     "traceback": [
      "\u001b[0;31m---------------------------------------------------------------------------\u001b[0m",
      "\u001b[0;31mRuntimeError\u001b[0m                              Traceback (most recent call last)",
      "Cell \u001b[0;32mIn[14], line 5\u001b[0m\n\u001b[1;32m      2\u001b[0m checkpoint_path2 \u001b[38;5;241m=\u001b[39m \u001b[38;5;124m'\u001b[39m\u001b[38;5;124m./logs/resunet_fpn_e_50_lr_0.01_bs_2/checkpoints/epoch=49-step=103500.ckpt\u001b[39m\u001b[38;5;124m'\u001b[39m\n\u001b[1;32m      4\u001b[0m model3 \u001b[38;5;241m=\u001b[39m resunet\u001b[38;5;241m.\u001b[39mResUNet((\u001b[38;5;241m3\u001b[39m, \u001b[38;5;241m3\u001b[39m, \u001b[38;5;241m3\u001b[39m, \u001b[38;5;241m3\u001b[39m), (\u001b[38;5;241m16\u001b[39m,\u001b[38;5;241m32\u001b[39m,\u001b[38;5;241m64\u001b[39m,\u001b[38;5;241m128\u001b[39m),  in_channels\u001b[38;5;241m=\u001b[39m\u001b[38;5;241m3\u001b[39m)\n\u001b[0;32m----> 5\u001b[0m model3 \u001b[38;5;241m=\u001b[39m load_model_with_checkpoint(checkpoint_path1, model3)\n\u001b[1;32m      7\u001b[0m model3 \u001b[38;5;241m=\u001b[39m resunet\u001b[38;5;241m.\u001b[39mResUNet((\u001b[38;5;241m3\u001b[39m, \u001b[38;5;241m3\u001b[39m, \u001b[38;5;241m3\u001b[39m, \u001b[38;5;241m3\u001b[39m), (\u001b[38;5;241m16\u001b[39m,\u001b[38;5;241m32\u001b[39m,\u001b[38;5;241m64\u001b[39m,\u001b[38;5;241m128\u001b[39m),  in_channels\u001b[38;5;241m=\u001b[39m\u001b[38;5;241m3\u001b[39m)\n\u001b[1;32m      8\u001b[0m model3 \u001b[38;5;241m=\u001b[39m load_model_with_checkpoint(checkpoint_path2, model3)\n",
      "Cell \u001b[0;32mIn[11], line 32\u001b[0m, in \u001b[0;36mload_model_with_checkpoint\u001b[0;34m(checkpoint_path, model)\u001b[0m\n\u001b[1;32m     29\u001b[0m         new_state_dict[k[\u001b[38;5;241m6\u001b[39m:]] \u001b[38;5;241m=\u001b[39m v\n\u001b[1;32m     31\u001b[0m \u001b[38;5;66;03m# Load the model state from the new state dictionary\u001b[39;00m\n\u001b[0;32m---> 32\u001b[0m model\u001b[38;5;241m.\u001b[39mload_state_dict(new_state_dict)\n\u001b[1;32m     34\u001b[0m \u001b[38;5;66;03m# Put the model in evaluation mode\u001b[39;00m\n\u001b[1;32m     35\u001b[0m model\u001b[38;5;241m.\u001b[39meval()\n",
      "File \u001b[0;32m~/anaconda3/envs/mestrado_env/lib/python3.11/site-packages/torch/nn/modules/module.py:2152\u001b[0m, in \u001b[0;36mModule.load_state_dict\u001b[0;34m(self, state_dict, strict, assign)\u001b[0m\n\u001b[1;32m   2147\u001b[0m         error_msgs\u001b[38;5;241m.\u001b[39minsert(\n\u001b[1;32m   2148\u001b[0m             \u001b[38;5;241m0\u001b[39m, \u001b[38;5;124m'\u001b[39m\u001b[38;5;124mMissing key(s) in state_dict: \u001b[39m\u001b[38;5;132;01m{}\u001b[39;00m\u001b[38;5;124m. \u001b[39m\u001b[38;5;124m'\u001b[39m\u001b[38;5;241m.\u001b[39mformat(\n\u001b[1;32m   2149\u001b[0m                 \u001b[38;5;124m'\u001b[39m\u001b[38;5;124m, \u001b[39m\u001b[38;5;124m'\u001b[39m\u001b[38;5;241m.\u001b[39mjoin(\u001b[38;5;124mf\u001b[39m\u001b[38;5;124m'\u001b[39m\u001b[38;5;124m\"\u001b[39m\u001b[38;5;132;01m{\u001b[39;00mk\u001b[38;5;132;01m}\u001b[39;00m\u001b[38;5;124m\"\u001b[39m\u001b[38;5;124m'\u001b[39m \u001b[38;5;28;01mfor\u001b[39;00m k \u001b[38;5;129;01min\u001b[39;00m missing_keys)))\n\u001b[1;32m   2151\u001b[0m \u001b[38;5;28;01mif\u001b[39;00m \u001b[38;5;28mlen\u001b[39m(error_msgs) \u001b[38;5;241m>\u001b[39m \u001b[38;5;241m0\u001b[39m:\n\u001b[0;32m-> 2152\u001b[0m     \u001b[38;5;28;01mraise\u001b[39;00m \u001b[38;5;167;01mRuntimeError\u001b[39;00m(\u001b[38;5;124m'\u001b[39m\u001b[38;5;124mError(s) in loading state_dict for \u001b[39m\u001b[38;5;132;01m{}\u001b[39;00m\u001b[38;5;124m:\u001b[39m\u001b[38;5;130;01m\\n\u001b[39;00m\u001b[38;5;130;01m\\t\u001b[39;00m\u001b[38;5;132;01m{}\u001b[39;00m\u001b[38;5;124m'\u001b[39m\u001b[38;5;241m.\u001b[39mformat(\n\u001b[1;32m   2153\u001b[0m                        \u001b[38;5;28mself\u001b[39m\u001b[38;5;241m.\u001b[39m\u001b[38;5;18m__class__\u001b[39m\u001b[38;5;241m.\u001b[39m\u001b[38;5;18m__name__\u001b[39m, \u001b[38;5;124m\"\u001b[39m\u001b[38;5;130;01m\\n\u001b[39;00m\u001b[38;5;130;01m\\t\u001b[39;00m\u001b[38;5;124m\"\u001b[39m\u001b[38;5;241m.\u001b[39mjoin(error_msgs)))\n\u001b[1;32m   2154\u001b[0m \u001b[38;5;28;01mreturn\u001b[39;00m _IncompatibleKeys(missing_keys, unexpected_keys)\n",
      "\u001b[0;31mRuntimeError\u001b[0m: Error(s) in loading state_dict for ResUNet:\n\tMissing key(s) in state_dict: \"conv1.weight\", \"bn1.weight\", \"bn1.bias\", \"bn1.running_mean\", \"bn1.running_var\", \"encoder.stage_0.0.conv1.weight\", \"encoder.stage_0.0.bn1.weight\", \"encoder.stage_0.0.bn1.bias\", \"encoder.stage_0.0.bn1.running_mean\", \"encoder.stage_0.0.bn1.running_var\", \"encoder.stage_0.0.conv2.weight\", \"encoder.stage_0.0.bn2.weight\", \"encoder.stage_0.0.bn2.bias\", \"encoder.stage_0.0.bn2.running_mean\", \"encoder.stage_0.0.bn2.running_var\", \"encoder.stage_0.0.downsample.0.weight\", \"encoder.stage_0.0.downsample.1.weight\", \"encoder.stage_0.0.downsample.1.bias\", \"encoder.stage_0.0.downsample.1.running_mean\", \"encoder.stage_0.0.downsample.1.running_var\", \"encoder.stage_0.1.conv1.weight\", \"encoder.stage_0.1.bn1.weight\", \"encoder.stage_0.1.bn1.bias\", \"encoder.stage_0.1.bn1.running_mean\", \"encoder.stage_0.1.bn1.running_var\", \"encoder.stage_0.1.conv2.weight\", \"encoder.stage_0.1.bn2.weight\", \"encoder.stage_0.1.bn2.bias\", \"encoder.stage_0.1.bn2.running_mean\", \"encoder.stage_0.1.bn2.running_var\", \"encoder.stage_0.2.conv1.weight\", \"encoder.stage_0.2.bn1.weight\", \"encoder.stage_0.2.bn1.bias\", \"encoder.stage_0.2.bn1.running_mean\", \"encoder.stage_0.2.bn1.running_var\", \"encoder.stage_0.2.conv2.weight\", \"encoder.stage_0.2.bn2.weight\", \"encoder.stage_0.2.bn2.bias\", \"encoder.stage_0.2.bn2.running_mean\", \"encoder.stage_0.2.bn2.running_var\", \"encoder.stage_1.0.conv1.weight\", \"encoder.stage_1.0.bn1.weight\", \"encoder.stage_1.0.bn1.bias\", \"encoder.stage_1.0.bn1.running_mean\", \"encoder.stage_1.0.bn1.running_var\", \"encoder.stage_1.0.conv2.weight\", \"encoder.stage_1.0.bn2.weight\", \"encoder.stage_1.0.bn2.bias\", \"encoder.stage_1.0.bn2.running_mean\", \"encoder.stage_1.0.bn2.running_var\", \"encoder.stage_1.0.downsample.0.weight\", \"encoder.stage_1.0.downsample.1.weight\", \"encoder.stage_1.0.downsample.1.bias\", \"encoder.stage_1.0.downsample.1.running_mean\", \"encoder.stage_1.0.downsample.1.running_var\", \"encoder.stage_1.1.conv1.weight\", \"encoder.stage_1.1.bn1.weight\", \"encoder.stage_1.1.bn1.bias\", \"encoder.stage_1.1.bn1.running_mean\", \"encoder.stage_1.1.bn1.running_var\", \"encoder.stage_1.1.conv2.weight\", \"encoder.stage_1.1.bn2.weight\", \"encoder.stage_1.1.bn2.bias\", \"encoder.stage_1.1.bn2.running_mean\", \"encoder.stage_1.1.bn2.running_var\", \"encoder.stage_1.2.conv1.weight\", \"encoder.stage_1.2.bn1.weight\", \"encoder.stage_1.2.bn1.bias\", \"encoder.stage_1.2.bn1.running_mean\", \"encoder.stage_1.2.bn1.running_var\", \"encoder.stage_1.2.conv2.weight\", \"encoder.stage_1.2.bn2.weight\", \"encoder.stage_1.2.bn2.bias\", \"encoder.stage_1.2.bn2.running_mean\", \"encoder.stage_1.2.bn2.running_var\", \"encoder.stage_2.0.conv1.weight\", \"encoder.stage_2.0.bn1.weight\", \"encoder.stage_2.0.bn1.bias\", \"encoder.stage_2.0.bn1.running_mean\", \"encoder.stage_2.0.bn1.running_var\", \"encoder.stage_2.0.conv2.weight\", \"encoder.stage_2.0.bn2.weight\", \"encoder.stage_2.0.bn2.bias\", \"encoder.stage_2.0.bn2.running_mean\", \"encoder.stage_2.0.bn2.running_var\", \"encoder.stage_2.0.downsample.0.weight\", \"encoder.stage_2.0.downsample.1.weight\", \"encoder.stage_2.0.downsample.1.bias\", \"encoder.stage_2.0.downsample.1.running_mean\", \"encoder.stage_2.0.downsample.1.running_var\", \"encoder.stage_2.1.conv1.weight\", \"encoder.stage_2.1.bn1.weight\", \"encoder.stage_2.1.bn1.bias\", \"encoder.stage_2.1.bn1.running_mean\", \"encoder.stage_2.1.bn1.running_var\", \"encoder.stage_2.1.conv2.weight\", \"encoder.stage_2.1.bn2.weight\", \"encoder.stage_2.1.bn2.bias\", \"encoder.stage_2.1.bn2.running_mean\", \"encoder.stage_2.1.bn2.running_var\", \"encoder.stage_2.2.conv1.weight\", \"encoder.stage_2.2.bn1.weight\", \"encoder.stage_2.2.bn1.bias\", \"encoder.stage_2.2.bn1.running_mean\", \"encoder.stage_2.2.bn1.running_var\", \"encoder.stage_2.2.conv2.weight\", \"encoder.stage_2.2.bn2.weight\", \"encoder.stage_2.2.bn2.bias\", \"encoder.stage_2.2.bn2.running_mean\", \"encoder.stage_2.2.bn2.running_var\", \"encoder.stage_3.0.conv1.weight\", \"encoder.stage_3.0.bn1.weight\", \"encoder.stage_3.0.bn1.bias\", \"encoder.stage_3.0.bn1.running_mean\", \"encoder.stage_3.0.bn1.running_var\", \"encoder.stage_3.0.conv2.weight\", \"encoder.stage_3.0.bn2.weight\", \"encoder.stage_3.0.bn2.bias\", \"encoder.stage_3.0.bn2.running_mean\", \"encoder.stage_3.0.bn2.running_var\", \"encoder.stage_3.0.downsample.0.weight\", \"encoder.stage_3.0.downsample.1.weight\", \"encoder.stage_3.0.downsample.1.bias\", \"encoder.stage_3.0.downsample.1.running_mean\", \"encoder.stage_3.0.downsample.1.running_var\", \"encoder.stage_3.1.conv1.weight\", \"encoder.stage_3.1.bn1.weight\", \"encoder.stage_3.1.bn1.bias\", \"encoder.stage_3.1.bn1.running_mean\", \"encoder.stage_3.1.bn1.running_var\", \"encoder.stage_3.1.conv2.weight\", \"encoder.stage_3.1.bn2.weight\", \"encoder.stage_3.1.bn2.bias\", \"encoder.stage_3.1.bn2.running_mean\", \"encoder.stage_3.1.bn2.running_var\", \"encoder.stage_3.2.conv1.weight\", \"encoder.stage_3.2.bn1.weight\", \"encoder.stage_3.2.bn1.bias\", \"encoder.stage_3.2.bn1.running_mean\", \"encoder.stage_3.2.bn1.running_var\", \"encoder.stage_3.2.conv2.weight\", \"encoder.stage_3.2.bn2.weight\", \"encoder.stage_3.2.bn2.bias\", \"encoder.stage_3.2.bn2.running_mean\", \"encoder.stage_3.2.bn2.running_var\", \"mid_block.conv1.weight\", \"mid_block.bn1.weight\", \"mid_block.bn1.bias\", \"mid_block.bn1.running_mean\", \"mid_block.bn1.running_var\", \"mid_block.conv2.weight\", \"mid_block.bn2.weight\", \"mid_block.bn2.bias\", \"mid_block.bn2.running_mean\", \"mid_block.bn2.running_var\", \"decoder.stage_3.0.conv.0.weight\", \"decoder.stage_3.0.conv.1.weight\", \"decoder.stage_3.0.conv.1.bias\", \"decoder.stage_3.0.conv.1.running_mean\", \"decoder.stage_3.0.conv.1.running_var\", \"decoder.stage_3.2.0.conv1.weight\", \"decoder.stage_3.2.0.bn1.weight\", \"decoder.stage_3.2.0.bn1.bias\", \"decoder.stage_3.2.0.bn1.running_mean\", \"decoder.stage_3.2.0.bn1.running_var\", \"decoder.stage_3.2.0.conv2.weight\", \"decoder.stage_3.2.0.bn2.weight\", \"decoder.stage_3.2.0.bn2.bias\", \"decoder.stage_3.2.0.bn2.running_mean\", \"decoder.stage_3.2.0.bn2.running_var\", \"decoder.stage_3.2.0.downsample.0.weight\", \"decoder.stage_3.2.0.downsample.1.weight\", \"decoder.stage_3.2.0.downsample.1.bias\", \"decoder.stage_3.2.0.downsample.1.running_mean\", \"decoder.stage_3.2.0.downsample.1.running_var\", \"decoder.stage_3.2.1.conv1.weight\", \"decoder.stage_3.2.1.bn1.weight\", \"decoder.stage_3.2.1.bn1.bias\", \"decoder.stage_3.2.1.bn1.running_mean\", \"decoder.stage_3.2.1.bn1.running_var\", \"decoder.stage_3.2.1.conv2.weight\", \"decoder.stage_3.2.1.bn2.weight\", \"decoder.stage_3.2.1.bn2.bias\", \"decoder.stage_3.2.1.bn2.running_mean\", \"decoder.stage_3.2.1.bn2.running_var\", \"decoder.stage_3.2.2.conv1.weight\", \"decoder.stage_3.2.2.bn1.weight\", \"decoder.stage_3.2.2.bn1.bias\", \"decoder.stage_3.2.2.bn1.running_mean\", \"decoder.stage_3.2.2.bn1.running_var\", \"decoder.stage_3.2.2.conv2.weight\", \"decoder.stage_3.2.2.bn2.weight\", \"decoder.stage_3.2.2.bn2.bias\", \"decoder.stage_3.2.2.bn2.running_mean\", \"decoder.stage_3.2.2.bn2.running_var\", \"decoder.stage_2.0.conv.0.weight\", \"decoder.stage_2.0.conv.1.weight\", \"decoder.stage_2.0.conv.1.bias\", \"decoder.stage_2.0.conv.1.running_mean\", \"decoder.stage_2.0.conv.1.running_var\", \"decoder.stage_2.2.0.conv1.weight\", \"decoder.stage_2.2.0.bn1.weight\", \"decoder.stage_2.2.0.bn1.bias\", \"decoder.stage_2.2.0.bn1.running_mean\", \"decoder.stage_2.2.0.bn1.running_var\", \"decoder.stage_2.2.0.conv2.weight\", \"decoder.stage_2.2.0.bn2.weight\", \"decoder.stage_2.2.0.bn2.bias\", \"decoder.stage_2.2.0.bn2.running_mean\", \"decoder.stage_2.2.0.bn2.running_var\", \"decoder.stage_2.2.0.downsample.0.weight\", \"decoder.stage_2.2.0.downsample.1.weight\", \"decoder.stage_2.2.0.downsample.1.bias\", \"decoder.stage_2.2.0.downsample.1.running_mean\", \"decoder.stage_2.2.0.downsample.1.running_var\", \"decoder.stage_2.2.1.conv1.weight\", \"decoder.stage_2.2.1.bn1.weight\", \"decoder.stage_2.2.1.bn1.bias\", \"decoder.stage_2.2.1.bn1.running_mean\", \"decoder.stage_2.2.1.bn1.running_var\", \"decoder.stage_2.2.1.conv2.weight\", \"decoder.stage_2.2.1.bn2.weight\", \"decoder.stage_2.2.1.bn2.bias\", \"decoder.stage_2.2.1.bn2.running_mean\", \"decoder.stage_2.2.1.bn2.running_var\", \"decoder.stage_2.2.2.conv1.weight\", \"decoder.stage_2.2.2.bn1.weight\", \"decoder.stage_2.2.2.bn1.bias\", \"decoder.stage_2.2.2.bn1.running_mean\", \"decoder.stage_2.2.2.bn1.running_var\", \"decoder.stage_2.2.2.conv2.weight\", \"decoder.stage_2.2.2.bn2.weight\", \"decoder.stage_2.2.2.bn2.bias\", \"decoder.stage_2.2.2.bn2.running_mean\", \"decoder.stage_2.2.2.bn2.running_var\", \"decoder.stage_1.0.conv.0.weight\", \"decoder.stage_1.0.conv.1.weight\", \"decoder.stage_1.0.conv.1.bias\", \"decoder.stage_1.0.conv.1.running_mean\", \"decoder.stage_1.0.conv.1.running_var\", \"decoder.stage_1.2.0.conv1.weight\", \"decoder.stage_1.2.0.bn1.weight\", \"decoder.stage_1.2.0.bn1.bias\", \"decoder.stage_1.2.0.bn1.running_mean\", \"decoder.stage_1.2.0.bn1.running_var\", \"decoder.stage_1.2.0.conv2.weight\", \"decoder.stage_1.2.0.bn2.weight\", \"decoder.stage_1.2.0.bn2.bias\", \"decoder.stage_1.2.0.bn2.running_mean\", \"decoder.stage_1.2.0.bn2.running_var\", \"decoder.stage_1.2.0.downsample.0.weight\", \"decoder.stage_1.2.0.downsample.1.weight\", \"decoder.stage_1.2.0.downsample.1.bias\", \"decoder.stage_1.2.0.downsample.1.running_mean\", \"decoder.stage_1.2.0.downsample.1.running_var\", \"decoder.stage_1.2.1.conv1.weight\", \"decoder.stage_1.2.1.bn1.weight\", \"decoder.stage_1.2.1.bn1.bias\", \"decoder.stage_1.2.1.bn1.running_mean\", \"decoder.stage_1.2.1.bn1.running_var\", \"decoder.stage_1.2.1.conv2.weight\", \"decoder.stage_1.2.1.bn2.weight\", \"decoder.stage_1.2.1.bn2.bias\", \"decoder.stage_1.2.1.bn2.running_mean\", \"decoder.stage_1.2.1.bn2.running_var\", \"decoder.stage_1.2.2.conv1.weight\", \"decoder.stage_1.2.2.bn1.weight\", \"decoder.stage_1.2.2.bn1.bias\", \"decoder.stage_1.2.2.bn1.running_mean\", \"decoder.stage_1.2.2.bn1.running_var\", \"decoder.stage_1.2.2.conv2.weight\", \"decoder.stage_1.2.2.bn2.weight\", \"decoder.stage_1.2.2.bn2.bias\", \"decoder.stage_1.2.2.bn2.running_mean\", \"decoder.stage_1.2.2.bn2.running_var\", \"decoder.stage_0.2.0.conv1.weight\", \"decoder.stage_0.2.0.bn1.weight\", \"decoder.stage_0.2.0.bn1.bias\", \"decoder.stage_0.2.0.bn1.running_mean\", \"decoder.stage_0.2.0.bn1.running_var\", \"decoder.stage_0.2.0.conv2.weight\", \"decoder.stage_0.2.0.bn2.weight\", \"decoder.stage_0.2.0.bn2.bias\", \"decoder.stage_0.2.0.bn2.running_mean\", \"decoder.stage_0.2.0.bn2.running_var\", \"decoder.stage_0.2.0.downsample.0.weight\", \"decoder.stage_0.2.0.downsample.1.weight\", \"decoder.stage_0.2.0.downsample.1.bias\", \"decoder.stage_0.2.0.downsample.1.running_mean\", \"decoder.stage_0.2.0.downsample.1.running_var\", \"decoder.stage_0.2.1.conv1.weight\", \"decoder.stage_0.2.1.bn1.weight\", \"decoder.stage_0.2.1.bn1.bias\", \"decoder.stage_0.2.1.bn1.running_mean\", \"decoder.stage_0.2.1.bn1.running_var\", \"decoder.stage_0.2.1.conv2.weight\", \"decoder.stage_0.2.1.bn2.weight\", \"decoder.stage_0.2.1.bn2.bias\", \"decoder.stage_0.2.1.bn2.running_mean\", \"decoder.stage_0.2.1.bn2.running_var\", \"decoder.stage_0.2.2.conv1.weight\", \"decoder.stage_0.2.2.bn1.weight\", \"decoder.stage_0.2.2.bn1.bias\", \"decoder.stage_0.2.2.bn1.running_mean\", \"decoder.stage_0.2.2.bn1.running_var\", \"decoder.stage_0.2.2.conv2.weight\", \"decoder.stage_0.2.2.bn2.weight\", \"decoder.stage_0.2.2.bn2.bias\", \"decoder.stage_0.2.2.bn2.running_mean\", \"decoder.stage_0.2.2.bn2.running_var\", \"conv_output.weight\". \n\tUnexpected key(s) in state_dict: \"segmentation_head.0.weight\", \"segmentation_head.0.bias\", \"encoder.conv1.weight\", \"encoder.bn1.weight\", \"encoder.bn1.bias\", \"encoder.bn1.running_mean\", \"encoder.bn1.running_var\", \"encoder.bn1.num_batches_tracked\", \"encoder.layer1.0.conv1.weight\", \"encoder.layer1.0.bn1.weight\", \"encoder.layer1.0.bn1.bias\", \"encoder.layer1.0.bn1.running_mean\", \"encoder.layer1.0.bn1.running_var\", \"encoder.layer1.0.bn1.num_batches_tracked\", \"encoder.layer1.0.conv2.weight\", \"encoder.layer1.0.bn2.weight\", \"encoder.layer1.0.bn2.bias\", \"encoder.layer1.0.bn2.running_mean\", \"encoder.layer1.0.bn2.running_var\", \"encoder.layer1.0.bn2.num_batches_tracked\", \"encoder.layer1.0.conv3.weight\", \"encoder.layer1.0.bn3.weight\", \"encoder.layer1.0.bn3.bias\", \"encoder.layer1.0.bn3.running_mean\", \"encoder.layer1.0.bn3.running_var\", \"encoder.layer1.0.bn3.num_batches_tracked\", \"encoder.layer1.0.downsample.0.weight\", \"encoder.layer1.0.downsample.1.weight\", \"encoder.layer1.0.downsample.1.bias\", \"encoder.layer1.0.downsample.1.running_mean\", \"encoder.layer1.0.downsample.1.running_var\", \"encoder.layer1.0.downsample.1.num_batches_tracked\", \"encoder.layer1.1.conv1.weight\", \"encoder.layer1.1.bn1.weight\", \"encoder.layer1.1.bn1.bias\", \"encoder.layer1.1.bn1.running_mean\", \"encoder.layer1.1.bn1.running_var\", \"encoder.layer1.1.bn1.num_batches_tracked\", \"encoder.layer1.1.conv2.weight\", \"encoder.layer1.1.bn2.weight\", \"encoder.layer1.1.bn2.bias\", \"encoder.layer1.1.bn2.running_mean\", \"encoder.layer1.1.bn2.running_var\", \"encoder.layer1.1.bn2.num_batches_tracked\", \"encoder.layer1.1.conv3.weight\", \"encoder.layer1.1.bn3.weight\", \"encoder.layer1.1.bn3.bias\", \"encoder.layer1.1.bn3.running_mean\", \"encoder.layer1.1.bn3.running_var\", \"encoder.layer1.1.bn3.num_batches_tracked\", \"encoder.layer1.2.conv1.weight\", \"encoder.layer1.2.bn1.weight\", \"encoder.layer1.2.bn1.bias\", \"encoder.layer1.2.bn1.running_mean\", \"encoder.layer1.2.bn1.running_var\", \"encoder.layer1.2.bn1.num_batches_tracked\", \"encoder.layer1.2.conv2.weight\", \"encoder.layer1.2.bn2.weight\", \"encoder.layer1.2.bn2.bias\", \"encoder.layer1.2.bn2.running_mean\", \"encoder.layer1.2.bn2.running_var\", \"encoder.layer1.2.bn2.num_batches_tracked\", \"encoder.layer1.2.conv3.weight\", \"encoder.layer1.2.bn3.weight\", \"encoder.layer1.2.bn3.bias\", \"encoder.layer1.2.bn3.running_mean\", \"encoder.layer1.2.bn3.running_var\", \"encoder.layer1.2.bn3.num_batches_tracked\", \"encoder.layer2.0.conv1.weight\", \"encoder.layer2.0.bn1.weight\", \"encoder.layer2.0.bn1.bias\", \"encoder.layer2.0.bn1.running_mean\", \"encoder.layer2.0.bn1.running_var\", \"encoder.layer2.0.bn1.num_batches_tracked\", \"encoder.layer2.0.conv2.weight\", \"encoder.layer2.0.bn2.weight\", \"encoder.layer2.0.bn2.bias\", \"encoder.layer2.0.bn2.running_mean\", \"encoder.layer2.0.bn2.running_var\", \"encoder.layer2.0.bn2.num_batches_tracked\", \"encoder.layer2.0.conv3.weight\", \"encoder.layer2.0.bn3.weight\", \"encoder.layer2.0.bn3.bias\", \"encoder.layer2.0.bn3.running_mean\", \"encoder.layer2.0.bn3.running_var\", \"encoder.layer2.0.bn3.num_batches_tracked\", \"encoder.layer2.0.downsample.0.weight\", \"encoder.layer2.0.downsample.1.weight\", \"encoder.layer2.0.downsample.1.bias\", \"encoder.layer2.0.downsample.1.running_mean\", \"encoder.layer2.0.downsample.1.running_var\", \"encoder.layer2.0.downsample.1.num_batches_tracked\", \"encoder.layer2.1.conv1.weight\", \"encoder.layer2.1.bn1.weight\", \"encoder.layer2.1.bn1.bias\", \"encoder.layer2.1.bn1.running_mean\", \"encoder.layer2.1.bn1.running_var\", \"encoder.layer2.1.bn1.num_batches_tracked\", \"encoder.layer2.1.conv2.weight\", \"encoder.layer2.1.bn2.weight\", \"encoder.layer2.1.bn2.bias\", \"encoder.layer2.1.bn2.running_mean\", \"encoder.layer2.1.bn2.running_var\", \"encoder.layer2.1.bn2.num_batches_tracked\", \"encoder.layer2.1.conv3.weight\", \"encoder.layer2.1.bn3.weight\", \"encoder.layer2.1.bn3.bias\", \"encoder.layer2.1.bn3.running_mean\", \"encoder.layer2.1.bn3.running_var\", \"encoder.layer2.1.bn3.num_batches_tracked\", \"encoder.layer2.2.conv1.weight\", \"encoder.layer2.2.bn1.weight\", \"encoder.layer2.2.bn1.bias\", \"encoder.layer2.2.bn1.running_mean\", \"encoder.layer2.2.bn1.running_var\", \"encoder.layer2.2.bn1.num_batches_tracked\", \"encoder.layer2.2.conv2.weight\", \"encoder.layer2.2.bn2.weight\", \"encoder.layer2.2.bn2.bias\", \"encoder.layer2.2.bn2.running_mean\", \"encoder.layer2.2.bn2.running_var\", \"encoder.layer2.2.bn2.num_batches_tracked\", \"encoder.layer2.2.conv3.weight\", \"encoder.layer2.2.bn3.weight\", \"encoder.layer2.2.bn3.bias\", \"encoder.layer2.2.bn3.running_mean\", \"encoder.layer2.2.bn3.running_var\", \"encoder.layer2.2.bn3.num_batches_tracked\", \"encoder.layer2.3.conv1.weight\", \"encoder.layer2.3.bn1.weight\", \"encoder.layer2.3.bn1.bias\", \"encoder.layer2.3.bn1.running_mean\", \"encoder.layer2.3.bn1.running_var\", \"encoder.layer2.3.bn1.num_batches_tracked\", \"encoder.layer2.3.conv2.weight\", \"encoder.layer2.3.bn2.weight\", \"encoder.layer2.3.bn2.bias\", \"encoder.layer2.3.bn2.running_mean\", \"encoder.layer2.3.bn2.running_var\", \"encoder.layer2.3.bn2.num_batches_tracked\", \"encoder.layer2.3.conv3.weight\", \"encoder.layer2.3.bn3.weight\", \"encoder.layer2.3.bn3.bias\", \"encoder.layer2.3.bn3.running_mean\", \"encoder.layer2.3.bn3.running_var\", \"encoder.layer2.3.bn3.num_batches_tracked\", \"encoder.layer3.0.conv1.weight\", \"encoder.layer3.0.bn1.weight\", \"encoder.layer3.0.bn1.bias\", \"encoder.layer3.0.bn1.running_mean\", \"encoder.layer3.0.bn1.running_var\", \"encoder.layer3.0.bn1.num_batches_tracked\", \"encoder.layer3.0.conv2.weight\", \"encoder.layer3.0.bn2.weight\", \"encoder.layer3.0.bn2.bias\", \"encoder.layer3.0.bn2.running_mean\", \"encoder.layer3.0.bn2.running_var\", \"encoder.layer3.0.bn2.num_batches_tracked\", \"encoder.layer3.0.conv3.weight\", \"encoder.layer3.0.bn3.weight\", \"encoder.layer3.0.bn3.bias\", \"encoder.layer3.0.bn3.running_mean\", \"encoder.layer3.0.bn3.running_var\", \"encoder.layer3.0.bn3.num_batches_tracked\", \"encoder.layer3.0.downsample.0.weight\", \"encoder.layer3.0.downsample.1.weight\", \"encoder.layer3.0.downsample.1.bias\", \"encoder.layer3.0.downsample.1.running_mean\", \"encoder.layer3.0.downsample.1.running_var\", \"encoder.layer3.0.downsample.1.num_batches_tracked\", \"encoder.layer3.1.conv1.weight\", \"encoder.layer3.1.bn1.weight\", \"encoder.layer3.1.bn1.bias\", \"encoder.layer3.1.bn1.running_mean\", \"encoder.layer3.1.bn1.running_var\", \"encoder.layer3.1.bn1.num_batches_tracked\", \"encoder.layer3.1.conv2.weight\", \"encoder.layer3.1.bn2.weight\", \"encoder.layer3.1.bn2.bias\", \"encoder.layer3.1.bn2.running_mean\", \"encoder.layer3.1.bn2.running_var\", \"encoder.layer3.1.bn2.num_batches_tracked\", \"encoder.layer3.1.conv3.weight\", \"encoder.layer3.1.bn3.weight\", \"encoder.layer3.1.bn3.bias\", \"encoder.layer3.1.bn3.running_mean\", \"encoder.layer3.1.bn3.running_var\", \"encoder.layer3.1.bn3.num_batches_tracked\", \"encoder.layer3.2.conv1.weight\", \"encoder.layer3.2.bn1.weight\", \"encoder.layer3.2.bn1.bias\", \"encoder.layer3.2.bn1.running_mean\", \"encoder.layer3.2.bn1.running_var\", \"encoder.layer3.2.bn1.num_batches_tracked\", \"encoder.layer3.2.conv2.weight\", \"encoder.layer3.2.bn2.weight\", \"encoder.layer3.2.bn2.bias\", \"encoder.layer3.2.bn2.running_mean\", \"encoder.layer3.2.bn2.running_var\", \"encoder.layer3.2.bn2.num_batches_tracked\", \"encoder.layer3.2.conv3.weight\", \"encoder.layer3.2.bn3.weight\", \"encoder.layer3.2.bn3.bias\", \"encoder.layer3.2.bn3.running_mean\", \"encoder.layer3.2.bn3.running_var\", \"encoder.layer3.2.bn3.num_batches_tracked\", \"encoder.layer3.3.conv1.weight\", \"encoder.layer3.3.bn1.weight\", \"encoder.layer3.3.bn1.bias\", \"encoder.layer3.3.bn1.running_mean\", \"encoder.layer3.3.bn1.running_var\", \"encoder.layer3.3.bn1.num_batches_tracked\", \"encoder.layer3.3.conv2.weight\", \"encoder.layer3.3.bn2.weight\", \"encoder.layer3.3.bn2.bias\", \"encoder.layer3.3.bn2.running_mean\", \"encoder.layer3.3.bn2.running_var\", \"encoder.layer3.3.bn2.num_batches_tracked\", \"encoder.layer3.3.conv3.weight\", \"encoder.layer3.3.bn3.weight\", \"encoder.layer3.3.bn3.bias\", \"encoder.layer3.3.bn3.running_mean\", \"encoder.layer3.3.bn3.running_var\", \"encoder.layer3.3.bn3.num_batches_tracked\", \"encoder.layer3.4.conv1.weight\", \"encoder.layer3.4.bn1.weight\", \"encoder.layer3.4.bn1.bias\", \"encoder.layer3.4.bn1.running_mean\", \"encoder.layer3.4.bn1.running_var\", \"encoder.layer3.4.bn1.num_batches_tracked\", \"encoder.layer3.4.conv2.weight\", \"encoder.layer3.4.bn2.weight\", \"encoder.layer3.4.bn2.bias\", \"encoder.layer3.4.bn2.running_mean\", \"encoder.layer3.4.bn2.running_var\", \"encoder.layer3.4.bn2.num_batches_tracked\", \"encoder.layer3.4.conv3.weight\", \"encoder.layer3.4.bn3.weight\", \"encoder.layer3.4.bn3.bias\", \"encoder.layer3.4.bn3.running_mean\", \"encoder.layer3.4.bn3.running_var\", \"encoder.layer3.4.bn3.num_batches_tracked\", \"encoder.layer3.5.conv1.weight\", \"encoder.layer3.5.bn1.weight\", \"encoder.layer3.5.bn1.bias\", \"encoder.layer3.5.bn1.running_mean\", \"encoder.layer3.5.bn1.running_var\", \"encoder.layer3.5.bn1.num_batches_tracked\", \"encoder.layer3.5.conv2.weight\", \"encoder.layer3.5.bn2.weight\", \"encoder.layer3.5.bn2.bias\", \"encoder.layer3.5.bn2.running_mean\", \"encoder.layer3.5.bn2.running_var\", \"encoder.layer3.5.bn2.num_batches_tracked\", \"encoder.layer3.5.conv3.weight\", \"encoder.layer3.5.bn3.weight\", \"encoder.layer3.5.bn3.bias\", \"encoder.layer3.5.bn3.running_mean\", \"encoder.layer3.5.bn3.running_var\", \"encoder.layer3.5.bn3.num_batches_tracked\", \"encoder.layer4.0.conv1.weight\", \"encoder.layer4.0.bn1.weight\", \"encoder.layer4.0.bn1.bias\", \"encoder.layer4.0.bn1.running_mean\", \"encoder.layer4.0.bn1.running_var\", \"encoder.layer4.0.bn1.num_batches_tracked\", \"encoder.layer4.0.conv2.weight\", \"encoder.layer4.0.bn2.weight\", \"encoder.layer4.0.bn2.bias\", \"encoder.layer4.0.bn2.running_mean\", \"encoder.layer4.0.bn2.running_var\", \"encoder.layer4.0.bn2.num_batches_tracked\", \"encoder.layer4.0.conv3.weight\", \"encoder.layer4.0.bn3.weight\", \"encoder.layer4.0.bn3.bias\", \"encoder.layer4.0.bn3.running_mean\", \"encoder.layer4.0.bn3.running_var\", \"encoder.layer4.0.bn3.num_batches_tracked\", \"encoder.layer4.0.downsample.0.weight\", \"encoder.layer4.0.downsample.1.weight\", \"encoder.layer4.0.downsample.1.bias\", \"encoder.layer4.0.downsample.1.running_mean\", \"encoder.layer4.0.downsample.1.running_var\", \"encoder.layer4.0.downsample.1.num_batches_tracked\", \"encoder.layer4.1.conv1.weight\", \"encoder.layer4.1.bn1.weight\", \"encoder.layer4.1.bn1.bias\", \"encoder.layer4.1.bn1.running_mean\", \"encoder.layer4.1.bn1.running_var\", \"encoder.layer4.1.bn1.num_batches_tracked\", \"encoder.layer4.1.conv2.weight\", \"encoder.layer4.1.bn2.weight\", \"encoder.layer4.1.bn2.bias\", \"encoder.layer4.1.bn2.running_mean\", \"encoder.layer4.1.bn2.running_var\", \"encoder.layer4.1.bn2.num_batches_tracked\", \"encoder.layer4.1.conv3.weight\", \"encoder.layer4.1.bn3.weight\", \"encoder.layer4.1.bn3.bias\", \"encoder.layer4.1.bn3.running_mean\", \"encoder.layer4.1.bn3.running_var\", \"encoder.layer4.1.bn3.num_batches_tracked\", \"encoder.layer4.2.conv1.weight\", \"encoder.layer4.2.bn1.weight\", \"encoder.layer4.2.bn1.bias\", \"encoder.layer4.2.bn1.running_mean\", \"encoder.layer4.2.bn1.running_var\", \"encoder.layer4.2.bn1.num_batches_tracked\", \"encoder.layer4.2.conv2.weight\", \"encoder.layer4.2.bn2.weight\", \"encoder.layer4.2.bn2.bias\", \"encoder.layer4.2.bn2.running_mean\", \"encoder.layer4.2.bn2.running_var\", \"encoder.layer4.2.bn2.num_batches_tracked\", \"encoder.layer4.2.conv3.weight\", \"encoder.layer4.2.bn3.weight\", \"encoder.layer4.2.bn3.bias\", \"encoder.layer4.2.bn3.running_mean\", \"encoder.layer4.2.bn3.running_var\", \"encoder.layer4.2.bn3.num_batches_tracked\", \"decoder.p5.weight\", \"decoder.p5.bias\", \"decoder.p4.skip_conv.weight\", \"decoder.p4.skip_conv.bias\", \"decoder.p3.skip_conv.weight\", \"decoder.p3.skip_conv.bias\", \"decoder.p2.skip_conv.weight\", \"decoder.p2.skip_conv.bias\", \"decoder.seg_blocks.0.block.0.block.0.weight\", \"decoder.seg_blocks.0.block.0.block.1.weight\", \"decoder.seg_blocks.0.block.0.block.1.bias\", \"decoder.seg_blocks.0.block.1.block.0.weight\", \"decoder.seg_blocks.0.block.1.block.1.weight\", \"decoder.seg_blocks.0.block.1.block.1.bias\", \"decoder.seg_blocks.0.block.2.block.0.weight\", \"decoder.seg_blocks.0.block.2.block.1.weight\", \"decoder.seg_blocks.0.block.2.block.1.bias\", \"decoder.seg_blocks.1.block.0.block.0.weight\", \"decoder.seg_blocks.1.block.0.block.1.weight\", \"decoder.seg_blocks.1.block.0.block.1.bias\", \"decoder.seg_blocks.1.block.1.block.0.weight\", \"decoder.seg_blocks.1.block.1.block.1.weight\", \"decoder.seg_blocks.1.block.1.block.1.bias\", \"decoder.seg_blocks.2.block.0.block.0.weight\", \"decoder.seg_blocks.2.block.0.block.1.weight\", \"decoder.seg_blocks.2.block.0.block.1.bias\", \"decoder.seg_blocks.3.block.0.block.0.weight\", \"decoder.seg_blocks.3.block.0.block.1.weight\", \"decoder.seg_blocks.3.block.0.block.1.bias\". "
     ]
    }
   ],
   "source": [
    "checkpoint_path1 = './logs/resunet_fpn_e_50_lr_0.01_bs_2/checkpoints/best_val_loss-epoch=30-val_loss=0.19.ckpt'\n",
    "checkpoint_path2 = './logs/resunet_fpn_e_50_lr_0.01_bs_2/checkpoints/epoch=49-step=103500.ckpt'\n",
    "\n",
    "model3 = resunet.ResUNet((3, 3, 3, 3), (16,32,64,128),  in_channels=3)\n",
    "model3 = load_model_with_checkpoint(checkpoint_path1, model3)\n",
    "\n",
    "model3 = resunet.ResUNet((3, 3, 3, 3), (16,32,64,128),  in_channels=3)\n",
    "model3 = load_model_with_checkpoint(checkpoint_path2, model3)\n"
   ]
  },
  {
   "cell_type": "code",
   "execution_count": 22,
   "id": "97411f40",
   "metadata": {},
   "outputs": [],
   "source": [
    "def plot_examples(ds, model1, model2, model3, n=4):\n",
    "    \"\"\"Plot some example segmentations\"\"\"\n",
    "\n",
    "    indices = random.sample(range(len(ds)),n)\n",
    "    \n",
    "    for i, idx in enumerate(indices):\n",
    "        x, y = ds[idx]\n",
    "        x_or, y_or = ds.get_item(idx)\n",
    "        with torch.no_grad():\n",
    "            y_pred1 = model1(x[None].cuda())[0].cpu()\n",
    "            y_pred2 = model2(x[None].cuda())[0].cpu()\n",
    "            y_pred3 = model3(x[None].cuda())[0].cpu() \n",
    "                       \n",
    "        \n",
    "        x = x*0.2347+0.4394\n",
    "        \n",
    "        y_pred1 = torch.max(y_pred1, dim=0)[1]\n",
    "        y_pred2 = torch.max(y_pred2, dim=0)[1]\n",
    "        y_pred3 = torch.max(y_pred3, dim=0)[1]\n",
    "        \n",
    "        iou1 = perf_funcs.segmentation_accuracy(y_pred1, y[None], meas = ['iou'])\n",
    "        iou2 = perf_funcs.segmentation_accuracy(y_pred2, y[None], meas = ['iou'])\n",
    "        iou3 = perf_funcs.segmentation_accuracy(y_pred3, y[None], meas = ['iou'])\n",
    "    \n",
    "        plt.figure(figsize=[20,5])\n",
    "        plt.subplot(1, 6, 1)\n",
    "        plt.imshow(x_or.permute(1, 2, 0), 'gray')\n",
    "        plt.title('Original image')\n",
    "        plt.subplot(1, 6, 2)\n",
    "        plt.imshow(x.permute(1, 2, 0), 'gray')\n",
    "        plt.title('Augmented image')\n",
    "        plt.subplot(1, 6, 3)\n",
    "        plt.imshow(y==1, 'gray')\n",
    "        plt.title('Ground truth')\n",
    "        plt.subplot(1, 6, 4)\n",
    "        plt.imshow(y_pred1, 'gray')\n",
    "        plt.title(f'Pred Model 1 \\niou: {iou1.numpy():.2f}')\n",
    "        plt.subplot(1, 6, 5)\n",
    "        plt.imshow(y_pred2, 'gray')\n",
    "        plt.title(f'Pred Model 2 \\niou: {iou2.numpy():.2f}')\n",
    "        plt.subplot(1, 6, 6)\n",
    "        plt.imshow(y_pred3, 'gray')\n",
    "        plt.title(f'Pred Model 3 \\niou: {iou3.numpy():.2f}')\n",
    "        plt.show()\n",
    "\n"
   ]
  },
  {
   "cell_type": "code",
   "execution_count": 24,
   "id": "9e7ea8aa",
   "metadata": {},
   "outputs": [
    {
     "ename": "RuntimeError",
     "evalue": "Wrong input shape height=569, width=1536. Expected image height and width divisible by 32. Consider pad your images to shape (576, 1536).",
     "output_type": "error",
     "traceback": [
      "\u001b[0;31m---------------------------------------------------------------------------\u001b[0m",
      "\u001b[0;31mRuntimeError\u001b[0m                              Traceback (most recent call last)",
      "Cell \u001b[0;32mIn[24], line 1\u001b[0m\n\u001b[0;32m----> 1\u001b[0m plot_examples(ds_valid, model, model, model, n\u001b[38;5;241m=\u001b[39m\u001b[38;5;241m3\u001b[39m)\n",
      "Cell \u001b[0;32mIn[22], line 10\u001b[0m, in \u001b[0;36mplot_examples\u001b[0;34m(ds, model1, model2, model3, n)\u001b[0m\n\u001b[1;32m      8\u001b[0m x_or, y_or \u001b[38;5;241m=\u001b[39m ds\u001b[38;5;241m.\u001b[39mget_item(idx)\n\u001b[1;32m      9\u001b[0m \u001b[38;5;28;01mwith\u001b[39;00m torch\u001b[38;5;241m.\u001b[39mno_grad():\n\u001b[0;32m---> 10\u001b[0m     y_pred1 \u001b[38;5;241m=\u001b[39m model1(x[\u001b[38;5;28;01mNone\u001b[39;00m]\u001b[38;5;241m.\u001b[39mcuda())\u001b[38;5;241m.\u001b[39mcpu()\n\u001b[1;32m     11\u001b[0m     y_pred2 \u001b[38;5;241m=\u001b[39m model2(x[\u001b[38;5;28;01mNone\u001b[39;00m]\u001b[38;5;241m.\u001b[39mcuda())\u001b[38;5;241m.\u001b[39mcpu()\n\u001b[1;32m     12\u001b[0m     y_pred3 \u001b[38;5;241m=\u001b[39m model3(x[\u001b[38;5;28;01mNone\u001b[39;00m]\u001b[38;5;241m.\u001b[39mcuda())\u001b[38;5;241m.\u001b[39mcpu() \n",
      "File \u001b[0;32m~/anaconda3/envs/mestrado_env/lib/python3.11/site-packages/torch/nn/modules/module.py:1518\u001b[0m, in \u001b[0;36mModule._wrapped_call_impl\u001b[0;34m(self, *args, **kwargs)\u001b[0m\n\u001b[1;32m   1516\u001b[0m     \u001b[38;5;28;01mreturn\u001b[39;00m \u001b[38;5;28mself\u001b[39m\u001b[38;5;241m.\u001b[39m_compiled_call_impl(\u001b[38;5;241m*\u001b[39margs, \u001b[38;5;241m*\u001b[39m\u001b[38;5;241m*\u001b[39mkwargs)  \u001b[38;5;66;03m# type: ignore[misc]\u001b[39;00m\n\u001b[1;32m   1517\u001b[0m \u001b[38;5;28;01melse\u001b[39;00m:\n\u001b[0;32m-> 1518\u001b[0m     \u001b[38;5;28;01mreturn\u001b[39;00m \u001b[38;5;28mself\u001b[39m\u001b[38;5;241m.\u001b[39m_call_impl(\u001b[38;5;241m*\u001b[39margs, \u001b[38;5;241m*\u001b[39m\u001b[38;5;241m*\u001b[39mkwargs)\n",
      "File \u001b[0;32m~/anaconda3/envs/mestrado_env/lib/python3.11/site-packages/torch/nn/modules/module.py:1527\u001b[0m, in \u001b[0;36mModule._call_impl\u001b[0;34m(self, *args, **kwargs)\u001b[0m\n\u001b[1;32m   1522\u001b[0m \u001b[38;5;66;03m# If we don't have any hooks, we want to skip the rest of the logic in\u001b[39;00m\n\u001b[1;32m   1523\u001b[0m \u001b[38;5;66;03m# this function, and just call forward.\u001b[39;00m\n\u001b[1;32m   1524\u001b[0m \u001b[38;5;28;01mif\u001b[39;00m \u001b[38;5;129;01mnot\u001b[39;00m (\u001b[38;5;28mself\u001b[39m\u001b[38;5;241m.\u001b[39m_backward_hooks \u001b[38;5;129;01mor\u001b[39;00m \u001b[38;5;28mself\u001b[39m\u001b[38;5;241m.\u001b[39m_backward_pre_hooks \u001b[38;5;129;01mor\u001b[39;00m \u001b[38;5;28mself\u001b[39m\u001b[38;5;241m.\u001b[39m_forward_hooks \u001b[38;5;129;01mor\u001b[39;00m \u001b[38;5;28mself\u001b[39m\u001b[38;5;241m.\u001b[39m_forward_pre_hooks\n\u001b[1;32m   1525\u001b[0m         \u001b[38;5;129;01mor\u001b[39;00m _global_backward_pre_hooks \u001b[38;5;129;01mor\u001b[39;00m _global_backward_hooks\n\u001b[1;32m   1526\u001b[0m         \u001b[38;5;129;01mor\u001b[39;00m _global_forward_hooks \u001b[38;5;129;01mor\u001b[39;00m _global_forward_pre_hooks):\n\u001b[0;32m-> 1527\u001b[0m     \u001b[38;5;28;01mreturn\u001b[39;00m forward_call(\u001b[38;5;241m*\u001b[39margs, \u001b[38;5;241m*\u001b[39m\u001b[38;5;241m*\u001b[39mkwargs)\n\u001b[1;32m   1529\u001b[0m \u001b[38;5;28;01mtry\u001b[39;00m:\n\u001b[1;32m   1530\u001b[0m     result \u001b[38;5;241m=\u001b[39m \u001b[38;5;28;01mNone\u001b[39;00m\n",
      "File \u001b[0;32m~/Insync/wesleygalv@gmail.com/Google Drive - Shared with me/Mestrado - Visão Computacional/Pesquisa/Experimentos/fase_2/01_resnet_fpn/train_thin_regions_lightning.py:117\u001b[0m, in \u001b[0;36mLitSeg.forward\u001b[0;34m(self, x)\u001b[0m\n\u001b[1;32m    115\u001b[0m \u001b[38;5;28;01mdef\u001b[39;00m \u001b[38;5;21mforward\u001b[39m(\u001b[38;5;28mself\u001b[39m, x):\n\u001b[1;32m    116\u001b[0m \u001b[38;5;250m    \u001b[39m\u001b[38;5;124;03m'''Defining this method allows using an instance of this class as litseg(x).'''\u001b[39;00m\n\u001b[0;32m--> 117\u001b[0m     \u001b[38;5;28;01mreturn\u001b[39;00m \u001b[38;5;28mself\u001b[39m\u001b[38;5;241m.\u001b[39mmodel(x)\n",
      "File \u001b[0;32m~/anaconda3/envs/mestrado_env/lib/python3.11/site-packages/torch/nn/modules/module.py:1518\u001b[0m, in \u001b[0;36mModule._wrapped_call_impl\u001b[0;34m(self, *args, **kwargs)\u001b[0m\n\u001b[1;32m   1516\u001b[0m     \u001b[38;5;28;01mreturn\u001b[39;00m \u001b[38;5;28mself\u001b[39m\u001b[38;5;241m.\u001b[39m_compiled_call_impl(\u001b[38;5;241m*\u001b[39margs, \u001b[38;5;241m*\u001b[39m\u001b[38;5;241m*\u001b[39mkwargs)  \u001b[38;5;66;03m# type: ignore[misc]\u001b[39;00m\n\u001b[1;32m   1517\u001b[0m \u001b[38;5;28;01melse\u001b[39;00m:\n\u001b[0;32m-> 1518\u001b[0m     \u001b[38;5;28;01mreturn\u001b[39;00m \u001b[38;5;28mself\u001b[39m\u001b[38;5;241m.\u001b[39m_call_impl(\u001b[38;5;241m*\u001b[39margs, \u001b[38;5;241m*\u001b[39m\u001b[38;5;241m*\u001b[39mkwargs)\n",
      "File \u001b[0;32m~/anaconda3/envs/mestrado_env/lib/python3.11/site-packages/torch/nn/modules/module.py:1527\u001b[0m, in \u001b[0;36mModule._call_impl\u001b[0;34m(self, *args, **kwargs)\u001b[0m\n\u001b[1;32m   1522\u001b[0m \u001b[38;5;66;03m# If we don't have any hooks, we want to skip the rest of the logic in\u001b[39;00m\n\u001b[1;32m   1523\u001b[0m \u001b[38;5;66;03m# this function, and just call forward.\u001b[39;00m\n\u001b[1;32m   1524\u001b[0m \u001b[38;5;28;01mif\u001b[39;00m \u001b[38;5;129;01mnot\u001b[39;00m (\u001b[38;5;28mself\u001b[39m\u001b[38;5;241m.\u001b[39m_backward_hooks \u001b[38;5;129;01mor\u001b[39;00m \u001b[38;5;28mself\u001b[39m\u001b[38;5;241m.\u001b[39m_backward_pre_hooks \u001b[38;5;129;01mor\u001b[39;00m \u001b[38;5;28mself\u001b[39m\u001b[38;5;241m.\u001b[39m_forward_hooks \u001b[38;5;129;01mor\u001b[39;00m \u001b[38;5;28mself\u001b[39m\u001b[38;5;241m.\u001b[39m_forward_pre_hooks\n\u001b[1;32m   1525\u001b[0m         \u001b[38;5;129;01mor\u001b[39;00m _global_backward_pre_hooks \u001b[38;5;129;01mor\u001b[39;00m _global_backward_hooks\n\u001b[1;32m   1526\u001b[0m         \u001b[38;5;129;01mor\u001b[39;00m _global_forward_hooks \u001b[38;5;129;01mor\u001b[39;00m _global_forward_pre_hooks):\n\u001b[0;32m-> 1527\u001b[0m     \u001b[38;5;28;01mreturn\u001b[39;00m forward_call(\u001b[38;5;241m*\u001b[39margs, \u001b[38;5;241m*\u001b[39m\u001b[38;5;241m*\u001b[39mkwargs)\n\u001b[1;32m   1529\u001b[0m \u001b[38;5;28;01mtry\u001b[39;00m:\n\u001b[1;32m   1530\u001b[0m     result \u001b[38;5;241m=\u001b[39m \u001b[38;5;28;01mNone\u001b[39;00m\n",
      "File \u001b[0;32m~/anaconda3/envs/mestrado_env/lib/python3.11/site-packages/segmentation_models_pytorch/base/model.py:27\u001b[0m, in \u001b[0;36mSegmentationModel.forward\u001b[0;34m(self, x)\u001b[0m\n\u001b[1;32m     24\u001b[0m \u001b[38;5;28;01mdef\u001b[39;00m \u001b[38;5;21mforward\u001b[39m(\u001b[38;5;28mself\u001b[39m, x):\n\u001b[1;32m     25\u001b[0m \u001b[38;5;250m    \u001b[39m\u001b[38;5;124;03m\"\"\"Sequentially pass `x` trough model`s encoder, decoder and heads\"\"\"\u001b[39;00m\n\u001b[0;32m---> 27\u001b[0m     \u001b[38;5;28mself\u001b[39m\u001b[38;5;241m.\u001b[39mcheck_input_shape(x)\n\u001b[1;32m     29\u001b[0m     features \u001b[38;5;241m=\u001b[39m \u001b[38;5;28mself\u001b[39m\u001b[38;5;241m.\u001b[39mencoder(x)\n\u001b[1;32m     30\u001b[0m     decoder_output \u001b[38;5;241m=\u001b[39m \u001b[38;5;28mself\u001b[39m\u001b[38;5;241m.\u001b[39mdecoder(\u001b[38;5;241m*\u001b[39mfeatures)\n",
      "File \u001b[0;32m~/anaconda3/envs/mestrado_env/lib/python3.11/site-packages/segmentation_models_pytorch/base/model.py:19\u001b[0m, in \u001b[0;36mSegmentationModel.check_input_shape\u001b[0;34m(self, x)\u001b[0m\n\u001b[1;32m     17\u001b[0m new_h \u001b[38;5;241m=\u001b[39m (h \u001b[38;5;241m/\u001b[39m\u001b[38;5;241m/\u001b[39m output_stride \u001b[38;5;241m+\u001b[39m \u001b[38;5;241m1\u001b[39m) \u001b[38;5;241m*\u001b[39m output_stride \u001b[38;5;28;01mif\u001b[39;00m h \u001b[38;5;241m%\u001b[39m output_stride \u001b[38;5;241m!=\u001b[39m \u001b[38;5;241m0\u001b[39m \u001b[38;5;28;01melse\u001b[39;00m h\n\u001b[1;32m     18\u001b[0m new_w \u001b[38;5;241m=\u001b[39m (w \u001b[38;5;241m/\u001b[39m\u001b[38;5;241m/\u001b[39m output_stride \u001b[38;5;241m+\u001b[39m \u001b[38;5;241m1\u001b[39m) \u001b[38;5;241m*\u001b[39m output_stride \u001b[38;5;28;01mif\u001b[39;00m w \u001b[38;5;241m%\u001b[39m output_stride \u001b[38;5;241m!=\u001b[39m \u001b[38;5;241m0\u001b[39m \u001b[38;5;28;01melse\u001b[39;00m w\n\u001b[0;32m---> 19\u001b[0m \u001b[38;5;28;01mraise\u001b[39;00m \u001b[38;5;167;01mRuntimeError\u001b[39;00m(\n\u001b[1;32m     20\u001b[0m     \u001b[38;5;124mf\u001b[39m\u001b[38;5;124m\"\u001b[39m\u001b[38;5;124mWrong input shape height=\u001b[39m\u001b[38;5;132;01m{\u001b[39;00mh\u001b[38;5;132;01m}\u001b[39;00m\u001b[38;5;124m, width=\u001b[39m\u001b[38;5;132;01m{\u001b[39;00mw\u001b[38;5;132;01m}\u001b[39;00m\u001b[38;5;124m. Expected image height and width \u001b[39m\u001b[38;5;124m\"\u001b[39m\n\u001b[1;32m     21\u001b[0m     \u001b[38;5;124mf\u001b[39m\u001b[38;5;124m\"\u001b[39m\u001b[38;5;124mdivisible by \u001b[39m\u001b[38;5;132;01m{\u001b[39;00moutput_stride\u001b[38;5;132;01m}\u001b[39;00m\u001b[38;5;124m. Consider pad your images to shape (\u001b[39m\u001b[38;5;132;01m{\u001b[39;00mnew_h\u001b[38;5;132;01m}\u001b[39;00m\u001b[38;5;124m, \u001b[39m\u001b[38;5;132;01m{\u001b[39;00mnew_w\u001b[38;5;132;01m}\u001b[39;00m\u001b[38;5;124m).\u001b[39m\u001b[38;5;124m\"\u001b[39m\n\u001b[1;32m     22\u001b[0m )\n",
      "\u001b[0;31mRuntimeError\u001b[0m: Wrong input shape height=569, width=1536. Expected image height and width divisible by 32. Consider pad your images to shape (576, 1536)."
     ]
    }
   ],
   "source": [
    "plot_examples(ds_valid, model, model, model, n=3)"
   ]
  }
 ],
 "metadata": {
  "kernelspec": {
   "display_name": "Python 3",
   "language": "python",
   "name": "python3"
  },
  "language_info": {
   "codemirror_mode": {
    "name": "ipython",
    "version": 3
   },
   "file_extension": ".py",
   "mimetype": "text/x-python",
   "name": "python",
   "nbconvert_exporter": "python",
   "pygments_lexer": "ipython3",
   "version": "3.11.5"
  }
 },
 "nbformat": 4,
 "nbformat_minor": 5
}
