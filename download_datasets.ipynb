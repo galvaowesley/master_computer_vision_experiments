{
 "cells": [
  {
   "cell_type": "code",
   "execution_count": 26,
   "metadata": {},
   "outputs": [
    {
     "name": "stdout",
     "output_type": "stream",
     "text": [
      "--2024-04-04 05:35:11--  https://drive.usercontent.google.com/download?id=1xJefQkTwnergpJXX7r0HJQA0IT15nIRR&export=download&confirm=1\n",
      "Resolving drive.usercontent.google.com (drive.usercontent.google.com)... 142.251.167.132, 2607:f8b0:4004:c09::84\n",
      "Connecting to drive.usercontent.google.com (drive.usercontent.google.com)|142.251.167.132|:443... connected.\n",
      "HTTP request sent, awaiting response... "
     ]
    },
    {
     "name": "stdout",
     "output_type": "stream",
     "text": [
      "206 Partial Content\n",
      "Length: 5221237452 (4.9G), 5220040003 (4.9G) remaining [application/octet-stream]\n",
      "Saving to: ‘./master_computer_vision_experiments/datasets.rar’\n",
      "\n",
      "./master_computer_v 100%[===================>]   4.86G  61.4MB/s    in 81s     \n",
      "\n",
      "2024-04-04 05:36:32 (61.1 MB/s) - ‘./master_computer_vision_experiments/datasets.rar’ saved [5221237452/5221237452]\n",
      "\n"
     ]
    }
   ],
   "source": [
    "!wget -c \"https://drive.usercontent.google.com/download?id=1xJefQkTwnergpJXX7r0HJQA0IT15nIRR&export=download&confirm=1\" -O ./master_computer_vision_experiments/datasets.rar"
   ]
  }
 ],
 "metadata": {
  "kernelspec": {
   "display_name": "cloudspace",
   "language": "python",
   "name": "python3"
  },
  "language_info": {
   "codemirror_mode": {
    "name": "ipython",
    "version": 3
   },
   "file_extension": ".py",
   "mimetype": "text/x-python",
   "name": "python",
   "nbconvert_exporter": "python",
   "pygments_lexer": "ipython3",
   "version": "3.10.10"
  }
 },
 "nbformat": 4,
 "nbformat_minor": 2
}
